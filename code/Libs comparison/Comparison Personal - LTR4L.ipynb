{
 "cells": [
  {
   "cell_type": "code",
   "execution_count": 1,
   "metadata": {},
   "outputs": [],
   "source": [
    "import pandas as pd\n",
    "import numpy as np\n",
    "import matplotlib.pyplot as plt\n",
    "import matplotlib.patches as mpatches\n",
    "import matplotlib.patheffects as PathEffects\n",
    "\n",
    "from scipy import stats"
   ]
  },
  {
   "cell_type": "code",
   "execution_count": 2,
   "metadata": {},
   "outputs": [],
   "source": [
    "def get_t_score_from_p_value(p_val_ref,df):\n",
    "    t_score = 1\n",
    "    p_val = 2*(1 - stats.t.cdf(t_score,df=df))\n",
    "    err = 0.0000001\n",
    "    factor = 10\n",
    "\n",
    "    while abs(p_val - p_val_ref) > err:\n",
    "        t_score = t_score + (p_val - p_val_ref)*factor\n",
    "        p_val = 2*(1 - stats.t.cdf(t_score,df=df))\n",
    "        \n",
    "    return t_score"
   ]
  },
  {
   "cell_type": "markdown",
   "metadata": {},
   "source": [
    "# MQ2008"
   ]
  },
  {
   "cell_type": "code",
   "execution_count": 3,
   "metadata": {},
   "outputs": [],
   "source": [
    "folds = [\"fold1\",\"fold2\",\"fold3\",\"fold4\",\"fold5\"]\n",
    "\n",
    "measures_names = [\"P@1\",\"P@2\",\"P@3\",\"P@4\",\"P@5\",\"P@6\",\"P@7\",\"P@8\",\"P@9\",\"P@10\",\"P_Mean\",\n",
    "                  \"NDCG@1\",\"NDCG@2\",\"NDCG@3\",\"NDCG@4\",\"NDCG@5\",\"NDCG@6\",\"NDCG@7\",\"NDCG@8\",\"NDCG@9\",\"NDCG@10\",\n",
    "                  \"NDCG_Mean\"]\n",
    "\n",
    "datasets = [\"train\",\"vali\",\"test\"]"
   ]
  },
  {
   "cell_type": "code",
   "execution_count": 4,
   "metadata": {},
   "outputs": [],
   "source": [
    "dataset_path = \"../../MQ2008/min.txt\"\n",
    "with open(dataset_path) as f:\n",
    "   n = sum(1 for _ in f)\n",
    "\n",
    "n_samples_datasets = [int(0.6*n),int(0.2*n),int(0.2*n)]"
   ]
  },
  {
   "cell_type": "markdown",
   "metadata": {},
   "source": [
    "### NDCG measures for the top models of our personal ListNet implementation"
   ]
  },
  {
   "cell_type": "code",
   "execution_count": 5,
   "metadata": {},
   "outputs": [],
   "source": [
    "my_listnet_path = \"../../MQ2008/results_summary/Results_LETOR_global_vali.csv\"\n",
    "my_listnet_df = pd.read_csv(my_listnet_path)\n",
    "\n",
    "my_listnet_df = my_listnet_df.sort_values(['NDCG_Mean'],ascending=False)\n",
    "my_listnet_top_model_id = my_listnet_df.index[0]"
   ]
  },
  {
   "cell_type": "code",
   "execution_count": 6,
   "metadata": {
    "scrolled": true
   },
   "outputs": [
    {
     "data": {
      "text/html": [
       "<div>\n",
       "<style scoped>\n",
       "    .dataframe tbody tr th:only-of-type {\n",
       "        vertical-align: middle;\n",
       "    }\n",
       "\n",
       "    .dataframe tbody tr th {\n",
       "        vertical-align: top;\n",
       "    }\n",
       "\n",
       "    .dataframe thead th {\n",
       "        text-align: right;\n",
       "    }\n",
       "</style>\n",
       "<table border=\"1\" class=\"dataframe\">\n",
       "  <thead>\n",
       "    <tr style=\"text-align: right;\">\n",
       "      <th></th>\n",
       "      <th>epochs</th>\n",
       "      <th>learning_rate</th>\n",
       "      <th>momemtum</th>\n",
       "      <th>activation</th>\n",
       "      <th>inner_act</th>\n",
       "      <th>number_layers</th>\n",
       "      <th>number_neurons</th>\n",
       "      <th>dropout</th>\n",
       "      <th>P@1</th>\n",
       "      <th>P@2</th>\n",
       "      <th>...</th>\n",
       "      <th>NDCG@3</th>\n",
       "      <th>NDCG@4</th>\n",
       "      <th>NDCG@5</th>\n",
       "      <th>NDCG@6</th>\n",
       "      <th>NDCG@7</th>\n",
       "      <th>NDCG@8</th>\n",
       "      <th>NDCG@9</th>\n",
       "      <th>NDCG@10</th>\n",
       "      <th>NDCG_Mean</th>\n",
       "      <th>NDCG_Var</th>\n",
       "    </tr>\n",
       "  </thead>\n",
       "  <tbody>\n",
       "    <tr>\n",
       "      <th>28</th>\n",
       "      <td>600</td>\n",
       "      <td>0.0025</td>\n",
       "      <td>0.5</td>\n",
       "      <td>linear</td>\n",
       "      <td>relu</td>\n",
       "      <td>1.0</td>\n",
       "      <td>100.0</td>\n",
       "      <td>0.65</td>\n",
       "      <td>0.50000</td>\n",
       "      <td>0.44960</td>\n",
       "      <td>...</td>\n",
       "      <td>0.48128</td>\n",
       "      <td>0.49710</td>\n",
       "      <td>0.51280</td>\n",
       "      <td>0.52386</td>\n",
       "      <td>0.52836</td>\n",
       "      <td>0.48814</td>\n",
       "      <td>0.23820</td>\n",
       "      <td>0.24182</td>\n",
       "      <td>0.440948</td>\n",
       "      <td>0.010778</td>\n",
       "    </tr>\n",
       "    <tr>\n",
       "      <th>24</th>\n",
       "      <td>500</td>\n",
       "      <td>0.0025</td>\n",
       "      <td>0.5</td>\n",
       "      <td>linear</td>\n",
       "      <td>relu</td>\n",
       "      <td>1.0</td>\n",
       "      <td>100.0</td>\n",
       "      <td>0.65</td>\n",
       "      <td>0.48934</td>\n",
       "      <td>0.44684</td>\n",
       "      <td>...</td>\n",
       "      <td>0.47484</td>\n",
       "      <td>0.49366</td>\n",
       "      <td>0.50820</td>\n",
       "      <td>0.52056</td>\n",
       "      <td>0.52520</td>\n",
       "      <td>0.48508</td>\n",
       "      <td>0.23612</td>\n",
       "      <td>0.24006</td>\n",
       "      <td>0.436548</td>\n",
       "      <td>0.010628</td>\n",
       "    </tr>\n",
       "    <tr>\n",
       "      <th>31</th>\n",
       "      <td>600</td>\n",
       "      <td>0.0025</td>\n",
       "      <td>0.5</td>\n",
       "      <td>linear</td>\n",
       "      <td>relu</td>\n",
       "      <td>2.0</td>\n",
       "      <td>100.0</td>\n",
       "      <td>0.80</td>\n",
       "      <td>0.48256</td>\n",
       "      <td>0.44128</td>\n",
       "      <td>...</td>\n",
       "      <td>0.47408</td>\n",
       "      <td>0.49100</td>\n",
       "      <td>0.50692</td>\n",
       "      <td>0.51710</td>\n",
       "      <td>0.52134</td>\n",
       "      <td>0.48150</td>\n",
       "      <td>0.23310</td>\n",
       "      <td>0.23682</td>\n",
       "      <td>0.433206</td>\n",
       "      <td>0.010670</td>\n",
       "    </tr>\n",
       "    <tr>\n",
       "      <th>27</th>\n",
       "      <td>500</td>\n",
       "      <td>0.0025</td>\n",
       "      <td>0.5</td>\n",
       "      <td>linear</td>\n",
       "      <td>relu</td>\n",
       "      <td>2.0</td>\n",
       "      <td>100.0</td>\n",
       "      <td>0.80</td>\n",
       "      <td>0.48086</td>\n",
       "      <td>0.43684</td>\n",
       "      <td>...</td>\n",
       "      <td>0.47028</td>\n",
       "      <td>0.48764</td>\n",
       "      <td>0.50166</td>\n",
       "      <td>0.51322</td>\n",
       "      <td>0.51774</td>\n",
       "      <td>0.47784</td>\n",
       "      <td>0.22948</td>\n",
       "      <td>0.23338</td>\n",
       "      <td>0.430202</td>\n",
       "      <td>0.010633</td>\n",
       "    </tr>\n",
       "    <tr>\n",
       "      <th>23</th>\n",
       "      <td>400</td>\n",
       "      <td>0.0025</td>\n",
       "      <td>0.5</td>\n",
       "      <td>linear</td>\n",
       "      <td>relu</td>\n",
       "      <td>2.0</td>\n",
       "      <td>100.0</td>\n",
       "      <td>0.80</td>\n",
       "      <td>0.47786</td>\n",
       "      <td>0.43704</td>\n",
       "      <td>...</td>\n",
       "      <td>0.46684</td>\n",
       "      <td>0.48602</td>\n",
       "      <td>0.50032</td>\n",
       "      <td>0.51190</td>\n",
       "      <td>0.51654</td>\n",
       "      <td>0.47744</td>\n",
       "      <td>0.23146</td>\n",
       "      <td>0.23494</td>\n",
       "      <td>0.429128</td>\n",
       "      <td>0.010375</td>\n",
       "    </tr>\n",
       "  </tbody>\n",
       "</table>\n",
       "<p>5 rows × 32 columns</p>\n",
       "</div>"
      ],
      "text/plain": [
       "    epochs  learning_rate  momemtum activation inner_act  number_layers  \\\n",
       "28     600         0.0025       0.5     linear      relu            1.0   \n",
       "24     500         0.0025       0.5     linear      relu            1.0   \n",
       "31     600         0.0025       0.5     linear      relu            2.0   \n",
       "27     500         0.0025       0.5     linear      relu            2.0   \n",
       "23     400         0.0025       0.5     linear      relu            2.0   \n",
       "\n",
       "    number_neurons  dropout      P@1      P@2  ...   NDCG@3   NDCG@4   NDCG@5  \\\n",
       "28           100.0     0.65  0.50000  0.44960  ...  0.48128  0.49710  0.51280   \n",
       "24           100.0     0.65  0.48934  0.44684  ...  0.47484  0.49366  0.50820   \n",
       "31           100.0     0.80  0.48256  0.44128  ...  0.47408  0.49100  0.50692   \n",
       "27           100.0     0.80  0.48086  0.43684  ...  0.47028  0.48764  0.50166   \n",
       "23           100.0     0.80  0.47786  0.43704  ...  0.46684  0.48602  0.50032   \n",
       "\n",
       "     NDCG@6   NDCG@7   NDCG@8   NDCG@9  NDCG@10  NDCG_Mean  NDCG_Var  \n",
       "28  0.52386  0.52836  0.48814  0.23820  0.24182   0.440948  0.010778  \n",
       "24  0.52056  0.52520  0.48508  0.23612  0.24006   0.436548  0.010628  \n",
       "31  0.51710  0.52134  0.48150  0.23310  0.23682   0.433206  0.010670  \n",
       "27  0.51322  0.51774  0.47784  0.22948  0.23338   0.430202  0.010633  \n",
       "23  0.51190  0.51654  0.47744  0.23146  0.23494   0.429128  0.010375  \n",
       "\n",
       "[5 rows x 32 columns]"
      ]
     },
     "execution_count": 6,
     "metadata": {},
     "output_type": "execute_result"
    }
   ],
   "source": [
    "#TOP 5 MODELS OF OUR PERSONAL LISTNET IMPLEMENTATION\n",
    "my_listnet_df.head(5)"
   ]
  },
  {
   "cell_type": "code",
   "execution_count": 7,
   "metadata": {},
   "outputs": [
    {
     "data": {
      "text/plain": [
       "0.356508"
      ]
     },
     "execution_count": 7,
     "metadata": {},
     "output_type": "execute_result"
    }
   ],
   "source": [
    "my_listnet_df.iloc[0][\"P_Mean\"]"
   ]
  },
  {
   "cell_type": "markdown",
   "metadata": {},
   "source": [
    "### NDCG measures for the top models of LTR4L implementation"
   ]
  },
  {
   "cell_type": "code",
   "execution_count": 8,
   "metadata": {},
   "outputs": [],
   "source": [
    "ltr4l_path = \"../../MQ2008/results_summary/Results_ltr4l_global_vali.csv\"\n",
    "ltr4l_df = pd.read_csv(ltr4l_path)\n",
    "\n",
    "ltr4l_df = ltr4l_df.sort_values(['NDCG_Mean'],ascending=False)\n",
    "ltr4l_top_model_id = ltr4l_df.index[0]"
   ]
  },
  {
   "cell_type": "code",
   "execution_count": 9,
   "metadata": {
    "scrolled": true
   },
   "outputs": [
    {
     "data": {
      "text/html": [
       "<div>\n",
       "<style scoped>\n",
       "    .dataframe tbody tr th:only-of-type {\n",
       "        vertical-align: middle;\n",
       "    }\n",
       "\n",
       "    .dataframe tbody tr th {\n",
       "        vertical-align: top;\n",
       "    }\n",
       "\n",
       "    .dataframe thead th {\n",
       "        text-align: right;\n",
       "    }\n",
       "</style>\n",
       "<table border=\"1\" class=\"dataframe\">\n",
       "  <thead>\n",
       "    <tr style=\"text-align: right;\">\n",
       "      <th></th>\n",
       "      <th>epochs</th>\n",
       "      <th>learning_rate</th>\n",
       "      <th>momentum</th>\n",
       "      <th>output function</th>\n",
       "      <th>hidden function</th>\n",
       "      <th>nb hidden layers</th>\n",
       "      <th>nb neurons</th>\n",
       "      <th>P@1</th>\n",
       "      <th>P@2</th>\n",
       "      <th>P@3</th>\n",
       "      <th>...</th>\n",
       "      <th>NDCG@3</th>\n",
       "      <th>NDCG@4</th>\n",
       "      <th>NDCG@5</th>\n",
       "      <th>NDCG@6</th>\n",
       "      <th>NDCG@7</th>\n",
       "      <th>NDCG@8</th>\n",
       "      <th>NDCG@9</th>\n",
       "      <th>NDCG@10</th>\n",
       "      <th>NDCG_Mean</th>\n",
       "      <th>NDCG_Var</th>\n",
       "    </tr>\n",
       "  </thead>\n",
       "  <tbody>\n",
       "    <tr>\n",
       "      <th>2</th>\n",
       "      <td>100</td>\n",
       "      <td>0.001</td>\n",
       "      <td>0.10</td>\n",
       "      <td>Identity</td>\n",
       "      <td>NaN</td>\n",
       "      <td>NaN</td>\n",
       "      <td>NaN</td>\n",
       "      <td>0.45874</td>\n",
       "      <td>0.41792</td>\n",
       "      <td>0.39240</td>\n",
       "      <td>...</td>\n",
       "      <td>0.43742</td>\n",
       "      <td>0.45888</td>\n",
       "      <td>0.47838</td>\n",
       "      <td>0.49170</td>\n",
       "      <td>0.49754</td>\n",
       "      <td>0.46064</td>\n",
       "      <td>0.22522</td>\n",
       "      <td>0.22950</td>\n",
       "      <td>0.407946</td>\n",
       "      <td>0.009188</td>\n",
       "    </tr>\n",
       "    <tr>\n",
       "      <th>0</th>\n",
       "      <td>100</td>\n",
       "      <td>0.001</td>\n",
       "      <td>0.01</td>\n",
       "      <td>Identity</td>\n",
       "      <td>NaN</td>\n",
       "      <td>NaN</td>\n",
       "      <td>NaN</td>\n",
       "      <td>0.45872</td>\n",
       "      <td>0.41772</td>\n",
       "      <td>0.39198</td>\n",
       "      <td>...</td>\n",
       "      <td>0.43720</td>\n",
       "      <td>0.45884</td>\n",
       "      <td>0.47826</td>\n",
       "      <td>0.49160</td>\n",
       "      <td>0.49744</td>\n",
       "      <td>0.46050</td>\n",
       "      <td>0.22498</td>\n",
       "      <td>0.22932</td>\n",
       "      <td>0.407856</td>\n",
       "      <td>0.009194</td>\n",
       "    </tr>\n",
       "    <tr>\n",
       "      <th>4</th>\n",
       "      <td>100</td>\n",
       "      <td>0.001</td>\n",
       "      <td>0.30</td>\n",
       "      <td>Identity</td>\n",
       "      <td>NaN</td>\n",
       "      <td>NaN</td>\n",
       "      <td>NaN</td>\n",
       "      <td>0.45832</td>\n",
       "      <td>0.41792</td>\n",
       "      <td>0.39212</td>\n",
       "      <td>...</td>\n",
       "      <td>0.43702</td>\n",
       "      <td>0.45876</td>\n",
       "      <td>0.47812</td>\n",
       "      <td>0.49146</td>\n",
       "      <td>0.49742</td>\n",
       "      <td>0.46056</td>\n",
       "      <td>0.22510</td>\n",
       "      <td>0.22936</td>\n",
       "      <td>0.407744</td>\n",
       "      <td>0.009185</td>\n",
       "    </tr>\n",
       "    <tr>\n",
       "      <th>14</th>\n",
       "      <td>500</td>\n",
       "      <td>0.001</td>\n",
       "      <td>0.10</td>\n",
       "      <td>Identity</td>\n",
       "      <td>NaN</td>\n",
       "      <td>NaN</td>\n",
       "      <td>NaN</td>\n",
       "      <td>0.45620</td>\n",
       "      <td>0.41772</td>\n",
       "      <td>0.39198</td>\n",
       "      <td>...</td>\n",
       "      <td>0.43674</td>\n",
       "      <td>0.45876</td>\n",
       "      <td>0.47796</td>\n",
       "      <td>0.49142</td>\n",
       "      <td>0.49752</td>\n",
       "      <td>0.46062</td>\n",
       "      <td>0.22536</td>\n",
       "      <td>0.22972</td>\n",
       "      <td>0.407578</td>\n",
       "      <td>0.009167</td>\n",
       "    </tr>\n",
       "    <tr>\n",
       "      <th>12</th>\n",
       "      <td>500</td>\n",
       "      <td>0.001</td>\n",
       "      <td>0.01</td>\n",
       "      <td>Identity</td>\n",
       "      <td>NaN</td>\n",
       "      <td>NaN</td>\n",
       "      <td>NaN</td>\n",
       "      <td>0.45620</td>\n",
       "      <td>0.41772</td>\n",
       "      <td>0.39198</td>\n",
       "      <td>...</td>\n",
       "      <td>0.43674</td>\n",
       "      <td>0.45876</td>\n",
       "      <td>0.47796</td>\n",
       "      <td>0.49142</td>\n",
       "      <td>0.49752</td>\n",
       "      <td>0.46062</td>\n",
       "      <td>0.22536</td>\n",
       "      <td>0.22970</td>\n",
       "      <td>0.407576</td>\n",
       "      <td>0.009167</td>\n",
       "    </tr>\n",
       "  </tbody>\n",
       "</table>\n",
       "<p>5 rows × 31 columns</p>\n",
       "</div>"
      ],
      "text/plain": [
       "    epochs  learning_rate  momentum output function hidden function  \\\n",
       "2      100          0.001      0.10        Identity             NaN   \n",
       "0      100          0.001      0.01        Identity             NaN   \n",
       "4      100          0.001      0.30        Identity             NaN   \n",
       "14     500          0.001      0.10        Identity             NaN   \n",
       "12     500          0.001      0.01        Identity             NaN   \n",
       "\n",
       "    nb hidden layers  nb neurons      P@1      P@2      P@3  ...   NDCG@3  \\\n",
       "2                NaN         NaN  0.45874  0.41792  0.39240  ...  0.43742   \n",
       "0                NaN         NaN  0.45872  0.41772  0.39198  ...  0.43720   \n",
       "4                NaN         NaN  0.45832  0.41792  0.39212  ...  0.43702   \n",
       "14               NaN         NaN  0.45620  0.41772  0.39198  ...  0.43674   \n",
       "12               NaN         NaN  0.45620  0.41772  0.39198  ...  0.43674   \n",
       "\n",
       "     NDCG@4   NDCG@5   NDCG@6   NDCG@7   NDCG@8   NDCG@9  NDCG@10  NDCG_Mean  \\\n",
       "2   0.45888  0.47838  0.49170  0.49754  0.46064  0.22522  0.22950   0.407946   \n",
       "0   0.45884  0.47826  0.49160  0.49744  0.46050  0.22498  0.22932   0.407856   \n",
       "4   0.45876  0.47812  0.49146  0.49742  0.46056  0.22510  0.22936   0.407744   \n",
       "14  0.45876  0.47796  0.49142  0.49752  0.46062  0.22536  0.22972   0.407578   \n",
       "12  0.45876  0.47796  0.49142  0.49752  0.46062  0.22536  0.22970   0.407576   \n",
       "\n",
       "    NDCG_Var  \n",
       "2   0.009188  \n",
       "0   0.009194  \n",
       "4   0.009185  \n",
       "14  0.009167  \n",
       "12  0.009167  \n",
       "\n",
       "[5 rows x 31 columns]"
      ]
     },
     "execution_count": 9,
     "metadata": {},
     "output_type": "execute_result"
    }
   ],
   "source": [
    "#TOP 5 MODELS OF THE LTR4L IMPLEMENTATION\n",
    "ltr4l_df.head(5)"
   ]
  },
  {
   "cell_type": "code",
   "execution_count": 10,
   "metadata": {},
   "outputs": [
    {
     "data": {
      "text/plain": [
       "0.341772"
      ]
     },
     "execution_count": 10,
     "metadata": {},
     "output_type": "execute_result"
    }
   ],
   "source": [
    "ltr4l_df.iloc[0][\"P_Mean\"]"
   ]
  },
  {
   "cell_type": "markdown",
   "metadata": {},
   "source": [
    "### Comparison NDCG measures between top model of personal ListNet and LTR4L"
   ]
  },
  {
   "cell_type": "code",
   "execution_count": 12,
   "metadata": {},
   "outputs": [],
   "source": [
    "my_listnet_mean = [[] for x in range(len(datasets))]\n",
    "my_listnet_var = [[] for x in range(len(datasets))]\n",
    "\n",
    "ltr4l_mean = [[] for x in range(len(datasets))]\n",
    "ltr4l_var = [[] for x in range(len(datasets))]\n",
    "\n",
    "for idx_dataset in range(len(datasets)):\n",
    "    my_listnet_list_NDCG = [[] for x in range(len(measures_names))]\n",
    "    ltr4l_list_NDCG = [[] for x in range(len(measures_names))]\n",
    "    \n",
    "    for idx_fold in range(len(folds)):\n",
    "        \n",
    "        my_listnet_path = \"../../MQ2008/results_summary/Results_LETOR_\"+folds[idx_fold]+\\\n",
    "            \"_\"+datasets[idx_dataset]+\".csv\"\n",
    "        ltr4l_path = \"../../MQ2008/results_summary/Results_ltr4l_\"+folds[idx_fold]+\\\n",
    "            \"_\"+datasets[idx_dataset]+\".csv\"\n",
    "\n",
    "        my_listnet_df = pd.read_csv(my_listnet_path)\n",
    "        ltr4l_df = pd.read_csv(ltr4l_path)\n",
    "        \n",
    "        for idx_metric in range(len(measures_names)):\n",
    "            my_listnet_list_NDCG[idx_metric].append(my_listnet_df.iloc[my_listnet_top_model_id][measures_names[idx_metric]])\n",
    "            ltr4l_list_NDCG[idx_metric].append(ltr4l_df.iloc[ltr4l_top_model_id][measures_names[idx_metric]])\n",
    "            \n",
    "    my_listnet_mean[idx_dataset] = np.array(my_listnet_list_NDCG).mean(axis=1)\n",
    "    my_listnet_var[idx_dataset] = np.array(my_listnet_list_NDCG).var(axis=1)\n",
    "    \n",
    "    ltr4l_mean[idx_dataset] = np.array(ltr4l_list_NDCG).mean(axis=1)\n",
    "    ltr4l_var[idx_dataset] = np.array(ltr4l_list_NDCG).var(axis=1)"
   ]
  },
  {
   "cell_type": "code",
   "execution_count": 13,
   "metadata": {
    "scrolled": true
   },
   "outputs": [
    {
     "data": {
      "image/png": "[encoded data removed]",
      "text/plain": [
       "<Figure size 432x288 with 1 Axes>"
      ]
     },
     "metadata": {
      "needs_background": "light"
     },
     "output_type": "display_data"
    },
    {
     "data": {
      "image/png": "[encoded data removed]",
      "text/plain": [
       "<Figure size 432x288 with 1 Axes>"
      ]
     },
     "metadata": {
      "needs_background": "light"
     },
     "output_type": "display_data"
    },
    {
     "data": {
      "image/png": "[encoded data removed]",
      "text/plain": [
       "<Figure size 432x288 with 1 Axes>"
      ]
     },
     "metadata": {
      "needs_background": "light"
     },
     "output_type": "display_data"
    }
   ],
   "source": [
    "indices = range(len(measures_names))\n",
    "width = np.min(np.diff(indices))/3.\n",
    "\n",
    "for idx_dataset in range(len(datasets)):\n",
    "    ax = plt.figure().add_axes([0,0,1,1])\n",
    "    plt.xticks(rotation=90)\n",
    "    ax.bar(indices-width/2, my_listnet_mean[idx_dataset],width, yerr = my_listnet_var[idx_dataset],\\\n",
    "           align='center', alpha=0.6, ecolor='black', capsize=5, label = \"ListNet Datafari\")\n",
    "    ax.bar(indices+width/2, ltr4l_mean[idx_dataset],width, yerr = ltr4l_var[idx_dataset],\\\n",
    "           align='center', alpha=0.6, ecolor='black', capsize=5, label = \"ListNet LTR4L\")\n",
    "    ax.set_title(\"Mean NDCG@1-10 measure for \"+datasets[idx_dataset]+\" set with the top model of each implementation\")\n",
    "    ax.set_xticks(indices)\n",
    "    ax.axes.set_xticklabels(measures_names)\n",
    "    ax.set_ylabel(\"NDCG Mean 1-10\")\n",
    "    ax.legend(loc='best')"
   ]
  },
  {
   "cell_type": "markdown",
   "metadata": {},
   "source": [
    "### Comparing NDCG of the top model of each library with Wilcoxon's signed-rank test"
   ]
  },
  {
   "cell_type": "markdown",
   "metadata": {},
   "source": [
    "We will now compare the results by the two bests models of our libraries with the Wilcoxon's signed-rank test\n",
    "- We take the best model of each library\n",
    "- We study how they perform on each folder\n",
    "- We will compare their NDCG values and use them for the Wilcoxon's signed-rank test"
   ]
  },
  {
   "cell_type": "code",
   "execution_count": 14,
   "metadata": {},
   "outputs": [],
   "source": [
    "measures_names = [\"P@1\",\"P@2\",\"P@3\",\"P@4\",\"P@5\",\"P@6\",\"P@7\",\"P@8\",\"P@9\",\"P@10\",\"P_Mean\",\n",
    "                  \"NDCG@1\",\"NDCG@2\",\"NDCG@3\",\"NDCG@4\",\"NDCG@5\",\"NDCG@6\",\"NDCG@7\",\"NDCG@8\",\"NDCG@9\",\"NDCG@10\",\n",
    "                  \"NDCG_Mean\"]\n",
    "\n",
    "w_score = [[] for x in range(len(datasets))]\n",
    "p_value = [[] for x in range(len(datasets))]\n",
    "\n",
    "sig_lvl = 0.05"
   ]
  },
  {
   "cell_type": "code",
   "execution_count": 15,
   "metadata": {},
   "outputs": [
    {
     "name": "stderr",
     "output_type": "stream",
     "text": [
      "/usr/local/lib/python3.5/dist-packages/scipy/stats/morestats.py:2879: UserWarning: Sample size too small for normal approximation.\n",
      "  warnings.warn(\"Sample size too small for normal approximation.\")\n"
     ]
    }
   ],
   "source": [
    "n = len(folds)\n",
    "\n",
    "for idx_dataset in range(len(datasets)):\n",
    "    diff = [[] for x in range(len(measures_names))]\n",
    "    \n",
    "    for idx_fold in range(len(folds)):\n",
    "        \n",
    "        my_listnet_path = \"../../MQ2008/results_summary/Results_LETOR_\"+folds[idx_fold]+\\\n",
    "            \"_\"+datasets[idx_dataset]+\".csv\"\n",
    "        ltr4l_path = \"../../MQ2008/results_summary/Results_ltr4l_\"+folds[idx_fold]+\\\n",
    "            \"_\"+datasets[idx_dataset]+\".csv\"\n",
    "\n",
    "        my_listnet_df = pd.read_csv(my_listnet_path)\n",
    "        ltr4l_df = pd.read_csv(ltr4l_path)\n",
    "        \n",
    "        for idx_metric in range(len(measures_names)):\n",
    "            my_listnet_NDCG = my_listnet_df.iloc[my_listnet_top_model_id][measures_names[idx_metric]]\n",
    "            ltr4l_NDCG = ltr4l_df.iloc[ltr4l_top_model_id][measures_names[idx_metric]]\n",
    "            diff[idx_metric].append(my_listnet_NDCG - ltr4l_NDCG)\n",
    "            \n",
    "    for idx_metric in range(len(measures_names)):        \n",
    "        w,p= stats.wilcoxon(diff[idx_metric])\n",
    "        w_score[idx_dataset].append(w)\n",
    "        p_value[idx_dataset].append(p)"
   ]
  },
  {
   "cell_type": "code",
   "execution_count": 16,
   "metadata": {
    "scrolled": false
   },
   "outputs": [
    {
     "data": {
      "image/png": "[encoded data removed]",
      "text/plain": [
       "<Figure size 432x288 with 1 Axes>"
      ]
     },
     "metadata": {
      "needs_background": "light"
     },
     "output_type": "display_data"
    },
    {
     "data": {
      "image/png": "[encoded data removed]",
      "text/plain": [
       "<Figure size 432x288 with 1 Axes>"
      ]
     },
     "metadata": {
      "needs_background": "light"
     },
     "output_type": "display_data"
    },
    {
     "data": {
      "image/png": "[encoded data removed]",
      "text/plain": [
       "<Figure size 432x288 with 1 Axes>"
      ]
     },
     "metadata": {
      "needs_background": "light"
     },
     "output_type": "display_data"
    }
   ],
   "source": [
    "red_patch = mpatches.Patch(color='red', label='p value > '+str(sig_lvl))\n",
    "green_patch = mpatches.Patch(color='green', label='p value < '+str(sig_lvl))\n",
    "for idx_dataset in range(len(datasets)):\n",
    "    colors = []\n",
    "    for idx_metric in range(len(measures_names)):\n",
    "        if p_value[idx_dataset][idx_metric] < sig_lvl:\n",
    "            colors.append(\"green\")\n",
    "        else:\n",
    "            colors.append(\"red\")\n",
    "\n",
    "    ax = plt.figure().add_axes([0,0,1,1])\n",
    "    plt.xticks(rotation=90)\n",
    "    ax.bar(measures_names,p_value[idx_dataset],color=colors)\n",
    "    ax.set_title(\"Wilcoxon's p-value between top model of personal implementation and LTR4L (\"+datasets[idx_dataset]+\" set)\")\n",
    "    ax.legend(handles=[red_patch,green_patch])\n",
    "    if any(p > 0.1 for p in p_value[idx_dataset]):\n",
    "        ax.hlines(0.1,-0.5,len(measures_names)-0.5, label=\"p_value > 0.1\")\n",
    "        txt = ax.text(-0.5, 0.1, s=\"p-value > 0.1\", color=\"red\", weight = \"bold\")\n",
    "        txt.set_path_effects([PathEffects.withStroke(linewidth=1.5, foreground='white')])\n",
    "    if any(p > 0.05 for p in p_value[idx_dataset]):\n",
    "        ax.hlines(0.05,-0.5,len(measures_names)-0.5, label=\"p_value > 0.05\")\n",
    "        txt=ax.text(-0.5, 0.05, s=\"p-value > 0.05\", color=\"red\", weight = \"bold\")\n",
    "        txt.set_path_effects([PathEffects.withStroke(linewidth=1.5, foreground='white')])\n",
    "    if any(p > 0.01 for p in p_value[idx_dataset]):\n",
    "        ax.hlines(0.01,-0.5,len(measures_names)-0.5, label=\"p_value > 0.01\")\n",
    "        txt=ax.text(-0.5, 0.01, s=\"p-value > 0.01\", color=\"red\", weight = \"bold\")\n",
    "        txt.set_path_effects([PathEffects.withStroke(linewidth=1.5, foreground='white')])"
   ]
  },
  {
   "cell_type": "code",
   "execution_count": 17,
   "metadata": {},
   "outputs": [
    {
     "data": {
      "text/html": [
       "<style  type=\"text/css\" >\n",
       "</style><table id=\"T_8d1c10a2_0fac_11eb_a315_00505607535e\" ><caption>W score</caption><thead>    <tr>        <th class=\"blank level0\" ></th>        <th class=\"col_heading level0 col0\" >P@1</th>        <th class=\"col_heading level0 col1\" >P@2</th>        <th class=\"col_heading level0 col2\" >P@3</th>        <th class=\"col_heading level0 col3\" >P@4</th>        <th class=\"col_heading level0 col4\" >P@5</th>        <th class=\"col_heading level0 col5\" >P@6</th>        <th class=\"col_heading level0 col6\" >P@7</th>        <th class=\"col_heading level0 col7\" >P@8</th>        <th class=\"col_heading level0 col8\" >P@9</th>        <th class=\"col_heading level0 col9\" >P@10</th>        <th class=\"col_heading level0 col10\" >P_Mean</th>        <th class=\"col_heading level0 col11\" >NDCG@1</th>        <th class=\"col_heading level0 col12\" >NDCG@2</th>        <th class=\"col_heading level0 col13\" >NDCG@3</th>        <th class=\"col_heading level0 col14\" >NDCG@4</th>        <th class=\"col_heading level0 col15\" >NDCG@5</th>        <th class=\"col_heading level0 col16\" >NDCG@6</th>        <th class=\"col_heading level0 col17\" >NDCG@7</th>        <th class=\"col_heading level0 col18\" >NDCG@8</th>        <th class=\"col_heading level0 col19\" >NDCG@9</th>        <th class=\"col_heading level0 col20\" >NDCG@10</th>        <th class=\"col_heading level0 col21\" >NDCG_Mean</th>    </tr></thead><tbody>\n",
       "                <tr>\n",
       "                        <th id=\"T_8d1c10a2_0fac_11eb_a315_00505607535elevel0_row0\" class=\"row_heading level0 row0\" >train</th>\n",
       "                        <td id=\"T_8d1c10a2_0fac_11eb_a315_00505607535erow0_col0\" class=\"data row0 col0\" >3</td>\n",
       "                        <td id=\"T_8d1c10a2_0fac_11eb_a315_00505607535erow0_col1\" class=\"data row0 col1\" >4.5</td>\n",
       "                        <td id=\"T_8d1c10a2_0fac_11eb_a315_00505607535erow0_col2\" class=\"data row0 col2\" >4</td>\n",
       "                        <td id=\"T_8d1c10a2_0fac_11eb_a315_00505607535erow0_col3\" class=\"data row0 col3\" >0</td>\n",
       "                        <td id=\"T_8d1c10a2_0fac_11eb_a315_00505607535erow0_col4\" class=\"data row0 col4\" >0</td>\n",
       "                        <td id=\"T_8d1c10a2_0fac_11eb_a315_00505607535erow0_col5\" class=\"data row0 col5\" >0</td>\n",
       "                        <td id=\"T_8d1c10a2_0fac_11eb_a315_00505607535erow0_col6\" class=\"data row0 col6\" >3</td>\n",
       "                        <td id=\"T_8d1c10a2_0fac_11eb_a315_00505607535erow0_col7\" class=\"data row0 col7\" >2</td>\n",
       "                        <td id=\"T_8d1c10a2_0fac_11eb_a315_00505607535erow0_col8\" class=\"data row0 col8\" >3</td>\n",
       "                        <td id=\"T_8d1c10a2_0fac_11eb_a315_00505607535erow0_col9\" class=\"data row0 col9\" >6</td>\n",
       "                        <td id=\"T_8d1c10a2_0fac_11eb_a315_00505607535erow0_col10\" class=\"data row0 col10\" >4</td>\n",
       "                        <td id=\"T_8d1c10a2_0fac_11eb_a315_00505607535erow0_col11\" class=\"data row0 col11\" >3</td>\n",
       "                        <td id=\"T_8d1c10a2_0fac_11eb_a315_00505607535erow0_col12\" class=\"data row0 col12\" >4</td>\n",
       "                        <td id=\"T_8d1c10a2_0fac_11eb_a315_00505607535erow0_col13\" class=\"data row0 col13\" >6</td>\n",
       "                        <td id=\"T_8d1c10a2_0fac_11eb_a315_00505607535erow0_col14\" class=\"data row0 col14\" >1</td>\n",
       "                        <td id=\"T_8d1c10a2_0fac_11eb_a315_00505607535erow0_col15\" class=\"data row0 col15\" >0</td>\n",
       "                        <td id=\"T_8d1c10a2_0fac_11eb_a315_00505607535erow0_col16\" class=\"data row0 col16\" >4</td>\n",
       "                        <td id=\"T_8d1c10a2_0fac_11eb_a315_00505607535erow0_col17\" class=\"data row0 col17\" >3</td>\n",
       "                        <td id=\"T_8d1c10a2_0fac_11eb_a315_00505607535erow0_col18\" class=\"data row0 col18\" >3</td>\n",
       "                        <td id=\"T_8d1c10a2_0fac_11eb_a315_00505607535erow0_col19\" class=\"data row0 col19\" >0</td>\n",
       "                        <td id=\"T_8d1c10a2_0fac_11eb_a315_00505607535erow0_col20\" class=\"data row0 col20\" >3</td>\n",
       "                        <td id=\"T_8d1c10a2_0fac_11eb_a315_00505607535erow0_col21\" class=\"data row0 col21\" >2</td>\n",
       "            </tr>\n",
       "            <tr>\n",
       "                        <th id=\"T_8d1c10a2_0fac_11eb_a315_00505607535elevel0_row1\" class=\"row_heading level0 row1\" >vali</th>\n",
       "                        <td id=\"T_8d1c10a2_0fac_11eb_a315_00505607535erow1_col0\" class=\"data row1 col0\" >0</td>\n",
       "                        <td id=\"T_8d1c10a2_0fac_11eb_a315_00505607535erow1_col1\" class=\"data row1 col1\" >0</td>\n",
       "                        <td id=\"T_8d1c10a2_0fac_11eb_a315_00505607535erow1_col2\" class=\"data row1 col2\" >0</td>\n",
       "                        <td id=\"T_8d1c10a2_0fac_11eb_a315_00505607535erow1_col3\" class=\"data row1 col3\" >0</td>\n",
       "                        <td id=\"T_8d1c10a2_0fac_11eb_a315_00505607535erow1_col4\" class=\"data row1 col4\" >0</td>\n",
       "                        <td id=\"T_8d1c10a2_0fac_11eb_a315_00505607535erow1_col5\" class=\"data row1 col5\" >0</td>\n",
       "                        <td id=\"T_8d1c10a2_0fac_11eb_a315_00505607535erow1_col6\" class=\"data row1 col6\" >0</td>\n",
       "                        <td id=\"T_8d1c10a2_0fac_11eb_a315_00505607535erow1_col7\" class=\"data row1 col7\" >0</td>\n",
       "                        <td id=\"T_8d1c10a2_0fac_11eb_a315_00505607535erow1_col8\" class=\"data row1 col8\" >1</td>\n",
       "                        <td id=\"T_8d1c10a2_0fac_11eb_a315_00505607535erow1_col9\" class=\"data row1 col9\" >5</td>\n",
       "                        <td id=\"T_8d1c10a2_0fac_11eb_a315_00505607535erow1_col10\" class=\"data row1 col10\" >0</td>\n",
       "                        <td id=\"T_8d1c10a2_0fac_11eb_a315_00505607535erow1_col11\" class=\"data row1 col11\" >0</td>\n",
       "                        <td id=\"T_8d1c10a2_0fac_11eb_a315_00505607535erow1_col12\" class=\"data row1 col12\" >0</td>\n",
       "                        <td id=\"T_8d1c10a2_0fac_11eb_a315_00505607535erow1_col13\" class=\"data row1 col13\" >0</td>\n",
       "                        <td id=\"T_8d1c10a2_0fac_11eb_a315_00505607535erow1_col14\" class=\"data row1 col14\" >0</td>\n",
       "                        <td id=\"T_8d1c10a2_0fac_11eb_a315_00505607535erow1_col15\" class=\"data row1 col15\" >0</td>\n",
       "                        <td id=\"T_8d1c10a2_0fac_11eb_a315_00505607535erow1_col16\" class=\"data row1 col16\" >0</td>\n",
       "                        <td id=\"T_8d1c10a2_0fac_11eb_a315_00505607535erow1_col17\" class=\"data row1 col17\" >0</td>\n",
       "                        <td id=\"T_8d1c10a2_0fac_11eb_a315_00505607535erow1_col18\" class=\"data row1 col18\" >0</td>\n",
       "                        <td id=\"T_8d1c10a2_0fac_11eb_a315_00505607535erow1_col19\" class=\"data row1 col19\" >0</td>\n",
       "                        <td id=\"T_8d1c10a2_0fac_11eb_a315_00505607535erow1_col20\" class=\"data row1 col20\" >0</td>\n",
       "                        <td id=\"T_8d1c10a2_0fac_11eb_a315_00505607535erow1_col21\" class=\"data row1 col21\" >0</td>\n",
       "            </tr>\n",
       "            <tr>\n",
       "                        <th id=\"T_8d1c10a2_0fac_11eb_a315_00505607535elevel0_row2\" class=\"row_heading level0 row2\" >test</th>\n",
       "                        <td id=\"T_8d1c10a2_0fac_11eb_a315_00505607535erow2_col0\" class=\"data row2 col0\" >3</td>\n",
       "                        <td id=\"T_8d1c10a2_0fac_11eb_a315_00505607535erow2_col1\" class=\"data row2 col1\" >0</td>\n",
       "                        <td id=\"T_8d1c10a2_0fac_11eb_a315_00505607535erow2_col2\" class=\"data row2 col2\" >4</td>\n",
       "                        <td id=\"T_8d1c10a2_0fac_11eb_a315_00505607535erow2_col3\" class=\"data row2 col3\" >4</td>\n",
       "                        <td id=\"T_8d1c10a2_0fac_11eb_a315_00505607535erow2_col4\" class=\"data row2 col4\" >3</td>\n",
       "                        <td id=\"T_8d1c10a2_0fac_11eb_a315_00505607535erow2_col5\" class=\"data row2 col5\" >2</td>\n",
       "                        <td id=\"T_8d1c10a2_0fac_11eb_a315_00505607535erow2_col6\" class=\"data row2 col6\" >4</td>\n",
       "                        <td id=\"T_8d1c10a2_0fac_11eb_a315_00505607535erow2_col7\" class=\"data row2 col7\" >2</td>\n",
       "                        <td id=\"T_8d1c10a2_0fac_11eb_a315_00505607535erow2_col8\" class=\"data row2 col8\" >0</td>\n",
       "                        <td id=\"T_8d1c10a2_0fac_11eb_a315_00505607535erow2_col9\" class=\"data row2 col9\" >6</td>\n",
       "                        <td id=\"T_8d1c10a2_0fac_11eb_a315_00505607535erow2_col10\" class=\"data row2 col10\" >2</td>\n",
       "                        <td id=\"T_8d1c10a2_0fac_11eb_a315_00505607535erow2_col11\" class=\"data row2 col11\" >5</td>\n",
       "                        <td id=\"T_8d1c10a2_0fac_11eb_a315_00505607535erow2_col12\" class=\"data row2 col12\" >0</td>\n",
       "                        <td id=\"T_8d1c10a2_0fac_11eb_a315_00505607535erow2_col13\" class=\"data row2 col13\" >0</td>\n",
       "                        <td id=\"T_8d1c10a2_0fac_11eb_a315_00505607535erow2_col14\" class=\"data row2 col14\" >1</td>\n",
       "                        <td id=\"T_8d1c10a2_0fac_11eb_a315_00505607535erow2_col15\" class=\"data row2 col15\" >1</td>\n",
       "                        <td id=\"T_8d1c10a2_0fac_11eb_a315_00505607535erow2_col16\" class=\"data row2 col16\" >1</td>\n",
       "                        <td id=\"T_8d1c10a2_0fac_11eb_a315_00505607535erow2_col17\" class=\"data row2 col17\" >3</td>\n",
       "                        <td id=\"T_8d1c10a2_0fac_11eb_a315_00505607535erow2_col18\" class=\"data row2 col18\" >1</td>\n",
       "                        <td id=\"T_8d1c10a2_0fac_11eb_a315_00505607535erow2_col19\" class=\"data row2 col19\" >1</td>\n",
       "                        <td id=\"T_8d1c10a2_0fac_11eb_a315_00505607535erow2_col20\" class=\"data row2 col20\" >0</td>\n",
       "                        <td id=\"T_8d1c10a2_0fac_11eb_a315_00505607535erow2_col21\" class=\"data row2 col21\" >0</td>\n",
       "            </tr>\n",
       "    </tbody></table>"
      ],
      "text/plain": [
       "<pandas.io.formats.style.Styler at 0x7fb20018e518>"
      ]
     },
     "execution_count": 17,
     "metadata": {},
     "output_type": "execute_result"
    }
   ],
   "source": [
    "w_score_df = pd.DataFrame(w_score, columns = measures_names, index=datasets)\n",
    "w_score_df.style.set_caption(\"W score\")"
   ]
  },
  {
   "cell_type": "code",
   "execution_count": 18,
   "metadata": {},
   "outputs": [
    {
     "data": {
      "text/html": [
       "<style  type=\"text/css\" >\n",
       "</style><table id=\"T_8da7af18_0fac_11eb_a315_00505607535e\" ><caption>P-value score</caption><thead>    <tr>        <th class=\"blank level0\" ></th>        <th class=\"col_heading level0 col0\" >P@1</th>        <th class=\"col_heading level0 col1\" >P@2</th>        <th class=\"col_heading level0 col2\" >P@3</th>        <th class=\"col_heading level0 col3\" >P@4</th>        <th class=\"col_heading level0 col4\" >P@5</th>        <th class=\"col_heading level0 col5\" >P@6</th>        <th class=\"col_heading level0 col6\" >P@7</th>        <th class=\"col_heading level0 col7\" >P@8</th>        <th class=\"col_heading level0 col8\" >P@9</th>        <th class=\"col_heading level0 col9\" >P@10</th>        <th class=\"col_heading level0 col10\" >P_Mean</th>        <th class=\"col_heading level0 col11\" >NDCG@1</th>        <th class=\"col_heading level0 col12\" >NDCG@2</th>        <th class=\"col_heading level0 col13\" >NDCG@3</th>        <th class=\"col_heading level0 col14\" >NDCG@4</th>        <th class=\"col_heading level0 col15\" >NDCG@5</th>        <th class=\"col_heading level0 col16\" >NDCG@6</th>        <th class=\"col_heading level0 col17\" >NDCG@7</th>        <th class=\"col_heading level0 col18\" >NDCG@8</th>        <th class=\"col_heading level0 col19\" >NDCG@9</th>        <th class=\"col_heading level0 col20\" >NDCG@10</th>        <th class=\"col_heading level0 col21\" >NDCG_Mean</th>    </tr></thead><tbody>\n",
       "                <tr>\n",
       "                        <th id=\"T_8da7af18_0fac_11eb_a315_00505607535elevel0_row0\" class=\"row_heading level0 row0\" >train</th>\n",
       "                        <td id=\"T_8da7af18_0fac_11eb_a315_00505607535erow0_col0\" class=\"data row0 col0\" >1</td>\n",
       "                        <td id=\"T_8da7af18_0fac_11eb_a315_00505607535erow0_col1\" class=\"data row0 col1\" >0.853923</td>\n",
       "                        <td id=\"T_8da7af18_0fac_11eb_a315_00505607535erow0_col2\" class=\"data row0 col2\" >0.715001</td>\n",
       "                        <td id=\"T_8da7af18_0fac_11eb_a315_00505607535erow0_col3\" class=\"data row0 col3\" >0.0678892</td>\n",
       "                        <td id=\"T_8da7af18_0fac_11eb_a315_00505607535erow0_col4\" class=\"data row0 col4\" >0.0678892</td>\n",
       "                        <td id=\"T_8da7af18_0fac_11eb_a315_00505607535erow0_col5\" class=\"data row0 col5\" >0.0678892</td>\n",
       "                        <td id=\"T_8da7af18_0fac_11eb_a315_00505607535erow0_col6\" class=\"data row0 col6\" >0.224916</td>\n",
       "                        <td id=\"T_8da7af18_0fac_11eb_a315_00505607535erow0_col7\" class=\"data row0 col7\" >0.138011</td>\n",
       "                        <td id=\"T_8da7af18_0fac_11eb_a315_00505607535erow0_col8\" class=\"data row0 col8\" >1</td>\n",
       "                        <td id=\"T_8da7af18_0fac_11eb_a315_00505607535erow0_col9\" class=\"data row0 col9\" >0.68583</td>\n",
       "                        <td id=\"T_8da7af18_0fac_11eb_a315_00505607535erow0_col10\" class=\"data row0 col10\" >0.345231</td>\n",
       "                        <td id=\"T_8da7af18_0fac_11eb_a315_00505607535erow0_col11\" class=\"data row0 col11\" >0.465209</td>\n",
       "                        <td id=\"T_8da7af18_0fac_11eb_a315_00505607535erow0_col12\" class=\"data row0 col12\" >0.715001</td>\n",
       "                        <td id=\"T_8da7af18_0fac_11eb_a315_00505607535erow0_col13\" class=\"data row0 col13\" >0.68583</td>\n",
       "                        <td id=\"T_8da7af18_0fac_11eb_a315_00505607535erow0_col14\" class=\"data row0 col14\" >0.0796158</td>\n",
       "                        <td id=\"T_8da7af18_0fac_11eb_a315_00505607535erow0_col15\" class=\"data row0 col15\" >0.0431144</td>\n",
       "                        <td id=\"T_8da7af18_0fac_11eb_a315_00505607535erow0_col16\" class=\"data row0 col16\" >0.345231</td>\n",
       "                        <td id=\"T_8da7af18_0fac_11eb_a315_00505607535erow0_col17\" class=\"data row0 col17\" >0.224916</td>\n",
       "                        <td id=\"T_8da7af18_0fac_11eb_a315_00505607535erow0_col18\" class=\"data row0 col18\" >0.224916</td>\n",
       "                        <td id=\"T_8da7af18_0fac_11eb_a315_00505607535erow0_col19\" class=\"data row0 col19\" >0.0431144</td>\n",
       "                        <td id=\"T_8da7af18_0fac_11eb_a315_00505607535erow0_col20\" class=\"data row0 col20\" >0.224916</td>\n",
       "                        <td id=\"T_8da7af18_0fac_11eb_a315_00505607535erow0_col21\" class=\"data row0 col21\" >0.138011</td>\n",
       "            </tr>\n",
       "            <tr>\n",
       "                        <th id=\"T_8da7af18_0fac_11eb_a315_00505607535elevel0_row1\" class=\"row_heading level0 row1\" >vali</th>\n",
       "                        <td id=\"T_8da7af18_0fac_11eb_a315_00505607535erow1_col0\" class=\"data row1 col0\" >0.0431144</td>\n",
       "                        <td id=\"T_8da7af18_0fac_11eb_a315_00505607535erow1_col1\" class=\"data row1 col1\" >0.0421682</td>\n",
       "                        <td id=\"T_8da7af18_0fac_11eb_a315_00505607535erow1_col2\" class=\"data row1 col2\" >0.0431144</td>\n",
       "                        <td id=\"T_8da7af18_0fac_11eb_a315_00505607535erow1_col3\" class=\"data row1 col3\" >0.0431144</td>\n",
       "                        <td id=\"T_8da7af18_0fac_11eb_a315_00505607535erow1_col4\" class=\"data row1 col4\" >0.0421682</td>\n",
       "                        <td id=\"T_8da7af18_0fac_11eb_a315_00505607535erow1_col5\" class=\"data row1 col5\" >0.0431144</td>\n",
       "                        <td id=\"T_8da7af18_0fac_11eb_a315_00505607535erow1_col6\" class=\"data row1 col6\" >0.0431144</td>\n",
       "                        <td id=\"T_8da7af18_0fac_11eb_a315_00505607535erow1_col7\" class=\"data row1 col7\" >0.0678892</td>\n",
       "                        <td id=\"T_8da7af18_0fac_11eb_a315_00505607535erow1_col8\" class=\"data row1 col8\" >0.0782482</td>\n",
       "                        <td id=\"T_8da7af18_0fac_11eb_a315_00505607535erow1_col9\" class=\"data row1 col9\" >0.500184</td>\n",
       "                        <td id=\"T_8da7af18_0fac_11eb_a315_00505607535erow1_col10\" class=\"data row1 col10\" >0.0431144</td>\n",
       "                        <td id=\"T_8da7af18_0fac_11eb_a315_00505607535erow1_col11\" class=\"data row1 col11\" >0.0431144</td>\n",
       "                        <td id=\"T_8da7af18_0fac_11eb_a315_00505607535erow1_col12\" class=\"data row1 col12\" >0.0421682</td>\n",
       "                        <td id=\"T_8da7af18_0fac_11eb_a315_00505607535erow1_col13\" class=\"data row1 col13\" >0.0431144</td>\n",
       "                        <td id=\"T_8da7af18_0fac_11eb_a315_00505607535erow1_col14\" class=\"data row1 col14\" >0.0431144</td>\n",
       "                        <td id=\"T_8da7af18_0fac_11eb_a315_00505607535erow1_col15\" class=\"data row1 col15\" >0.0431144</td>\n",
       "                        <td id=\"T_8da7af18_0fac_11eb_a315_00505607535erow1_col16\" class=\"data row1 col16\" >0.0431144</td>\n",
       "                        <td id=\"T_8da7af18_0fac_11eb_a315_00505607535erow1_col17\" class=\"data row1 col17\" >0.0431144</td>\n",
       "                        <td id=\"T_8da7af18_0fac_11eb_a315_00505607535erow1_col18\" class=\"data row1 col18\" >0.0431144</td>\n",
       "                        <td id=\"T_8da7af18_0fac_11eb_a315_00505607535erow1_col19\" class=\"data row1 col19\" >0.0431144</td>\n",
       "                        <td id=\"T_8da7af18_0fac_11eb_a315_00505607535erow1_col20\" class=\"data row1 col20\" >0.0431144</td>\n",
       "                        <td id=\"T_8da7af18_0fac_11eb_a315_00505607535erow1_col21\" class=\"data row1 col21\" >0.0431144</td>\n",
       "            </tr>\n",
       "            <tr>\n",
       "                        <th id=\"T_8da7af18_0fac_11eb_a315_00505607535elevel0_row2\" class=\"row_heading level0 row2\" >test</th>\n",
       "                        <td id=\"T_8da7af18_0fac_11eb_a315_00505607535erow2_col0\" class=\"data row2 col0\" >0.465209</td>\n",
       "                        <td id=\"T_8da7af18_0fac_11eb_a315_00505607535erow2_col1\" class=\"data row2 col1\" >0.0431144</td>\n",
       "                        <td id=\"T_8da7af18_0fac_11eb_a315_00505607535erow2_col2\" class=\"data row2 col2\" >0.345231</td>\n",
       "                        <td id=\"T_8da7af18_0fac_11eb_a315_00505607535erow2_col3\" class=\"data row2 col3\" >0.345231</td>\n",
       "                        <td id=\"T_8da7af18_0fac_11eb_a315_00505607535erow2_col4\" class=\"data row2 col4\" >0.465209</td>\n",
       "                        <td id=\"T_8da7af18_0fac_11eb_a315_00505607535erow2_col5\" class=\"data row2 col5\" >0.59298</td>\n",
       "                        <td id=\"T_8da7af18_0fac_11eb_a315_00505607535erow2_col6\" class=\"data row2 col6\" >0.715001</td>\n",
       "                        <td id=\"T_8da7af18_0fac_11eb_a315_00505607535erow2_col7\" class=\"data row2 col7\" >0.138011</td>\n",
       "                        <td id=\"T_8da7af18_0fac_11eb_a315_00505607535erow2_col8\" class=\"data row2 col8\" >0.0678892</td>\n",
       "                        <td id=\"T_8da7af18_0fac_11eb_a315_00505607535erow2_col9\" class=\"data row2 col9\" >0.68583</td>\n",
       "                        <td id=\"T_8da7af18_0fac_11eb_a315_00505607535erow2_col10\" class=\"data row2 col10\" >0.138011</td>\n",
       "                        <td id=\"T_8da7af18_0fac_11eb_a315_00505607535erow2_col11\" class=\"data row2 col11\" >0.500184</td>\n",
       "                        <td id=\"T_8da7af18_0fac_11eb_a315_00505607535erow2_col12\" class=\"data row2 col12\" >0.0678892</td>\n",
       "                        <td id=\"T_8da7af18_0fac_11eb_a315_00505607535erow2_col13\" class=\"data row2 col13\" >0.0431144</td>\n",
       "                        <td id=\"T_8da7af18_0fac_11eb_a315_00505607535erow2_col14\" class=\"data row2 col14\" >0.0796158</td>\n",
       "                        <td id=\"T_8da7af18_0fac_11eb_a315_00505607535erow2_col15\" class=\"data row2 col15\" >0.0796158</td>\n",
       "                        <td id=\"T_8da7af18_0fac_11eb_a315_00505607535erow2_col16\" class=\"data row2 col16\" >0.0796158</td>\n",
       "                        <td id=\"T_8da7af18_0fac_11eb_a315_00505607535erow2_col17\" class=\"data row2 col17\" >0.224916</td>\n",
       "                        <td id=\"T_8da7af18_0fac_11eb_a315_00505607535erow2_col18\" class=\"data row2 col18\" >0.0796158</td>\n",
       "                        <td id=\"T_8da7af18_0fac_11eb_a315_00505607535erow2_col19\" class=\"data row2 col19\" >0.0796158</td>\n",
       "                        <td id=\"T_8da7af18_0fac_11eb_a315_00505607535erow2_col20\" class=\"data row2 col20\" >0.0431144</td>\n",
       "                        <td id=\"T_8da7af18_0fac_11eb_a315_00505607535erow2_col21\" class=\"data row2 col21\" >0.0431144</td>\n",
       "            </tr>\n",
       "    </tbody></table>"
      ],
      "text/plain": [
       "<pandas.io.formats.style.Styler at 0x7fb202681438>"
      ]
     },
     "execution_count": 18,
     "metadata": {},
     "output_type": "execute_result"
    }
   ],
   "source": [
    "p_value_df = pd.DataFrame(p_value, columns = measures_names, index=datasets)\n",
    "p_value_df.style.set_caption(\"P-value score\")"
   ]
  },
  {
   "cell_type": "markdown",
   "metadata": {},
   "source": [
    "# MQ2007"
   ]
  },
  {
   "cell_type": "code",
   "execution_count": 23,
   "metadata": {},
   "outputs": [],
   "source": [
    "folds = [\"fold1\",\"fold2\",\"fold3\",\"fold4\",\"fold5\"]\n",
    "\n",
    "measures_names = [\"P@1\",\"P@2\",\"P@3\",\"P@4\",\"P@5\",\"P@6\",\"P@7\",\"P@8\",\"P@9\",\"P@10\",\"P_Mean\",\n",
    "                  \"NDCG@1\",\"NDCG@2\",\"NDCG@3\",\"NDCG@4\",\"NDCG@5\",\"NDCG@6\",\"NDCG@7\",\"NDCG@8\",\"NDCG@9\",\"NDCG@10\",\n",
    "                  \"NDCG_Mean\"]\n",
    "\n",
    "datasets = [\"train\",\"vali\",\"test\"]"
   ]
  },
  {
   "cell_type": "code",
   "execution_count": 24,
   "metadata": {},
   "outputs": [],
   "source": [
    "dataset_path = \"../../MQ2007/min.txt\"\n",
    "with open(dataset_path) as f:\n",
    "   n = sum(1 for _ in f)\n",
    "\n",
    "n_samples_datasets = [int(0.6*n),int(0.2*n),int(0.2*n)]"
   ]
  },
  {
   "cell_type": "markdown",
   "metadata": {},
   "source": [
    "### NDCG measures for the top models of our personal implementation"
   ]
  },
  {
   "cell_type": "code",
   "execution_count": 25,
   "metadata": {},
   "outputs": [],
   "source": [
    "my_listnet_path = \"../../MQ2007/results_summary/Results_LETOR_global_vali.csv\"\n",
    "my_listnet_df = pd.read_csv(my_listnet_path)\n",
    "\n",
    "my_listnet_df = my_listnet_df.sort_values(['NDCG_Mean'],ascending=False)\n",
    "my_listnet_top_model_id = my_listnet_df.index[0]"
   ]
  },
  {
   "cell_type": "code",
   "execution_count": 26,
   "metadata": {},
   "outputs": [
    {
     "data": {
      "text/html": [
       "<div>\n",
       "<style scoped>\n",
       "    .dataframe tbody tr th:only-of-type {\n",
       "        vertical-align: middle;\n",
       "    }\n",
       "\n",
       "    .dataframe tbody tr th {\n",
       "        vertical-align: top;\n",
       "    }\n",
       "\n",
       "    .dataframe thead th {\n",
       "        text-align: right;\n",
       "    }\n",
       "</style>\n",
       "<table border=\"1\" class=\"dataframe\">\n",
       "  <thead>\n",
       "    <tr style=\"text-align: right;\">\n",
       "      <th></th>\n",
       "      <th>epochs</th>\n",
       "      <th>learning_rate</th>\n",
       "      <th>momemtum</th>\n",
       "      <th>activation</th>\n",
       "      <th>inner_act</th>\n",
       "      <th>number_layers</th>\n",
       "      <th>number_neurons</th>\n",
       "      <th>dropout</th>\n",
       "      <th>P@1</th>\n",
       "      <th>P@2</th>\n",
       "      <th>...</th>\n",
       "      <th>NDCG@3</th>\n",
       "      <th>NDCG@4</th>\n",
       "      <th>NDCG@5</th>\n",
       "      <th>NDCG@6</th>\n",
       "      <th>NDCG@7</th>\n",
       "      <th>NDCG@8</th>\n",
       "      <th>NDCG@9</th>\n",
       "      <th>NDCG@10</th>\n",
       "      <th>NDCG_Mean</th>\n",
       "      <th>NDCG_Var</th>\n",
       "    </tr>\n",
       "  </thead>\n",
       "  <tbody>\n",
       "    <tr>\n",
       "      <th>28</th>\n",
       "      <td>600</td>\n",
       "      <td>0.0025</td>\n",
       "      <td>0.5</td>\n",
       "      <td>linear</td>\n",
       "      <td>relu</td>\n",
       "      <td>1.0</td>\n",
       "      <td>100.0</td>\n",
       "      <td>0.65</td>\n",
       "      <td>0.48170</td>\n",
       "      <td>0.46416</td>\n",
       "      <td>...</td>\n",
       "      <td>0.42696</td>\n",
       "      <td>0.43254</td>\n",
       "      <td>0.43758</td>\n",
       "      <td>0.44402</td>\n",
       "      <td>0.44842</td>\n",
       "      <td>0.45414</td>\n",
       "      <td>0.45856</td>\n",
       "      <td>0.46358</td>\n",
       "      <td>0.440786</td>\n",
       "      <td>0.000214</td>\n",
       "    </tr>\n",
       "    <tr>\n",
       "      <th>24</th>\n",
       "      <td>500</td>\n",
       "      <td>0.0025</td>\n",
       "      <td>0.5</td>\n",
       "      <td>linear</td>\n",
       "      <td>relu</td>\n",
       "      <td>1.0</td>\n",
       "      <td>100.0</td>\n",
       "      <td>0.65</td>\n",
       "      <td>0.47636</td>\n",
       "      <td>0.46208</td>\n",
       "      <td>...</td>\n",
       "      <td>0.42340</td>\n",
       "      <td>0.42814</td>\n",
       "      <td>0.43314</td>\n",
       "      <td>0.43840</td>\n",
       "      <td>0.44384</td>\n",
       "      <td>0.44916</td>\n",
       "      <td>0.45376</td>\n",
       "      <td>0.45900</td>\n",
       "      <td>0.436204</td>\n",
       "      <td>0.000208</td>\n",
       "    </tr>\n",
       "    <tr>\n",
       "      <th>30</th>\n",
       "      <td>600</td>\n",
       "      <td>0.0025</td>\n",
       "      <td>0.5</td>\n",
       "      <td>linear</td>\n",
       "      <td>relu</td>\n",
       "      <td>2.0</td>\n",
       "      <td>100.0</td>\n",
       "      <td>0.65</td>\n",
       "      <td>0.47734</td>\n",
       "      <td>0.46052</td>\n",
       "      <td>...</td>\n",
       "      <td>0.42262</td>\n",
       "      <td>0.42822</td>\n",
       "      <td>0.43324</td>\n",
       "      <td>0.43834</td>\n",
       "      <td>0.44328</td>\n",
       "      <td>0.44856</td>\n",
       "      <td>0.45334</td>\n",
       "      <td>0.45890</td>\n",
       "      <td>0.435820</td>\n",
       "      <td>0.000211</td>\n",
       "    </tr>\n",
       "    <tr>\n",
       "      <th>26</th>\n",
       "      <td>500</td>\n",
       "      <td>0.0025</td>\n",
       "      <td>0.5</td>\n",
       "      <td>linear</td>\n",
       "      <td>relu</td>\n",
       "      <td>2.0</td>\n",
       "      <td>100.0</td>\n",
       "      <td>0.65</td>\n",
       "      <td>0.47320</td>\n",
       "      <td>0.45716</td>\n",
       "      <td>...</td>\n",
       "      <td>0.42044</td>\n",
       "      <td>0.42528</td>\n",
       "      <td>0.43004</td>\n",
       "      <td>0.43478</td>\n",
       "      <td>0.43972</td>\n",
       "      <td>0.44456</td>\n",
       "      <td>0.44960</td>\n",
       "      <td>0.45504</td>\n",
       "      <td>0.432546</td>\n",
       "      <td>0.000198</td>\n",
       "    </tr>\n",
       "    <tr>\n",
       "      <th>20</th>\n",
       "      <td>400</td>\n",
       "      <td>0.0025</td>\n",
       "      <td>0.5</td>\n",
       "      <td>linear</td>\n",
       "      <td>relu</td>\n",
       "      <td>1.0</td>\n",
       "      <td>100.0</td>\n",
       "      <td>0.65</td>\n",
       "      <td>0.47952</td>\n",
       "      <td>0.45854</td>\n",
       "      <td>...</td>\n",
       "      <td>0.41716</td>\n",
       "      <td>0.42350</td>\n",
       "      <td>0.42870</td>\n",
       "      <td>0.43358</td>\n",
       "      <td>0.43860</td>\n",
       "      <td>0.44442</td>\n",
       "      <td>0.44964</td>\n",
       "      <td>0.45524</td>\n",
       "      <td>0.432252</td>\n",
       "      <td>0.000188</td>\n",
       "    </tr>\n",
       "  </tbody>\n",
       "</table>\n",
       "<p>5 rows × 32 columns</p>\n",
       "</div>"
      ],
      "text/plain": [
       "    epochs  learning_rate  momemtum activation inner_act  number_layers  \\\n",
       "28     600         0.0025       0.5     linear      relu            1.0   \n",
       "24     500         0.0025       0.5     linear      relu            1.0   \n",
       "30     600         0.0025       0.5     linear      relu            2.0   \n",
       "26     500         0.0025       0.5     linear      relu            2.0   \n",
       "20     400         0.0025       0.5     linear      relu            1.0   \n",
       "\n",
       "    number_neurons  dropout      P@1      P@2  ...   NDCG@3   NDCG@4   NDCG@5  \\\n",
       "28           100.0     0.65  0.48170  0.46416  ...  0.42696  0.43254  0.43758   \n",
       "24           100.0     0.65  0.47636  0.46208  ...  0.42340  0.42814  0.43314   \n",
       "30           100.0     0.65  0.47734  0.46052  ...  0.42262  0.42822  0.43324   \n",
       "26           100.0     0.65  0.47320  0.45716  ...  0.42044  0.42528  0.43004   \n",
       "20           100.0     0.65  0.47952  0.45854  ...  0.41716  0.42350  0.42870   \n",
       "\n",
       "     NDCG@6   NDCG@7   NDCG@8   NDCG@9  NDCG@10  NDCG_Mean  NDCG_Var  \n",
       "28  0.44402  0.44842  0.45414  0.45856  0.46358   0.440786  0.000214  \n",
       "24  0.43840  0.44384  0.44916  0.45376  0.45900   0.436204  0.000208  \n",
       "30  0.43834  0.44328  0.44856  0.45334  0.45890   0.435820  0.000211  \n",
       "26  0.43478  0.43972  0.44456  0.44960  0.45504   0.432546  0.000198  \n",
       "20  0.43358  0.43860  0.44442  0.44964  0.45524   0.432252  0.000188  \n",
       "\n",
       "[5 rows x 32 columns]"
      ]
     },
     "execution_count": 26,
     "metadata": {},
     "output_type": "execute_result"
    }
   ],
   "source": [
    "my_listnet_df.head(5)"
   ]
  },
  {
   "cell_type": "code",
   "execution_count": 27,
   "metadata": {},
   "outputs": [
    {
     "data": {
      "text/plain": [
       "0.430972"
      ]
     },
     "execution_count": 27,
     "metadata": {},
     "output_type": "execute_result"
    }
   ],
   "source": [
    "my_listnet_df.iloc[0][\"P_Mean\"]"
   ]
  },
  {
   "cell_type": "code",
   "execution_count": 28,
   "metadata": {},
   "outputs": [
    {
     "data": {
      "text/plain": [
       "epochs                    600\n",
       "learning_rate          0.0025\n",
       "momemtum                  0.5\n",
       "activation             linear\n",
       "inner_act                relu\n",
       "number_layers               1\n",
       "number_neurons            100\n",
       "dropout                  0.65\n",
       "P@1                    0.4705\n",
       "P@2                   0.44362\n",
       "P@3                   0.43286\n",
       "P@4                   0.42556\n",
       "P@5                   0.41634\n",
       "P@6                    0.4102\n",
       "P@7                   0.40084\n",
       "P@8                    0.3943\n",
       "P@9                   0.38742\n",
       "P@10                  0.38178\n",
       "P_Mean               0.416342\n",
       "P_Var             0.000682989\n",
       "NDCG@1                0.40352\n",
       "NDCG@2                 0.3986\n",
       "NDCG@3                0.40564\n",
       "NDCG@4                0.41294\n",
       "NDCG@5                0.41716\n",
       "NDCG@6                0.42432\n",
       "NDCG@7                0.42728\n",
       "NDCG@8                0.43304\n",
       "NDCG@9                 0.4383\n",
       "NDCG@10               0.44388\n",
       "NDCG_Mean            0.420468\n",
       "NDCG_Var          0.000213833\n",
       "Name: 28, dtype: object"
      ]
     },
     "execution_count": 28,
     "metadata": {},
     "output_type": "execute_result"
    }
   ],
   "source": [
    "my_listnet_path = \"../../MQ2007/results_summary/Results_LETOR_global_test.csv\"\n",
    "my_listnet_df = pd.read_csv(my_listnet_path)\n",
    "my_listnet_df.iloc[my_listnet_top_model_id]"
   ]
  },
  {
   "cell_type": "markdown",
   "metadata": {},
   "source": [
    "### NDCG measures for the top models of LTR4L implementation"
   ]
  },
  {
   "cell_type": "code",
   "execution_count": 29,
   "metadata": {},
   "outputs": [],
   "source": [
    "ltr4l_path = \"../../MQ2007/results_summary/Results_ltr4l_global_vali.csv\"\n",
    "ltr4l_df = pd.read_csv(ltr4l_path)\n",
    "\n",
    "ltr4l_df = ltr4l_df.sort_values(['NDCG_Mean'],ascending=False)\n",
    "ltr4l_top_model_id = ltr4l_df.index[0]"
   ]
  },
  {
   "cell_type": "code",
   "execution_count": 30,
   "metadata": {
    "scrolled": false
   },
   "outputs": [
    {
     "data": {
      "text/html": [
       "<div>\n",
       "<style scoped>\n",
       "    .dataframe tbody tr th:only-of-type {\n",
       "        vertical-align: middle;\n",
       "    }\n",
       "\n",
       "    .dataframe tbody tr th {\n",
       "        vertical-align: top;\n",
       "    }\n",
       "\n",
       "    .dataframe thead th {\n",
       "        text-align: right;\n",
       "    }\n",
       "</style>\n",
       "<table border=\"1\" class=\"dataframe\">\n",
       "  <thead>\n",
       "    <tr style=\"text-align: right;\">\n",
       "      <th></th>\n",
       "      <th>epochs</th>\n",
       "      <th>learning_rate</th>\n",
       "      <th>momentum</th>\n",
       "      <th>output function</th>\n",
       "      <th>hidden function</th>\n",
       "      <th>nb hidden layers</th>\n",
       "      <th>nb neurons</th>\n",
       "      <th>P@1</th>\n",
       "      <th>P@2</th>\n",
       "      <th>P@3</th>\n",
       "      <th>...</th>\n",
       "      <th>NDCG@3</th>\n",
       "      <th>NDCG@4</th>\n",
       "      <th>NDCG@5</th>\n",
       "      <th>NDCG@6</th>\n",
       "      <th>NDCG@7</th>\n",
       "      <th>NDCG@8</th>\n",
       "      <th>NDCG@9</th>\n",
       "      <th>NDCG@10</th>\n",
       "      <th>NDCG_Mean</th>\n",
       "      <th>NDCG_Var</th>\n",
       "    </tr>\n",
       "  </thead>\n",
       "  <tbody>\n",
       "    <tr>\n",
       "      <th>16</th>\n",
       "      <td>500</td>\n",
       "      <td>0.001</td>\n",
       "      <td>0.30</td>\n",
       "      <td>Identity</td>\n",
       "      <td>NaN</td>\n",
       "      <td>NaN</td>\n",
       "      <td>NaN</td>\n",
       "      <td>0.47638</td>\n",
       "      <td>0.45302</td>\n",
       "      <td>0.44010</td>\n",
       "      <td>...</td>\n",
       "      <td>0.41444</td>\n",
       "      <td>0.41854</td>\n",
       "      <td>0.42342</td>\n",
       "      <td>0.42778</td>\n",
       "      <td>0.43196</td>\n",
       "      <td>0.43704</td>\n",
       "      <td>0.44232</td>\n",
       "      <td>0.44710</td>\n",
       "      <td>0.425894</td>\n",
       "      <td>0.000170</td>\n",
       "    </tr>\n",
       "    <tr>\n",
       "      <th>12</th>\n",
       "      <td>500</td>\n",
       "      <td>0.001</td>\n",
       "      <td>0.01</td>\n",
       "      <td>Identity</td>\n",
       "      <td>NaN</td>\n",
       "      <td>NaN</td>\n",
       "      <td>NaN</td>\n",
       "      <td>0.47638</td>\n",
       "      <td>0.45302</td>\n",
       "      <td>0.44004</td>\n",
       "      <td>...</td>\n",
       "      <td>0.41440</td>\n",
       "      <td>0.41852</td>\n",
       "      <td>0.42342</td>\n",
       "      <td>0.42774</td>\n",
       "      <td>0.43196</td>\n",
       "      <td>0.43702</td>\n",
       "      <td>0.44232</td>\n",
       "      <td>0.44710</td>\n",
       "      <td>0.425882</td>\n",
       "      <td>0.000170</td>\n",
       "    </tr>\n",
       "    <tr>\n",
       "      <th>4</th>\n",
       "      <td>100</td>\n",
       "      <td>0.001</td>\n",
       "      <td>0.30</td>\n",
       "      <td>Identity</td>\n",
       "      <td>NaN</td>\n",
       "      <td>NaN</td>\n",
       "      <td>NaN</td>\n",
       "      <td>0.47578</td>\n",
       "      <td>0.45292</td>\n",
       "      <td>0.44000</td>\n",
       "      <td>...</td>\n",
       "      <td>0.41440</td>\n",
       "      <td>0.41842</td>\n",
       "      <td>0.42360</td>\n",
       "      <td>0.42788</td>\n",
       "      <td>0.43204</td>\n",
       "      <td>0.43700</td>\n",
       "      <td>0.44212</td>\n",
       "      <td>0.44696</td>\n",
       "      <td>0.425882</td>\n",
       "      <td>0.000169</td>\n",
       "    </tr>\n",
       "    <tr>\n",
       "      <th>14</th>\n",
       "      <td>500</td>\n",
       "      <td>0.001</td>\n",
       "      <td>0.10</td>\n",
       "      <td>Identity</td>\n",
       "      <td>NaN</td>\n",
       "      <td>NaN</td>\n",
       "      <td>NaN</td>\n",
       "      <td>0.47638</td>\n",
       "      <td>0.45302</td>\n",
       "      <td>0.44004</td>\n",
       "      <td>...</td>\n",
       "      <td>0.41440</td>\n",
       "      <td>0.41852</td>\n",
       "      <td>0.42342</td>\n",
       "      <td>0.42774</td>\n",
       "      <td>0.43196</td>\n",
       "      <td>0.43702</td>\n",
       "      <td>0.44232</td>\n",
       "      <td>0.44710</td>\n",
       "      <td>0.425882</td>\n",
       "      <td>0.000170</td>\n",
       "    </tr>\n",
       "    <tr>\n",
       "      <th>0</th>\n",
       "      <td>100</td>\n",
       "      <td>0.001</td>\n",
       "      <td>0.01</td>\n",
       "      <td>Identity</td>\n",
       "      <td>NaN</td>\n",
       "      <td>NaN</td>\n",
       "      <td>NaN</td>\n",
       "      <td>0.47618</td>\n",
       "      <td>0.45282</td>\n",
       "      <td>0.43990</td>\n",
       "      <td>...</td>\n",
       "      <td>0.41432</td>\n",
       "      <td>0.41842</td>\n",
       "      <td>0.42354</td>\n",
       "      <td>0.42790</td>\n",
       "      <td>0.43196</td>\n",
       "      <td>0.43694</td>\n",
       "      <td>0.44206</td>\n",
       "      <td>0.44692</td>\n",
       "      <td>0.425860</td>\n",
       "      <td>0.000168</td>\n",
       "    </tr>\n",
       "  </tbody>\n",
       "</table>\n",
       "<p>5 rows × 31 columns</p>\n",
       "</div>"
      ],
      "text/plain": [
       "    epochs  learning_rate  momentum output function hidden function  \\\n",
       "16     500          0.001      0.30        Identity             NaN   \n",
       "12     500          0.001      0.01        Identity             NaN   \n",
       "4      100          0.001      0.30        Identity             NaN   \n",
       "14     500          0.001      0.10        Identity             NaN   \n",
       "0      100          0.001      0.01        Identity             NaN   \n",
       "\n",
       "    nb hidden layers  nb neurons      P@1      P@2      P@3  ...   NDCG@3  \\\n",
       "16               NaN         NaN  0.47638  0.45302  0.44010  ...  0.41444   \n",
       "12               NaN         NaN  0.47638  0.45302  0.44004  ...  0.41440   \n",
       "4                NaN         NaN  0.47578  0.45292  0.44000  ...  0.41440   \n",
       "14               NaN         NaN  0.47638  0.45302  0.44004  ...  0.41440   \n",
       "0                NaN         NaN  0.47618  0.45282  0.43990  ...  0.41432   \n",
       "\n",
       "     NDCG@4   NDCG@5   NDCG@6   NDCG@7   NDCG@8   NDCG@9  NDCG@10  NDCG_Mean  \\\n",
       "16  0.41854  0.42342  0.42778  0.43196  0.43704  0.44232  0.44710   0.425894   \n",
       "12  0.41852  0.42342  0.42774  0.43196  0.43702  0.44232  0.44710   0.425882   \n",
       "4   0.41842  0.42360  0.42788  0.43204  0.43700  0.44212  0.44696   0.425882   \n",
       "14  0.41852  0.42342  0.42774  0.43196  0.43702  0.44232  0.44710   0.425882   \n",
       "0   0.41842  0.42354  0.42790  0.43196  0.43694  0.44206  0.44692   0.425860   \n",
       "\n",
       "    NDCG_Var  \n",
       "16  0.000170  \n",
       "12  0.000170  \n",
       "4   0.000169  \n",
       "14  0.000170  \n",
       "0   0.000168  \n",
       "\n",
       "[5 rows x 31 columns]"
      ]
     },
     "execution_count": 30,
     "metadata": {},
     "output_type": "execute_result"
    }
   ],
   "source": [
    "ltr4l_df.head()"
   ]
  },
  {
   "cell_type": "code",
   "execution_count": 31,
   "metadata": {},
   "outputs": [
    {
     "data": {
      "text/plain": [
       "0.419642"
      ]
     },
     "execution_count": 31,
     "metadata": {},
     "output_type": "execute_result"
    }
   ],
   "source": [
    "ltr4l_df.iloc[0][\"P_Mean\"]"
   ]
  },
  {
   "cell_type": "markdown",
   "metadata": {},
   "source": [
    "### Comparison NDCG measures between top model of personal ListNet and LTR4L"
   ]
  },
  {
   "cell_type": "code",
   "execution_count": 32,
   "metadata": {},
   "outputs": [],
   "source": [
    "my_listnet_mean = [[] for x in range(len(datasets))]\n",
    "my_listnet_var = [[] for x in range(len(datasets))]\n",
    "\n",
    "ltr4l_mean = [[] for x in range(len(datasets))]\n",
    "ltr4l_var = [[] for x in range(len(datasets))]\n",
    "\n",
    "for idx_dataset in range(len(datasets)):\n",
    "    my_listnet_list_NDCG = [[] for x in range(len(measures_names))]\n",
    "    ltr4l_list_NDCG = [[] for x in range(len(measures_names))]\n",
    "    \n",
    "    for idx_fold in range(len(folds)):\n",
    "        \n",
    "        my_listnet_path = \"../../MQ2007/results_summary/Results_LETOR_\"+folds[idx_fold]+\\\n",
    "            \"_\"+datasets[idx_dataset]+\".csv\"\n",
    "        ltr4l_path = \"../../MQ2007/results_summary/Results_ltr4l_\"+folds[idx_fold]+\\\n",
    "            \"_\"+datasets[idx_dataset]+\".csv\"\n",
    "\n",
    "        my_listnet_df = pd.read_csv(my_listnet_path)\n",
    "        ltr4l_df = pd.read_csv(ltr4l_path)\n",
    "        \n",
    "        for idx_metric in range(len(measures_names)):\n",
    "            my_listnet_list_NDCG[idx_metric].append(my_listnet_df.iloc[my_listnet_top_model_id][measures_names[idx_metric]])\n",
    "            ltr4l_list_NDCG[idx_metric].append(ltr4l_df.iloc[ltr4l_top_model_id][measures_names[idx_metric]])\n",
    "            \n",
    "    my_listnet_mean[idx_dataset] = np.array(my_listnet_list_NDCG).mean(axis=1)\n",
    "    my_listnet_var[idx_dataset] = np.array(my_listnet_list_NDCG).var(axis=1)\n",
    "    \n",
    "    ltr4l_mean[idx_dataset] = np.array(ltr4l_list_NDCG).mean(axis=1)\n",
    "    ltr4l_var[idx_dataset] = np.array(ltr4l_list_NDCG).var(axis=1)"
   ]
  },
  {
   "cell_type": "code",
   "execution_count": 33,
   "metadata": {
    "scrolled": true
   },
   "outputs": [
    {
     "data": {
      "image/png": "[encoded data removed]",
      "text/plain": [
       "<Figure size 432x288 with 1 Axes>"
      ]
     },
     "metadata": {
      "needs_background": "light"
     },
     "output_type": "display_data"
    },
    {
     "data": {
      "image/png": "[encoded data removed]",
      "text/plain": [
       "<Figure size 432x288 with 1 Axes>"
      ]
     },
     "metadata": {
      "needs_background": "light"
     },
     "output_type": "display_data"
    },
    {
     "data": {
      "image/png": "[encoded data removed]",
      "text/plain": [
       "<Figure size 432x288 with 1 Axes>"
      ]
     },
     "metadata": {
      "needs_background": "light"
     },
     "output_type": "display_data"
    }
   ],
   "source": [
    "indices = range(len(measures_names))\n",
    "width = np.min(np.diff(indices))/3.\n",
    "\n",
    "for idx_dataset in range(len(datasets)):\n",
    "    ax = plt.figure().add_axes([0,0,1,1])\n",
    "    plt.xticks(rotation=90)\n",
    "    ax.bar(indices-width/2, my_listnet_mean[idx_dataset],width, yerr = my_listnet_var[idx_dataset],\\\n",
    "           align='center', alpha=0.6, ecolor='black', capsize=5, label = \"ListNet Datafari\")\n",
    "    ax.bar(indices+width/2, ltr4l_mean[idx_dataset],width, yerr = ltr4l_var[idx_dataset],\\\n",
    "           align='center', alpha=0.6, ecolor='black', capsize=5, label = \"ListNet LTR4L\")\n",
    "    ax.set_title(\"Mean NDCG@1-10 measure for \"+datasets[idx_dataset]+\" set with the top model of each implementation\")\n",
    "    ax.set_xticks(indices)\n",
    "    ax.axes.set_xticklabels(measures_names)\n",
    "    ax.set_ylabel(\"NDCG Mean 1-10\")\n",
    "    ax.legend(loc='best')"
   ]
  },
  {
   "cell_type": "markdown",
   "metadata": {},
   "source": [
    "### Comparing NDCG of the top model of each library with Wilcoxon's signed-rank test"
   ]
  },
  {
   "cell_type": "markdown",
   "metadata": {},
   "source": [
    "We will now compare the results by the two bests models of our libraries with the Wilcoxon's signed-rank test\n",
    "- We take the best model of each library\n",
    "- We study how they perform on each folder\n",
    "- We will compare their NDCG values and use them for the Wilcoxon's signed-rank test"
   ]
  },
  {
   "cell_type": "code",
   "execution_count": 34,
   "metadata": {},
   "outputs": [],
   "source": [
    "measures_names = [\"P@1\",\"P@2\",\"P@3\",\"P@4\",\"P@5\",\"P@6\",\"P@7\",\"P@8\",\"P@9\",\"P@10\",\"P_Mean\",\n",
    "                  \"NDCG@1\",\"NDCG@2\",\"NDCG@3\",\"NDCG@4\",\"NDCG@5\",\"NDCG@6\",\"NDCG@7\",\"NDCG@8\",\"NDCG@9\",\"NDCG@10\",\n",
    "                  \"NDCG_Mean\"]\n",
    "\n",
    "w_score = [[] for x in range(len(datasets))]\n",
    "p_value = [[] for x in range(len(datasets))]\n",
    "\n",
    "sig_lvl = 0.05"
   ]
  },
  {
   "cell_type": "code",
   "execution_count": 35,
   "metadata": {},
   "outputs": [],
   "source": [
    "n = len(folds)\n",
    "\n",
    "for idx_dataset in range(len(datasets)):\n",
    "    diff = [[] for x in range(len(measures_names))]\n",
    "    \n",
    "    for idx_fold in range(len(folds)):\n",
    "        \n",
    "        my_listnet_path = \"../../MQ2007/results_summary/Results_LETOR_\"+folds[idx_fold]+\\\n",
    "            \"_\"+datasets[idx_dataset]+\".csv\"\n",
    "        ltr4l_path = \"../../MQ2007/results_summary/Results_ltr4l_\"+folds[idx_fold]+\\\n",
    "            \"_\"+datasets[idx_dataset]+\".csv\"\n",
    "\n",
    "        my_listnet_df = pd.read_csv(my_listnet_path)\n",
    "        ltr4l_df = pd.read_csv(ltr4l_path)\n",
    "        \n",
    "        for idx_metric in range(len(measures_names)):\n",
    "            my_listnet_NDCG = my_listnet_df.iloc[my_listnet_top_model_id][measures_names[idx_metric]]\n",
    "            ltr4l_NDCG = ltr4l_df.iloc[ltr4l_top_model_id][measures_names[idx_metric]]\n",
    "            diff[idx_metric].append(my_listnet_NDCG - ltr4l_NDCG)\n",
    "            \n",
    "    for idx_metric in range(len(measures_names)):        \n",
    "        w,p= stats.wilcoxon(diff[idx_metric])\n",
    "        w_score[idx_dataset].append(w)\n",
    "        p_value[idx_dataset].append(p)"
   ]
  },
  {
   "cell_type": "code",
   "execution_count": 36,
   "metadata": {},
   "outputs": [
    {
     "data": {
      "image/png": "[encoded data removed]",
      "text/plain": [
       "<Figure size 432x288 with 1 Axes>"
      ]
     },
     "metadata": {
      "needs_background": "light"
     },
     "output_type": "display_data"
    },
    {
     "data": {
      "image/png": "[encoded data removed]",
      "text/plain": [
       "<Figure size 432x288 with 1 Axes>"
      ]
     },
     "metadata": {
      "needs_background": "light"
     },
     "output_type": "display_data"
    },
    {
     "data": {
      "image/png": "[encoded data removed]",
      "text/plain": [
       "<Figure size 432x288 with 1 Axes>"
      ]
     },
     "metadata": {
      "needs_background": "light"
     },
     "output_type": "display_data"
    }
   ],
   "source": [
    "red_patch = mpatches.Patch(color='red', label='p value > '+str(sig_lvl))\n",
    "green_patch = mpatches.Patch(color='green', label='p value < '+str(sig_lvl))\n",
    "for idx_dataset in range(len(datasets)):\n",
    "    colors = []\n",
    "    for idx_metric in range(len(measures_names)):\n",
    "        if p_value[idx_dataset][idx_metric] < sig_lvl:\n",
    "            colors.append(\"green\")\n",
    "        else:\n",
    "            colors.append(\"red\")\n",
    "\n",
    "    ax = plt.figure().add_axes([0,0,1,1])\n",
    "    plt.xticks(rotation=90)\n",
    "    ax.bar(measures_names,p_value[idx_dataset],color=colors)\n",
    "    ax.set_title(\"Wilcoxon's p-value between top model of personal implementation and LTR4L (\"+datasets[idx_dataset]+\" set)\")\n",
    "    ax.legend(handles=[red_patch,green_patch])\n",
    "    if any(p > 0.1 for p in p_value[idx_dataset]):\n",
    "        ax.hlines(0.1,-0.5,len(measures_names)-0.5, label=\"p_value > 0.1\")\n",
    "        txt = ax.text(-0.5, 0.1, s=\"p-value > 0.1\", color=\"red\", weight = \"bold\")\n",
    "        txt.set_path_effects([PathEffects.withStroke(linewidth=1.5, foreground='white')])\n",
    "    if any(p > 0.05 for p in p_value[idx_dataset]):\n",
    "        ax.hlines(0.05,-0.5,len(measures_names)-0.5, label=\"p_value > 0.05\")\n",
    "        txt=ax.text(-0.5, 0.05, s=\"p-value > 0.05\", color=\"red\", weight = \"bold\")\n",
    "        txt.set_path_effects([PathEffects.withStroke(linewidth=1.5, foreground='white')])\n",
    "    if any(p > 0.01 for p in p_value[idx_dataset]):\n",
    "        ax.hlines(0.01,-0.5,len(measures_names)-0.5, label=\"p_value > 0.01\")\n",
    "        txt=ax.text(-0.5, 0.01, s=\"p-value > 0.01\", color=\"red\", weight = \"bold\")\n",
    "        txt.set_path_effects([PathEffects.withStroke(linewidth=1.5, foreground='white')])"
   ]
  },
  {
   "cell_type": "code",
   "execution_count": 37,
   "metadata": {},
   "outputs": [
    {
     "data": {
      "text/html": [
       "<style  type=\"text/css\" >\n",
       "</style><table id=\"T_d360a682_1438_11eb_a315_00505607535e\" ><caption>W score</caption><thead>    <tr>        <th class=\"blank level0\" ></th>        <th class=\"col_heading level0 col0\" >P@1</th>        <th class=\"col_heading level0 col1\" >P@2</th>        <th class=\"col_heading level0 col2\" >P@3</th>        <th class=\"col_heading level0 col3\" >P@4</th>        <th class=\"col_heading level0 col4\" >P@5</th>        <th class=\"col_heading level0 col5\" >P@6</th>        <th class=\"col_heading level0 col6\" >P@7</th>        <th class=\"col_heading level0 col7\" >P@8</th>        <th class=\"col_heading level0 col8\" >P@9</th>        <th class=\"col_heading level0 col9\" >P@10</th>        <th class=\"col_heading level0 col10\" >P_Mean</th>        <th class=\"col_heading level0 col11\" >NDCG@1</th>        <th class=\"col_heading level0 col12\" >NDCG@2</th>        <th class=\"col_heading level0 col13\" >NDCG@3</th>        <th class=\"col_heading level0 col14\" >NDCG@4</th>        <th class=\"col_heading level0 col15\" >NDCG@5</th>        <th class=\"col_heading level0 col16\" >NDCG@6</th>        <th class=\"col_heading level0 col17\" >NDCG@7</th>        <th class=\"col_heading level0 col18\" >NDCG@8</th>        <th class=\"col_heading level0 col19\" >NDCG@9</th>        <th class=\"col_heading level0 col20\" >NDCG@10</th>        <th class=\"col_heading level0 col21\" >NDCG_Mean</th>    </tr></thead><tbody>\n",
       "                <tr>\n",
       "                        <th id=\"T_d360a682_1438_11eb_a315_00505607535elevel0_row0\" class=\"row_heading level0 row0\" >train</th>\n",
       "                        <td id=\"T_d360a682_1438_11eb_a315_00505607535erow0_col0\" class=\"data row0 col0\" >6</td>\n",
       "                        <td id=\"T_d360a682_1438_11eb_a315_00505607535erow0_col1\" class=\"data row0 col1\" >7</td>\n",
       "                        <td id=\"T_d360a682_1438_11eb_a315_00505607535erow0_col2\" class=\"data row0 col2\" >6.5</td>\n",
       "                        <td id=\"T_d360a682_1438_11eb_a315_00505607535erow0_col3\" class=\"data row0 col3\" >4</td>\n",
       "                        <td id=\"T_d360a682_1438_11eb_a315_00505607535erow0_col4\" class=\"data row0 col4\" >5</td>\n",
       "                        <td id=\"T_d360a682_1438_11eb_a315_00505607535erow0_col5\" class=\"data row0 col5\" >3</td>\n",
       "                        <td id=\"T_d360a682_1438_11eb_a315_00505607535erow0_col6\" class=\"data row0 col6\" >2</td>\n",
       "                        <td id=\"T_d360a682_1438_11eb_a315_00505607535erow0_col7\" class=\"data row0 col7\" >2</td>\n",
       "                        <td id=\"T_d360a682_1438_11eb_a315_00505607535erow0_col8\" class=\"data row0 col8\" >0</td>\n",
       "                        <td id=\"T_d360a682_1438_11eb_a315_00505607535erow0_col9\" class=\"data row0 col9\" >2</td>\n",
       "                        <td id=\"T_d360a682_1438_11eb_a315_00505607535erow0_col10\" class=\"data row0 col10\" >2</td>\n",
       "                        <td id=\"T_d360a682_1438_11eb_a315_00505607535erow0_col11\" class=\"data row0 col11\" >7</td>\n",
       "                        <td id=\"T_d360a682_1438_11eb_a315_00505607535erow0_col12\" class=\"data row0 col12\" >7</td>\n",
       "                        <td id=\"T_d360a682_1438_11eb_a315_00505607535erow0_col13\" class=\"data row0 col13\" >6</td>\n",
       "                        <td id=\"T_d360a682_1438_11eb_a315_00505607535erow0_col14\" class=\"data row0 col14\" >5</td>\n",
       "                        <td id=\"T_d360a682_1438_11eb_a315_00505607535erow0_col15\" class=\"data row0 col15\" >5</td>\n",
       "                        <td id=\"T_d360a682_1438_11eb_a315_00505607535erow0_col16\" class=\"data row0 col16\" >4</td>\n",
       "                        <td id=\"T_d360a682_1438_11eb_a315_00505607535erow0_col17\" class=\"data row0 col17\" >5</td>\n",
       "                        <td id=\"T_d360a682_1438_11eb_a315_00505607535erow0_col18\" class=\"data row0 col18\" >4</td>\n",
       "                        <td id=\"T_d360a682_1438_11eb_a315_00505607535erow0_col19\" class=\"data row0 col19\" >2</td>\n",
       "                        <td id=\"T_d360a682_1438_11eb_a315_00505607535erow0_col20\" class=\"data row0 col20\" >5</td>\n",
       "                        <td id=\"T_d360a682_1438_11eb_a315_00505607535erow0_col21\" class=\"data row0 col21\" >4</td>\n",
       "            </tr>\n",
       "            <tr>\n",
       "                        <th id=\"T_d360a682_1438_11eb_a315_00505607535elevel0_row1\" class=\"row_heading level0 row1\" >vali</th>\n",
       "                        <td id=\"T_d360a682_1438_11eb_a315_00505607535erow1_col0\" class=\"data row1 col0\" >2</td>\n",
       "                        <td id=\"T_d360a682_1438_11eb_a315_00505607535erow1_col1\" class=\"data row1 col1\" >0</td>\n",
       "                        <td id=\"T_d360a682_1438_11eb_a315_00505607535erow1_col2\" class=\"data row1 col2\" >0</td>\n",
       "                        <td id=\"T_d360a682_1438_11eb_a315_00505607535erow1_col3\" class=\"data row1 col3\" >0</td>\n",
       "                        <td id=\"T_d360a682_1438_11eb_a315_00505607535erow1_col4\" class=\"data row1 col4\" >0</td>\n",
       "                        <td id=\"T_d360a682_1438_11eb_a315_00505607535erow1_col5\" class=\"data row1 col5\" >0</td>\n",
       "                        <td id=\"T_d360a682_1438_11eb_a315_00505607535erow1_col6\" class=\"data row1 col6\" >0</td>\n",
       "                        <td id=\"T_d360a682_1438_11eb_a315_00505607535erow1_col7\" class=\"data row1 col7\" >0</td>\n",
       "                        <td id=\"T_d360a682_1438_11eb_a315_00505607535erow1_col8\" class=\"data row1 col8\" >0</td>\n",
       "                        <td id=\"T_d360a682_1438_11eb_a315_00505607535erow1_col9\" class=\"data row1 col9\" >0</td>\n",
       "                        <td id=\"T_d360a682_1438_11eb_a315_00505607535erow1_col10\" class=\"data row1 col10\" >0</td>\n",
       "                        <td id=\"T_d360a682_1438_11eb_a315_00505607535erow1_col11\" class=\"data row1 col11\" >0</td>\n",
       "                        <td id=\"T_d360a682_1438_11eb_a315_00505607535erow1_col12\" class=\"data row1 col12\" >0</td>\n",
       "                        <td id=\"T_d360a682_1438_11eb_a315_00505607535erow1_col13\" class=\"data row1 col13\" >0</td>\n",
       "                        <td id=\"T_d360a682_1438_11eb_a315_00505607535erow1_col14\" class=\"data row1 col14\" >0</td>\n",
       "                        <td id=\"T_d360a682_1438_11eb_a315_00505607535erow1_col15\" class=\"data row1 col15\" >0</td>\n",
       "                        <td id=\"T_d360a682_1438_11eb_a315_00505607535erow1_col16\" class=\"data row1 col16\" >0</td>\n",
       "                        <td id=\"T_d360a682_1438_11eb_a315_00505607535erow1_col17\" class=\"data row1 col17\" >0</td>\n",
       "                        <td id=\"T_d360a682_1438_11eb_a315_00505607535erow1_col18\" class=\"data row1 col18\" >0</td>\n",
       "                        <td id=\"T_d360a682_1438_11eb_a315_00505607535erow1_col19\" class=\"data row1 col19\" >0</td>\n",
       "                        <td id=\"T_d360a682_1438_11eb_a315_00505607535erow1_col20\" class=\"data row1 col20\" >0</td>\n",
       "                        <td id=\"T_d360a682_1438_11eb_a315_00505607535erow1_col21\" class=\"data row1 col21\" >0</td>\n",
       "            </tr>\n",
       "            <tr>\n",
       "                        <th id=\"T_d360a682_1438_11eb_a315_00505607535elevel0_row2\" class=\"row_heading level0 row2\" >test</th>\n",
       "                        <td id=\"T_d360a682_1438_11eb_a315_00505607535erow2_col0\" class=\"data row2 col0\" >3</td>\n",
       "                        <td id=\"T_d360a682_1438_11eb_a315_00505607535erow2_col1\" class=\"data row2 col1\" >0</td>\n",
       "                        <td id=\"T_d360a682_1438_11eb_a315_00505607535erow2_col2\" class=\"data row2 col2\" >4</td>\n",
       "                        <td id=\"T_d360a682_1438_11eb_a315_00505607535erow2_col3\" class=\"data row2 col3\" >1</td>\n",
       "                        <td id=\"T_d360a682_1438_11eb_a315_00505607535erow2_col4\" class=\"data row2 col4\" >2</td>\n",
       "                        <td id=\"T_d360a682_1438_11eb_a315_00505607535erow2_col5\" class=\"data row2 col5\" >0</td>\n",
       "                        <td id=\"T_d360a682_1438_11eb_a315_00505607535erow2_col6\" class=\"data row2 col6\" >1</td>\n",
       "                        <td id=\"T_d360a682_1438_11eb_a315_00505607535erow2_col7\" class=\"data row2 col7\" >0</td>\n",
       "                        <td id=\"T_d360a682_1438_11eb_a315_00505607535erow2_col8\" class=\"data row2 col8\" >3</td>\n",
       "                        <td id=\"T_d360a682_1438_11eb_a315_00505607535erow2_col9\" class=\"data row2 col9\" >4.5</td>\n",
       "                        <td id=\"T_d360a682_1438_11eb_a315_00505607535erow2_col10\" class=\"data row2 col10\" >2</td>\n",
       "                        <td id=\"T_d360a682_1438_11eb_a315_00505607535erow2_col11\" class=\"data row2 col11\" >6</td>\n",
       "                        <td id=\"T_d360a682_1438_11eb_a315_00505607535erow2_col12\" class=\"data row2 col12\" >1</td>\n",
       "                        <td id=\"T_d360a682_1438_11eb_a315_00505607535erow2_col13\" class=\"data row2 col13\" >4</td>\n",
       "                        <td id=\"T_d360a682_1438_11eb_a315_00505607535erow2_col14\" class=\"data row2 col14\" >3</td>\n",
       "                        <td id=\"T_d360a682_1438_11eb_a315_00505607535erow2_col15\" class=\"data row2 col15\" >3</td>\n",
       "                        <td id=\"T_d360a682_1438_11eb_a315_00505607535erow2_col16\" class=\"data row2 col16\" >0</td>\n",
       "                        <td id=\"T_d360a682_1438_11eb_a315_00505607535erow2_col17\" class=\"data row2 col17\" >2</td>\n",
       "                        <td id=\"T_d360a682_1438_11eb_a315_00505607535erow2_col18\" class=\"data row2 col18\" >0</td>\n",
       "                        <td id=\"T_d360a682_1438_11eb_a315_00505607535erow2_col19\" class=\"data row2 col19\" >0</td>\n",
       "                        <td id=\"T_d360a682_1438_11eb_a315_00505607535erow2_col20\" class=\"data row2 col20\" >4</td>\n",
       "                        <td id=\"T_d360a682_1438_11eb_a315_00505607535erow2_col21\" class=\"data row2 col21\" >5</td>\n",
       "            </tr>\n",
       "    </tbody></table>"
      ],
      "text/plain": [
       "<pandas.io.formats.style.Styler at 0x7fb20032b748>"
      ]
     },
     "execution_count": 37,
     "metadata": {},
     "output_type": "execute_result"
    }
   ],
   "source": [
    "w_score_df = pd.DataFrame(w_score, columns = measures_names, index=datasets)\n",
    "w_score_df.style.set_caption(\"W score\")"
   ]
  },
  {
   "cell_type": "code",
   "execution_count": 38,
   "metadata": {},
   "outputs": [
    {
     "data": {
      "text/html": [
       "<style  type=\"text/css\" >\n",
       "</style><table id=\"T_d55ed5e4_1438_11eb_a315_00505607535e\" ><caption>P-value score</caption><thead>    <tr>        <th class=\"blank level0\" ></th>        <th class=\"col_heading level0 col0\" >P@1</th>        <th class=\"col_heading level0 col1\" >P@2</th>        <th class=\"col_heading level0 col2\" >P@3</th>        <th class=\"col_heading level0 col3\" >P@4</th>        <th class=\"col_heading level0 col4\" >P@5</th>        <th class=\"col_heading level0 col5\" >P@6</th>        <th class=\"col_heading level0 col6\" >P@7</th>        <th class=\"col_heading level0 col7\" >P@8</th>        <th class=\"col_heading level0 col8\" >P@9</th>        <th class=\"col_heading level0 col9\" >P@10</th>        <th class=\"col_heading level0 col10\" >P_Mean</th>        <th class=\"col_heading level0 col11\" >NDCG@1</th>        <th class=\"col_heading level0 col12\" >NDCG@2</th>        <th class=\"col_heading level0 col13\" >NDCG@3</th>        <th class=\"col_heading level0 col14\" >NDCG@4</th>        <th class=\"col_heading level0 col15\" >NDCG@5</th>        <th class=\"col_heading level0 col16\" >NDCG@6</th>        <th class=\"col_heading level0 col17\" >NDCG@7</th>        <th class=\"col_heading level0 col18\" >NDCG@8</th>        <th class=\"col_heading level0 col19\" >NDCG@9</th>        <th class=\"col_heading level0 col20\" >NDCG@10</th>        <th class=\"col_heading level0 col21\" >NDCG_Mean</th>    </tr></thead><tbody>\n",
       "                <tr>\n",
       "                        <th id=\"T_d55ed5e4_1438_11eb_a315_00505607535elevel0_row0\" class=\"row_heading level0 row0\" >train</th>\n",
       "                        <td id=\"T_d55ed5e4_1438_11eb_a315_00505607535erow0_col0\" class=\"data row0 col0\" >0.68583</td>\n",
       "                        <td id=\"T_d55ed5e4_1438_11eb_a315_00505607535erow0_col1\" class=\"data row0 col1\" >0.892738</td>\n",
       "                        <td id=\"T_d55ed5e4_1438_11eb_a315_00505607535erow0_col2\" class=\"data row0 col2\" >0.786457</td>\n",
       "                        <td id=\"T_d55ed5e4_1438_11eb_a315_00505607535erow0_col3\" class=\"data row0 col3\" >0.345231</td>\n",
       "                        <td id=\"T_d55ed5e4_1438_11eb_a315_00505607535erow0_col4\" class=\"data row0 col4\" >0.500184</td>\n",
       "                        <td id=\"T_d55ed5e4_1438_11eb_a315_00505607535erow0_col5\" class=\"data row0 col5\" >0.224916</td>\n",
       "                        <td id=\"T_d55ed5e4_1438_11eb_a315_00505607535erow0_col6\" class=\"data row0 col6\" >0.136217</td>\n",
       "                        <td id=\"T_d55ed5e4_1438_11eb_a315_00505607535erow0_col7\" class=\"data row0 col7\" >0.138011</td>\n",
       "                        <td id=\"T_d55ed5e4_1438_11eb_a315_00505607535erow0_col8\" class=\"data row0 col8\" >0.0431144</td>\n",
       "                        <td id=\"T_d55ed5e4_1438_11eb_a315_00505607535erow0_col9\" class=\"data row0 col9\" >0.138011</td>\n",
       "                        <td id=\"T_d55ed5e4_1438_11eb_a315_00505607535erow0_col10\" class=\"data row0 col10\" >0.138011</td>\n",
       "                        <td id=\"T_d55ed5e4_1438_11eb_a315_00505607535erow0_col11\" class=\"data row0 col11\" >0.892738</td>\n",
       "                        <td id=\"T_d55ed5e4_1438_11eb_a315_00505607535erow0_col12\" class=\"data row0 col12\" >0.892738</td>\n",
       "                        <td id=\"T_d55ed5e4_1438_11eb_a315_00505607535erow0_col13\" class=\"data row0 col13\" >0.68583</td>\n",
       "                        <td id=\"T_d55ed5e4_1438_11eb_a315_00505607535erow0_col14\" class=\"data row0 col14\" >0.500184</td>\n",
       "                        <td id=\"T_d55ed5e4_1438_11eb_a315_00505607535erow0_col15\" class=\"data row0 col15\" >0.500184</td>\n",
       "                        <td id=\"T_d55ed5e4_1438_11eb_a315_00505607535erow0_col16\" class=\"data row0 col16\" >0.345231</td>\n",
       "                        <td id=\"T_d55ed5e4_1438_11eb_a315_00505607535erow0_col17\" class=\"data row0 col17\" >0.500184</td>\n",
       "                        <td id=\"T_d55ed5e4_1438_11eb_a315_00505607535erow0_col18\" class=\"data row0 col18\" >0.343028</td>\n",
       "                        <td id=\"T_d55ed5e4_1438_11eb_a315_00505607535erow0_col19\" class=\"data row0 col19\" >0.138011</td>\n",
       "                        <td id=\"T_d55ed5e4_1438_11eb_a315_00505607535erow0_col20\" class=\"data row0 col20\" >0.500184</td>\n",
       "                        <td id=\"T_d55ed5e4_1438_11eb_a315_00505607535erow0_col21\" class=\"data row0 col21\" >0.345231</td>\n",
       "            </tr>\n",
       "            <tr>\n",
       "                        <th id=\"T_d55ed5e4_1438_11eb_a315_00505607535elevel0_row1\" class=\"row_heading level0 row1\" >vali</th>\n",
       "                        <td id=\"T_d55ed5e4_1438_11eb_a315_00505607535erow1_col0\" class=\"data row1 col0\" >0.273322</td>\n",
       "                        <td id=\"T_d55ed5e4_1438_11eb_a315_00505607535erow1_col1\" class=\"data row1 col1\" >0.0431144</td>\n",
       "                        <td id=\"T_d55ed5e4_1438_11eb_a315_00505607535erow1_col2\" class=\"data row1 col2\" >0.0431144</td>\n",
       "                        <td id=\"T_d55ed5e4_1438_11eb_a315_00505607535erow1_col3\" class=\"data row1 col3\" >0.0431144</td>\n",
       "                        <td id=\"T_d55ed5e4_1438_11eb_a315_00505607535erow1_col4\" class=\"data row1 col4\" >0.0431144</td>\n",
       "                        <td id=\"T_d55ed5e4_1438_11eb_a315_00505607535erow1_col5\" class=\"data row1 col5\" >0.0431144</td>\n",
       "                        <td id=\"T_d55ed5e4_1438_11eb_a315_00505607535erow1_col6\" class=\"data row1 col6\" >0.0431144</td>\n",
       "                        <td id=\"T_d55ed5e4_1438_11eb_a315_00505607535erow1_col7\" class=\"data row1 col7\" >0.0431144</td>\n",
       "                        <td id=\"T_d55ed5e4_1438_11eb_a315_00505607535erow1_col8\" class=\"data row1 col8\" >0.0431144</td>\n",
       "                        <td id=\"T_d55ed5e4_1438_11eb_a315_00505607535erow1_col9\" class=\"data row1 col9\" >0.0431144</td>\n",
       "                        <td id=\"T_d55ed5e4_1438_11eb_a315_00505607535erow1_col10\" class=\"data row1 col10\" >0.0431144</td>\n",
       "                        <td id=\"T_d55ed5e4_1438_11eb_a315_00505607535erow1_col11\" class=\"data row1 col11\" >0.0431144</td>\n",
       "                        <td id=\"T_d55ed5e4_1438_11eb_a315_00505607535erow1_col12\" class=\"data row1 col12\" >0.0431144</td>\n",
       "                        <td id=\"T_d55ed5e4_1438_11eb_a315_00505607535erow1_col13\" class=\"data row1 col13\" >0.0431144</td>\n",
       "                        <td id=\"T_d55ed5e4_1438_11eb_a315_00505607535erow1_col14\" class=\"data row1 col14\" >0.0421682</td>\n",
       "                        <td id=\"T_d55ed5e4_1438_11eb_a315_00505607535erow1_col15\" class=\"data row1 col15\" >0.0431144</td>\n",
       "                        <td id=\"T_d55ed5e4_1438_11eb_a315_00505607535erow1_col16\" class=\"data row1 col16\" >0.0431144</td>\n",
       "                        <td id=\"T_d55ed5e4_1438_11eb_a315_00505607535erow1_col17\" class=\"data row1 col17\" >0.0431144</td>\n",
       "                        <td id=\"T_d55ed5e4_1438_11eb_a315_00505607535erow1_col18\" class=\"data row1 col18\" >0.0431144</td>\n",
       "                        <td id=\"T_d55ed5e4_1438_11eb_a315_00505607535erow1_col19\" class=\"data row1 col19\" >0.0431144</td>\n",
       "                        <td id=\"T_d55ed5e4_1438_11eb_a315_00505607535erow1_col20\" class=\"data row1 col20\" >0.0431144</td>\n",
       "                        <td id=\"T_d55ed5e4_1438_11eb_a315_00505607535erow1_col21\" class=\"data row1 col21\" >0.0431144</td>\n",
       "            </tr>\n",
       "            <tr>\n",
       "                        <th id=\"T_d55ed5e4_1438_11eb_a315_00505607535elevel0_row2\" class=\"row_heading level0 row2\" >test</th>\n",
       "                        <td id=\"T_d55ed5e4_1438_11eb_a315_00505607535erow2_col0\" class=\"data row2 col0\" >0.465209</td>\n",
       "                        <td id=\"T_d55ed5e4_1438_11eb_a315_00505607535erow2_col1\" class=\"data row2 col1\" >0.0678892</td>\n",
       "                        <td id=\"T_d55ed5e4_1438_11eb_a315_00505607535erow2_col2\" class=\"data row2 col2\" >0.715001</td>\n",
       "                        <td id=\"T_d55ed5e4_1438_11eb_a315_00505607535erow2_col3\" class=\"data row2 col3\" >0.0796158</td>\n",
       "                        <td id=\"T_d55ed5e4_1438_11eb_a315_00505607535erow2_col4\" class=\"data row2 col4\" >0.138011</td>\n",
       "                        <td id=\"T_d55ed5e4_1438_11eb_a315_00505607535erow2_col5\" class=\"data row2 col5\" >0.0431144</td>\n",
       "                        <td id=\"T_d55ed5e4_1438_11eb_a315_00505607535erow2_col6\" class=\"data row2 col6\" >0.0796158</td>\n",
       "                        <td id=\"T_d55ed5e4_1438_11eb_a315_00505607535erow2_col7\" class=\"data row2 col7\" >0.0421682</td>\n",
       "                        <td id=\"T_d55ed5e4_1438_11eb_a315_00505607535erow2_col8\" class=\"data row2 col8\" >0.224916</td>\n",
       "                        <td id=\"T_d55ed5e4_1438_11eb_a315_00505607535erow2_col9\" class=\"data row2 col9\" >0.416366</td>\n",
       "                        <td id=\"T_d55ed5e4_1438_11eb_a315_00505607535erow2_col10\" class=\"data row2 col10\" >0.138011</td>\n",
       "                        <td id=\"T_d55ed5e4_1438_11eb_a315_00505607535erow2_col11\" class=\"data row2 col11\" >0.68583</td>\n",
       "                        <td id=\"T_d55ed5e4_1438_11eb_a315_00505607535erow2_col12\" class=\"data row2 col12\" >0.0796158</td>\n",
       "                        <td id=\"T_d55ed5e4_1438_11eb_a315_00505607535erow2_col13\" class=\"data row2 col13\" >0.345231</td>\n",
       "                        <td id=\"T_d55ed5e4_1438_11eb_a315_00505607535erow2_col14\" class=\"data row2 col14\" >0.224916</td>\n",
       "                        <td id=\"T_d55ed5e4_1438_11eb_a315_00505607535erow2_col15\" class=\"data row2 col15\" >0.224916</td>\n",
       "                        <td id=\"T_d55ed5e4_1438_11eb_a315_00505607535erow2_col16\" class=\"data row2 col16\" >0.0431144</td>\n",
       "                        <td id=\"T_d55ed5e4_1438_11eb_a315_00505607535erow2_col17\" class=\"data row2 col17\" >0.138011</td>\n",
       "                        <td id=\"T_d55ed5e4_1438_11eb_a315_00505607535erow2_col18\" class=\"data row2 col18\" >0.0431144</td>\n",
       "                        <td id=\"T_d55ed5e4_1438_11eb_a315_00505607535erow2_col19\" class=\"data row2 col19\" >0.0431144</td>\n",
       "                        <td id=\"T_d55ed5e4_1438_11eb_a315_00505607535erow2_col20\" class=\"data row2 col20\" >0.345231</td>\n",
       "                        <td id=\"T_d55ed5e4_1438_11eb_a315_00505607535erow2_col21\" class=\"data row2 col21\" >0.500184</td>\n",
       "            </tr>\n",
       "    </tbody></table>"
      ],
      "text/plain": [
       "<pandas.io.formats.style.Styler at 0x7fb20018e160>"
      ]
     },
     "execution_count": 38,
     "metadata": {},
     "output_type": "execute_result"
    }
   ],
   "source": [
    "p_value_df = pd.DataFrame(p_value, columns = measures_names, index=datasets)\n",
    "p_value_df.style.set_caption(\"P-value score\")"
   ]
  },
  {
   "cell_type": "code",
   "execution_count": null,
   "metadata": {},
   "outputs": [],
   "source": []
  },
  {
   "cell_type": "code",
   "execution_count": null,
   "metadata": {},
   "outputs": [],
   "source": []
  },
  {
   "cell_type": "code",
   "execution_count": null,
   "metadata": {},
   "outputs": [],
   "source": []
  }
 ],
 "metadata": {
  "kernelspec": {
   "display_name": "Python 3",
   "language": "python",
   "name": "python3"
  },
  "language_info": {
   "codemirror_mode": {
    "name": "ipython",
    "version": 3
   },
   "file_extension": ".py",
   "mimetype": "text/x-python",
   "name": "python",
   "nbconvert_exporter": "python",
   "pygments_lexer": "ipython3",
   "version": "3.5.3"
  }
 },
 "nbformat": 4,
 "nbformat_minor": 2
}
