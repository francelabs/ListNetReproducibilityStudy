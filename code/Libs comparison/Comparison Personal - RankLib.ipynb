{
 "cells": [
  {
   "cell_type": "code",
   "execution_count": 1,
   "metadata": {},
   "outputs": [],
   "source": [
    "import pandas as pd\n",
    "import numpy as np\n",
    "import matplotlib.pyplot as plt\n",
    "import matplotlib.patches as mpatches\n",
    "import matplotlib.patheffects as PathEffects\n",
    "\n",
    "from scipy import stats"
   ]
  },
  {
   "cell_type": "code",
   "execution_count": 2,
   "metadata": {},
   "outputs": [],
   "source": [
    "def get_t_score_from_p_value(p_val_ref,df):\n",
    "    t_score = 1\n",
    "    p_val = 2*(1 - stats.t.cdf(t_score,df=df))\n",
    "    err = 0.0000001\n",
    "    factor = 10\n",
    "\n",
    "    while abs(p_val - p_val_ref) > err:\n",
    "        t_score = t_score + (p_val - p_val_ref)*factor\n",
    "        p_val = 2*(1 - stats.t.cdf(t_score,df=df))\n",
    "        \n",
    "    return t_score"
   ]
  },
  {
   "cell_type": "markdown",
   "metadata": {},
   "source": [
    "# MQ2008"
   ]
  },
  {
   "cell_type": "code",
   "execution_count": 3,
   "metadata": {},
   "outputs": [],
   "source": [
    "folds = [\"fold1\",\"fold2\",\"fold3\",\"fold4\",\"fold5\"]\n",
    "\n",
    "measures_names = [\"P@1\",\"P@2\",\"P@3\",\"P@4\",\"P@5\",\"P@6\",\"P@7\",\"P@8\",\"P@9\",\"P@10\",\"P_Mean\",\n",
    "                  \"NDCG@1\",\"NDCG@2\",\"NDCG@3\",\"NDCG@4\",\"NDCG@5\",\"NDCG@6\",\"NDCG@7\",\"NDCG@8\",\"NDCG@9\",\"NDCG@10\",\n",
    "                  \"NDCG_Mean\"]\n",
    "\n",
    "datasets = [\"train\",\"vali\",\"test\"]"
   ]
  },
  {
   "cell_type": "code",
   "execution_count": 4,
   "metadata": {},
   "outputs": [],
   "source": [
    "dataset_path = \"../../MQ2008/min.txt\"\n",
    "with open(dataset_path) as f:\n",
    "   n = sum(1 for _ in f)\n",
    "\n",
    "n_samples_datasets = [int(0.6*n),int(0.2*n),int(0.2*n)]"
   ]
  },
  {
   "cell_type": "code",
   "execution_count": 5,
   "metadata": {},
   "outputs": [
    {
     "data": {
      "text/plain": [
       "[9126, 3042, 3042]"
      ]
     },
     "execution_count": 5,
     "metadata": {},
     "output_type": "execute_result"
    }
   ],
   "source": [
    "n_samples_datasets"
   ]
  },
  {
   "cell_type": "markdown",
   "metadata": {},
   "source": [
    "### NDCG measures for the top models of our personal ListNet implementation"
   ]
  },
  {
   "cell_type": "code",
   "execution_count": 6,
   "metadata": {},
   "outputs": [],
   "source": [
    "my_listnet_path = \"../../MQ2008/results_summary/Results_LETOR_global_vali.csv\"\n",
    "my_listnet_df = pd.read_csv(my_listnet_path)\n",
    "\n",
    "my_listnet_df = my_listnet_df.sort_values(['NDCG_Mean'],ascending=False)\n",
    "my_listnet_top_model_id = my_listnet_df.index[0]"
   ]
  },
  {
   "cell_type": "code",
   "execution_count": 7,
   "metadata": {
    "scrolled": true
   },
   "outputs": [
    {
     "data": {
      "text/html": [
       "<div>\n",
       "<style scoped>\n",
       "    .dataframe tbody tr th:only-of-type {\n",
       "        vertical-align: middle;\n",
       "    }\n",
       "\n",
       "    .dataframe tbody tr th {\n",
       "        vertical-align: top;\n",
       "    }\n",
       "\n",
       "    .dataframe thead th {\n",
       "        text-align: right;\n",
       "    }\n",
       "</style>\n",
       "<table border=\"1\" class=\"dataframe\">\n",
       "  <thead>\n",
       "    <tr style=\"text-align: right;\">\n",
       "      <th></th>\n",
       "      <th>epochs</th>\n",
       "      <th>learning_rate</th>\n",
       "      <th>momemtum</th>\n",
       "      <th>activation</th>\n",
       "      <th>inner_act</th>\n",
       "      <th>number_layers</th>\n",
       "      <th>number_neurons</th>\n",
       "      <th>dropout</th>\n",
       "      <th>P@1</th>\n",
       "      <th>P@2</th>\n",
       "      <th>...</th>\n",
       "      <th>NDCG@3</th>\n",
       "      <th>NDCG@4</th>\n",
       "      <th>NDCG@5</th>\n",
       "      <th>NDCG@6</th>\n",
       "      <th>NDCG@7</th>\n",
       "      <th>NDCG@8</th>\n",
       "      <th>NDCG@9</th>\n",
       "      <th>NDCG@10</th>\n",
       "      <th>NDCG_Mean</th>\n",
       "      <th>NDCG_Var</th>\n",
       "    </tr>\n",
       "  </thead>\n",
       "  <tbody>\n",
       "    <tr>\n",
       "      <th>28</th>\n",
       "      <td>600</td>\n",
       "      <td>0.0025</td>\n",
       "      <td>0.5</td>\n",
       "      <td>linear</td>\n",
       "      <td>relu</td>\n",
       "      <td>1.0</td>\n",
       "      <td>100.0</td>\n",
       "      <td>0.65</td>\n",
       "      <td>0.50000</td>\n",
       "      <td>0.44960</td>\n",
       "      <td>...</td>\n",
       "      <td>0.48128</td>\n",
       "      <td>0.49710</td>\n",
       "      <td>0.51280</td>\n",
       "      <td>0.52386</td>\n",
       "      <td>0.52836</td>\n",
       "      <td>0.48814</td>\n",
       "      <td>0.23820</td>\n",
       "      <td>0.24182</td>\n",
       "      <td>0.440948</td>\n",
       "      <td>0.010778</td>\n",
       "    </tr>\n",
       "    <tr>\n",
       "      <th>24</th>\n",
       "      <td>500</td>\n",
       "      <td>0.0025</td>\n",
       "      <td>0.5</td>\n",
       "      <td>linear</td>\n",
       "      <td>relu</td>\n",
       "      <td>1.0</td>\n",
       "      <td>100.0</td>\n",
       "      <td>0.65</td>\n",
       "      <td>0.48934</td>\n",
       "      <td>0.44684</td>\n",
       "      <td>...</td>\n",
       "      <td>0.47484</td>\n",
       "      <td>0.49366</td>\n",
       "      <td>0.50820</td>\n",
       "      <td>0.52056</td>\n",
       "      <td>0.52520</td>\n",
       "      <td>0.48508</td>\n",
       "      <td>0.23612</td>\n",
       "      <td>0.24006</td>\n",
       "      <td>0.436548</td>\n",
       "      <td>0.010628</td>\n",
       "    </tr>\n",
       "    <tr>\n",
       "      <th>31</th>\n",
       "      <td>600</td>\n",
       "      <td>0.0025</td>\n",
       "      <td>0.5</td>\n",
       "      <td>linear</td>\n",
       "      <td>relu</td>\n",
       "      <td>2.0</td>\n",
       "      <td>100.0</td>\n",
       "      <td>0.80</td>\n",
       "      <td>0.48256</td>\n",
       "      <td>0.44128</td>\n",
       "      <td>...</td>\n",
       "      <td>0.47408</td>\n",
       "      <td>0.49100</td>\n",
       "      <td>0.50692</td>\n",
       "      <td>0.51710</td>\n",
       "      <td>0.52134</td>\n",
       "      <td>0.48150</td>\n",
       "      <td>0.23310</td>\n",
       "      <td>0.23682</td>\n",
       "      <td>0.433206</td>\n",
       "      <td>0.010670</td>\n",
       "    </tr>\n",
       "    <tr>\n",
       "      <th>27</th>\n",
       "      <td>500</td>\n",
       "      <td>0.0025</td>\n",
       "      <td>0.5</td>\n",
       "      <td>linear</td>\n",
       "      <td>relu</td>\n",
       "      <td>2.0</td>\n",
       "      <td>100.0</td>\n",
       "      <td>0.80</td>\n",
       "      <td>0.48086</td>\n",
       "      <td>0.43684</td>\n",
       "      <td>...</td>\n",
       "      <td>0.47028</td>\n",
       "      <td>0.48764</td>\n",
       "      <td>0.50166</td>\n",
       "      <td>0.51322</td>\n",
       "      <td>0.51774</td>\n",
       "      <td>0.47784</td>\n",
       "      <td>0.22948</td>\n",
       "      <td>0.23338</td>\n",
       "      <td>0.430202</td>\n",
       "      <td>0.010633</td>\n",
       "    </tr>\n",
       "    <tr>\n",
       "      <th>23</th>\n",
       "      <td>400</td>\n",
       "      <td>0.0025</td>\n",
       "      <td>0.5</td>\n",
       "      <td>linear</td>\n",
       "      <td>relu</td>\n",
       "      <td>2.0</td>\n",
       "      <td>100.0</td>\n",
       "      <td>0.80</td>\n",
       "      <td>0.47786</td>\n",
       "      <td>0.43704</td>\n",
       "      <td>...</td>\n",
       "      <td>0.46684</td>\n",
       "      <td>0.48602</td>\n",
       "      <td>0.50032</td>\n",
       "      <td>0.51190</td>\n",
       "      <td>0.51654</td>\n",
       "      <td>0.47744</td>\n",
       "      <td>0.23146</td>\n",
       "      <td>0.23494</td>\n",
       "      <td>0.429128</td>\n",
       "      <td>0.010375</td>\n",
       "    </tr>\n",
       "  </tbody>\n",
       "</table>\n",
       "<p>5 rows × 32 columns</p>\n",
       "</div>"
      ],
      "text/plain": [
       "    epochs  learning_rate  momemtum activation inner_act  number_layers  \\\n",
       "28     600         0.0025       0.5     linear      relu            1.0   \n",
       "24     500         0.0025       0.5     linear      relu            1.0   \n",
       "31     600         0.0025       0.5     linear      relu            2.0   \n",
       "27     500         0.0025       0.5     linear      relu            2.0   \n",
       "23     400         0.0025       0.5     linear      relu            2.0   \n",
       "\n",
       "    number_neurons  dropout      P@1      P@2  ...   NDCG@3   NDCG@4   NDCG@5  \\\n",
       "28           100.0     0.65  0.50000  0.44960  ...  0.48128  0.49710  0.51280   \n",
       "24           100.0     0.65  0.48934  0.44684  ...  0.47484  0.49366  0.50820   \n",
       "31           100.0     0.80  0.48256  0.44128  ...  0.47408  0.49100  0.50692   \n",
       "27           100.0     0.80  0.48086  0.43684  ...  0.47028  0.48764  0.50166   \n",
       "23           100.0     0.80  0.47786  0.43704  ...  0.46684  0.48602  0.50032   \n",
       "\n",
       "     NDCG@6   NDCG@7   NDCG@8   NDCG@9  NDCG@10  NDCG_Mean  NDCG_Var  \n",
       "28  0.52386  0.52836  0.48814  0.23820  0.24182   0.440948  0.010778  \n",
       "24  0.52056  0.52520  0.48508  0.23612  0.24006   0.436548  0.010628  \n",
       "31  0.51710  0.52134  0.48150  0.23310  0.23682   0.433206  0.010670  \n",
       "27  0.51322  0.51774  0.47784  0.22948  0.23338   0.430202  0.010633  \n",
       "23  0.51190  0.51654  0.47744  0.23146  0.23494   0.429128  0.010375  \n",
       "\n",
       "[5 rows x 32 columns]"
      ]
     },
     "execution_count": 7,
     "metadata": {},
     "output_type": "execute_result"
    }
   ],
   "source": [
    "#TOP 5 MODELS OF OUR PERSONAL LISTNET IMPLEMENTATION\n",
    "my_listnet_df.head(5)"
   ]
  },
  {
   "cell_type": "code",
   "execution_count": 8,
   "metadata": {},
   "outputs": [
    {
     "data": {
      "text/plain": [
       "0.356508"
      ]
     },
     "execution_count": 8,
     "metadata": {},
     "output_type": "execute_result"
    }
   ],
   "source": [
    "my_listnet_df.iloc[0][\"P_Mean\"]"
   ]
  },
  {
   "cell_type": "code",
   "execution_count": 37,
   "metadata": {},
   "outputs": [
    {
     "data": {
      "text/plain": [
       "epochs                   600\n",
       "learning_rate         0.0025\n",
       "momemtum                 0.5\n",
       "activation            linear\n",
       "inner_act               relu\n",
       "number_layers              1\n",
       "number_neurons           100\n",
       "dropout                 0.65\n",
       "P@1                  0.43238\n",
       "P@2                  0.40304\n",
       "P@3                  0.38436\n",
       "P@4                  0.36608\n",
       "P@5                  0.34592\n",
       "P@6                  0.32374\n",
       "P@7                  0.30268\n",
       "P@8                  0.28266\n",
       "P@9                    0.265\n",
       "P@10                 0.24808\n",
       "P_Mean              0.335394\n",
       "P_Var             0.00339983\n",
       "NDCG@1                0.3635\n",
       "NDCG@2               0.39124\n",
       "NDCG@3                0.4176\n",
       "NDCG@4               0.44476\n",
       "NDCG@5               0.46702\n",
       "NDCG@6               0.47998\n",
       "NDCG@7               0.48792\n",
       "NDCG@8               0.45314\n",
       "NDCG@9               0.22194\n",
       "NDCG@10              0.22558\n",
       "NDCG_Mean           0.395268\n",
       "NDCG_Var          0.00870683\n",
       "Name: 28, dtype: object"
      ]
     },
     "execution_count": 37,
     "metadata": {},
     "output_type": "execute_result"
    }
   ],
   "source": [
    "my_listnet_path = \"../../MQ2008/results_summary/Results_LETOR_global_test.csv\"\n",
    "my_listnet_df = pd.read_csv(my_listnet_path)\n",
    "my_listnet_df.iloc[my_listnet_top_model_id]"
   ]
  },
  {
   "cell_type": "markdown",
   "metadata": {},
   "source": [
    "### NDCG measures for the top models of RankLib implementation"
   ]
  },
  {
   "cell_type": "code",
   "execution_count": 9,
   "metadata": {},
   "outputs": [],
   "source": [
    "ranklib_path = \"../../MQ2008/results_summary/Results_RankLib_global_vali.csv\"\n",
    "ranklib_df = pd.read_csv(ranklib_path)\n",
    "\n",
    "ranklib_df = ranklib_df.sort_values(['NDCG_Mean'],ascending=False)\n",
    "ranklib_top_model_id = ranklib_df.index[0]"
   ]
  },
  {
   "cell_type": "code",
   "execution_count": 10,
   "metadata": {
    "scrolled": true
   },
   "outputs": [
    {
     "data": {
      "text/html": [
       "<div>\n",
       "<style scoped>\n",
       "    .dataframe tbody tr th:only-of-type {\n",
       "        vertical-align: middle;\n",
       "    }\n",
       "\n",
       "    .dataframe tbody tr th {\n",
       "        vertical-align: top;\n",
       "    }\n",
       "\n",
       "    .dataframe thead th {\n",
       "        text-align: right;\n",
       "    }\n",
       "</style>\n",
       "<table border=\"1\" class=\"dataframe\">\n",
       "  <thead>\n",
       "    <tr style=\"text-align: right;\">\n",
       "      <th></th>\n",
       "      <th>epochs</th>\n",
       "      <th>learning_rate</th>\n",
       "      <th>Opti_method</th>\n",
       "      <th>P@1</th>\n",
       "      <th>P@2</th>\n",
       "      <th>P@3</th>\n",
       "      <th>P@4</th>\n",
       "      <th>P@5</th>\n",
       "      <th>P@6</th>\n",
       "      <th>P@7</th>\n",
       "      <th>...</th>\n",
       "      <th>NDCG@3</th>\n",
       "      <th>NDCG@4</th>\n",
       "      <th>NDCG@5</th>\n",
       "      <th>NDCG@6</th>\n",
       "      <th>NDCG@7</th>\n",
       "      <th>NDCG@8</th>\n",
       "      <th>NDCG@9</th>\n",
       "      <th>NDCG@10</th>\n",
       "      <th>NDCG_Mean</th>\n",
       "      <th>NDCG_Var</th>\n",
       "    </tr>\n",
       "  </thead>\n",
       "  <tbody>\n",
       "    <tr>\n",
       "      <th>15</th>\n",
       "      <td>1000</td>\n",
       "      <td>0.00001</td>\n",
       "      <td>NDCG@5</td>\n",
       "      <td>0.41752</td>\n",
       "      <td>0.39138</td>\n",
       "      <td>0.36706</td>\n",
       "      <td>0.35022</td>\n",
       "      <td>0.33266</td>\n",
       "      <td>0.31378</td>\n",
       "      <td>0.29300</td>\n",
       "      <td>...</td>\n",
       "      <td>0.40856</td>\n",
       "      <td>0.43220</td>\n",
       "      <td>0.45352</td>\n",
       "      <td>0.47004</td>\n",
       "      <td>0.47670</td>\n",
       "      <td>0.44342</td>\n",
       "      <td>0.21112</td>\n",
       "      <td>0.21592</td>\n",
       "      <td>0.385060</td>\n",
       "      <td>0.008635</td>\n",
       "    </tr>\n",
       "    <tr>\n",
       "      <th>21</th>\n",
       "      <td>1500</td>\n",
       "      <td>0.00100</td>\n",
       "      <td>NDCG@10</td>\n",
       "      <td>0.41496</td>\n",
       "      <td>0.38798</td>\n",
       "      <td>0.36564</td>\n",
       "      <td>0.34608</td>\n",
       "      <td>0.33120</td>\n",
       "      <td>0.31198</td>\n",
       "      <td>0.29214</td>\n",
       "      <td>...</td>\n",
       "      <td>0.40744</td>\n",
       "      <td>0.42988</td>\n",
       "      <td>0.45152</td>\n",
       "      <td>0.46752</td>\n",
       "      <td>0.47510</td>\n",
       "      <td>0.44168</td>\n",
       "      <td>0.21086</td>\n",
       "      <td>0.21542</td>\n",
       "      <td>0.383548</td>\n",
       "      <td>0.008511</td>\n",
       "    </tr>\n",
       "    <tr>\n",
       "      <th>28</th>\n",
       "      <td>1500</td>\n",
       "      <td>0.00001</td>\n",
       "      <td>P@10</td>\n",
       "      <td>0.41326</td>\n",
       "      <td>0.38902</td>\n",
       "      <td>0.36366</td>\n",
       "      <td>0.34950</td>\n",
       "      <td>0.33342</td>\n",
       "      <td>0.31340</td>\n",
       "      <td>0.29196</td>\n",
       "      <td>...</td>\n",
       "      <td>0.40490</td>\n",
       "      <td>0.43024</td>\n",
       "      <td>0.45228</td>\n",
       "      <td>0.46796</td>\n",
       "      <td>0.47476</td>\n",
       "      <td>0.44172</td>\n",
       "      <td>0.21212</td>\n",
       "      <td>0.21614</td>\n",
       "      <td>0.383384</td>\n",
       "      <td>0.008456</td>\n",
       "    </tr>\n",
       "    <tr>\n",
       "      <th>37</th>\n",
       "      <td>2000</td>\n",
       "      <td>0.00001</td>\n",
       "      <td>P@5</td>\n",
       "      <td>0.41494</td>\n",
       "      <td>0.38730</td>\n",
       "      <td>0.36492</td>\n",
       "      <td>0.35128</td>\n",
       "      <td>0.33410</td>\n",
       "      <td>0.31436</td>\n",
       "      <td>0.29210</td>\n",
       "      <td>...</td>\n",
       "      <td>0.40584</td>\n",
       "      <td>0.43172</td>\n",
       "      <td>0.45356</td>\n",
       "      <td>0.46782</td>\n",
       "      <td>0.47428</td>\n",
       "      <td>0.44070</td>\n",
       "      <td>0.20956</td>\n",
       "      <td>0.21410</td>\n",
       "      <td>0.383244</td>\n",
       "      <td>0.008618</td>\n",
       "    </tr>\n",
       "    <tr>\n",
       "      <th>29</th>\n",
       "      <td>1500</td>\n",
       "      <td>0.00001</td>\n",
       "      <td>ERR@10</td>\n",
       "      <td>0.41070</td>\n",
       "      <td>0.38904</td>\n",
       "      <td>0.36506</td>\n",
       "      <td>0.35010</td>\n",
       "      <td>0.33146</td>\n",
       "      <td>0.31292</td>\n",
       "      <td>0.29232</td>\n",
       "      <td>...</td>\n",
       "      <td>0.40700</td>\n",
       "      <td>0.43150</td>\n",
       "      <td>0.45222</td>\n",
       "      <td>0.46746</td>\n",
       "      <td>0.47524</td>\n",
       "      <td>0.44196</td>\n",
       "      <td>0.21008</td>\n",
       "      <td>0.21522</td>\n",
       "      <td>0.383020</td>\n",
       "      <td>0.008613</td>\n",
       "    </tr>\n",
       "  </tbody>\n",
       "</table>\n",
       "<p>5 rows × 27 columns</p>\n",
       "</div>"
      ],
      "text/plain": [
       "    epochs  learning_rate Opti_method      P@1      P@2      P@3      P@4  \\\n",
       "15    1000        0.00001      NDCG@5  0.41752  0.39138  0.36706  0.35022   \n",
       "21    1500        0.00100     NDCG@10  0.41496  0.38798  0.36564  0.34608   \n",
       "28    1500        0.00001        P@10  0.41326  0.38902  0.36366  0.34950   \n",
       "37    2000        0.00001         P@5  0.41494  0.38730  0.36492  0.35128   \n",
       "29    1500        0.00001      ERR@10  0.41070  0.38904  0.36506  0.35010   \n",
       "\n",
       "        P@5      P@6      P@7  ...   NDCG@3   NDCG@4   NDCG@5   NDCG@6  \\\n",
       "15  0.33266  0.31378  0.29300  ...  0.40856  0.43220  0.45352  0.47004   \n",
       "21  0.33120  0.31198  0.29214  ...  0.40744  0.42988  0.45152  0.46752   \n",
       "28  0.33342  0.31340  0.29196  ...  0.40490  0.43024  0.45228  0.46796   \n",
       "37  0.33410  0.31436  0.29210  ...  0.40584  0.43172  0.45356  0.46782   \n",
       "29  0.33146  0.31292  0.29232  ...  0.40700  0.43150  0.45222  0.46746   \n",
       "\n",
       "     NDCG@7   NDCG@8   NDCG@9  NDCG@10  NDCG_Mean  NDCG_Var  \n",
       "15  0.47670  0.44342  0.21112  0.21592   0.385060  0.008635  \n",
       "21  0.47510  0.44168  0.21086  0.21542   0.383548  0.008511  \n",
       "28  0.47476  0.44172  0.21212  0.21614   0.383384  0.008456  \n",
       "37  0.47428  0.44070  0.20956  0.21410   0.383244  0.008618  \n",
       "29  0.47524  0.44196  0.21008  0.21522   0.383020  0.008613  \n",
       "\n",
       "[5 rows x 27 columns]"
      ]
     },
     "execution_count": 10,
     "metadata": {},
     "output_type": "execute_result"
    }
   ],
   "source": [
    "#TOP 5 MODELS OF THE RANKLIB IMPLEMENTATION\n",
    "ranklib_df.head(5)"
   ]
  },
  {
   "cell_type": "code",
   "execution_count": 11,
   "metadata": {},
   "outputs": [
    {
     "data": {
      "text/plain": [
       "0.324048"
      ]
     },
     "execution_count": 11,
     "metadata": {},
     "output_type": "execute_result"
    }
   ],
   "source": [
    "ranklib_df.iloc[0][\"P_Mean\"]"
   ]
  },
  {
   "cell_type": "code",
   "execution_count": 38,
   "metadata": {},
   "outputs": [
    {
     "data": {
      "text/plain": [
       "epochs                 1500\n",
       "learning_rate         0.001\n",
       "Opti_method            P@10\n",
       "P@1                  0.3941\n",
       "P@2                   0.382\n",
       "P@3                  0.3601\n",
       "P@4                 0.34408\n",
       "P@5                 0.32528\n",
       "P@6                 0.30826\n",
       "P@7                 0.28844\n",
       "P@8                 0.27312\n",
       "P@9                  0.2555\n",
       "P@10                0.24146\n",
       "P_Mean             0.317234\n",
       "P_Var            0.00251344\n",
       "NDCG@1              0.33458\n",
       "NDCG@2              0.37208\n",
       "NDCG@3               0.3968\n",
       "NDCG@4              0.42202\n",
       "NDCG@5              0.44338\n",
       "NDCG@6               0.4588\n",
       "NDCG@7               0.4652\n",
       "NDCG@8              0.43516\n",
       "NDCG@9              0.20638\n",
       "NDCG@10             0.21136\n",
       "NDCG_Mean          0.374576\n",
       "NDCG_Var         0.00829909\n",
       "Name: 23, dtype: object"
      ]
     },
     "execution_count": 38,
     "metadata": {},
     "output_type": "execute_result"
    }
   ],
   "source": [
    "ranklib_path = \"../../MQ2008/results_summary/Results_RankLib_global_test.csv\"\n",
    "ranklib_df = pd.read_csv(ranklib_path)\n",
    "ranklib_df.iloc[ranklib_top_model_id]"
   ]
  },
  {
   "cell_type": "markdown",
   "metadata": {},
   "source": [
    "### Comparison NDCG measures between top model of personal ListNet and RankLib"
   ]
  },
  {
   "cell_type": "code",
   "execution_count": 12,
   "metadata": {},
   "outputs": [],
   "source": [
    "my_listnet_mean = [[] for x in range(len(datasets))]\n",
    "my_listnet_var = [[] for x in range(len(datasets))]\n",
    "\n",
    "ranklib_mean = [[] for x in range(len(datasets))]\n",
    "ranklib_var = [[] for x in range(len(datasets))]\n",
    "\n",
    "for idx_dataset in range(len(datasets)):\n",
    "    my_listnet_list_NDCG = [[] for x in range(len(measures_names))]\n",
    "    ranklib_list_NDCG = [[] for x in range(len(measures_names))]\n",
    "    \n",
    "    for idx_fold in range(len(folds)):\n",
    "        \n",
    "        my_listnet_path = \"../../MQ2008/results_summary/Results_LETOR_\"+folds[idx_fold]+\\\n",
    "            \"_\"+datasets[idx_dataset]+\".csv\"\n",
    "        ranklib_path = \"../../MQ2008/results_summary/Results_RankLib_\"+folds[idx_fold]+\\\n",
    "            \"_\"+datasets[idx_dataset]+\".csv\"\n",
    "\n",
    "        my_listnet_df = pd.read_csv(my_listnet_path)\n",
    "        ranklib_df = pd.read_csv(ranklib_path)\n",
    "        \n",
    "        for idx_metric in range(len(measures_names)):\n",
    "            my_listnet_list_NDCG[idx_metric].append(my_listnet_df.iloc[my_listnet_top_model_id][measures_names[idx_metric]])\n",
    "            ranklib_list_NDCG[idx_metric].append(ranklib_df.iloc[ranklib_top_model_id][measures_names[idx_metric]])\n",
    "            \n",
    "    my_listnet_mean[idx_dataset] = np.array(my_listnet_list_NDCG).mean(axis=1)\n",
    "    my_listnet_var[idx_dataset] = np.array(my_listnet_list_NDCG).var(axis=1)\n",
    "    \n",
    "    ranklib_mean[idx_dataset] = np.array(ranklib_list_NDCG).mean(axis=1)\n",
    "    ranklib_var[idx_dataset] = np.array(ranklib_list_NDCG).var(axis=1)"
   ]
  },
  {
   "cell_type": "code",
   "execution_count": 13,
   "metadata": {
    "scrolled": false
   },
   "outputs": [
    {
     "data": {
      "image/png": "[encoded data removed]",
      "text/plain": [
       "<Figure size 432x288 with 1 Axes>"
      ]
     },
     "metadata": {
      "needs_background": "light"
     },
     "output_type": "display_data"
    },
    {
     "data": {
      "image/png": "[encoded data removed]",
      "text/plain": [
       "<Figure size 432x288 with 1 Axes>"
      ]
     },
     "metadata": {
      "needs_background": "light"
     },
     "output_type": "display_data"
    },
    {
     "data": {
      "image/png": "[encoded data removed]",
      "text/plain": [
       "<Figure size 432x288 with 1 Axes>"
      ]
     },
     "metadata": {
      "needs_background": "light"
     },
     "output_type": "display_data"
    }
   ],
   "source": [
    "indices = range(len(measures_names))\n",
    "width = np.min(np.diff(indices))/3.\n",
    "\n",
    "for idx_dataset in range(len(datasets)):\n",
    "    ax = plt.figure().add_axes([0,0,1,1])\n",
    "    plt.xticks(rotation=90)\n",
    "    ax.bar(indices-width/2, my_listnet_mean[idx_dataset],width, yerr = my_listnet_var[idx_dataset],\\\n",
    "           align='center', alpha=0.6, ecolor='black', capsize=5, label = \"ListNet Datafari\")\n",
    "    ax.bar(indices+width/2, ranklib_mean[idx_dataset],width, yerr = ranklib_var[idx_dataset],\\\n",
    "           align='center', alpha=0.6, ecolor='black', capsize=5, label = \"ListNet RankLib\")\n",
    "    ax.set_title(\"Mean NDCG@1-10 measure for \"+datasets[idx_dataset]+\" set with the top model of each implementation\")\n",
    "    ax.set_xticks(indices)\n",
    "    ax.axes.set_xticklabels(measures_names)\n",
    "    ax.set_ylabel(\"NDCG Mean 1-10\")\n",
    "    ax.legend(loc='best')"
   ]
  },
  {
   "cell_type": "markdown",
   "metadata": {},
   "source": [
    "### Comparing NDCG of the top model of each library with Wilcoxon's signed-rank test"
   ]
  },
  {
   "cell_type": "markdown",
   "metadata": {},
   "source": [
    "We will now compare the results by the two bests models of our libraries with the Wilcoxon's signed-rank test\n",
    "- We take the best model of each library\n",
    "- We study how they perform on each folder\n",
    "- We will compare their NDCG values and use them for the Wilcoxon's signed-rank test"
   ]
  },
  {
   "cell_type": "code",
   "execution_count": 14,
   "metadata": {},
   "outputs": [],
   "source": [
    "measures_names = [\"P@1\",\"P@2\",\"P@3\",\"P@4\",\"P@5\",\"P@6\",\"P@7\",\"P@8\",\"P@9\",\"P@10\",\"P_Mean\",\n",
    "                  \"NDCG@1\",\"NDCG@2\",\"NDCG@3\",\"NDCG@4\",\"NDCG@5\",\"NDCG@6\",\"NDCG@7\",\"NDCG@8\",\"NDCG@9\",\"NDCG@10\",\n",
    "                  \"NDCG_Mean\"]\n",
    "\n",
    "w_score = [[] for x in range(len(datasets))]\n",
    "p_value = [[] for x in range(len(datasets))]\n",
    "\n",
    "sig_lvl = 0.05"
   ]
  },
  {
   "cell_type": "code",
   "execution_count": 15,
   "metadata": {},
   "outputs": [
    {
     "name": "stderr",
     "output_type": "stream",
     "text": [
      "/usr/local/lib/python3.5/dist-packages/scipy/stats/morestats.py:2879: UserWarning: Sample size too small for normal approximation.\n",
      "  warnings.warn(\"Sample size too small for normal approximation.\")\n"
     ]
    }
   ],
   "source": [
    "n = len(folds)\n",
    "\n",
    "for idx_dataset in range(len(datasets)):\n",
    "    diff = [[] for x in range(len(measures_names))]\n",
    "    \n",
    "    for idx_fold in range(len(folds)):\n",
    "        \n",
    "        my_listnet_path = \"../../MQ2008/results_summary/Results_LETOR_\"+folds[idx_fold]+\\\n",
    "            \"_\"+datasets[idx_dataset]+\".csv\"\n",
    "        ranklib_path = \"../../MQ2008/results_summary/Results_RankLib_\"+folds[idx_fold]+\\\n",
    "            \"_\"+datasets[idx_dataset]+\".csv\"\n",
    "\n",
    "        my_listnet_df = pd.read_csv(my_listnet_path)\n",
    "        ranklib_df = pd.read_csv(ranklib_path)\n",
    "        \n",
    "        for idx_metric in range(len(measures_names)):\n",
    "            my_listnet_NDCG = my_listnet_df.iloc[my_listnet_top_model_id][measures_names[idx_metric]]\n",
    "            ranklib_NDCG = ranklib_df.iloc[ranklib_top_model_id][measures_names[idx_metric]]\n",
    "            diff[idx_metric].append(my_listnet_NDCG - ranklib_NDCG)\n",
    "            \n",
    "    for idx_metric in range(len(measures_names)):        \n",
    "        w,p= stats.wilcoxon(diff[idx_metric])\n",
    "        w_score[idx_dataset].append(w)\n",
    "        p_value[idx_dataset].append(p)"
   ]
  },
  {
   "cell_type": "code",
   "execution_count": 16,
   "metadata": {
    "scrolled": false
   },
   "outputs": [
    {
     "data": {
      "image/png": "[encoded data removed]",
      "text/plain": [
       "<Figure size 432x288 with 1 Axes>"
      ]
     },
     "metadata": {
      "needs_background": "light"
     },
     "output_type": "display_data"
    },
    {
     "data": {
      "image/png": "[encoded data removed]",
      "text/plain": [
       "<Figure size 432x288 with 1 Axes>"
      ]
     },
     "metadata": {
      "needs_background": "light"
     },
     "output_type": "display_data"
    },
    {
     "data": {
      "image/png": "[encoded data removed]",
      "text/plain": [
       "<Figure size 432x288 with 1 Axes>"
      ]
     },
     "metadata": {
      "needs_background": "light"
     },
     "output_type": "display_data"
    }
   ],
   "source": [
    "red_patch = mpatches.Patch(color='red', label='p value > '+str(sig_lvl))\n",
    "green_patch = mpatches.Patch(color='green', label='p value < '+str(sig_lvl))\n",
    "for idx_dataset in range(len(datasets)):\n",
    "    colors = []\n",
    "    for idx_metric in range(len(measures_names)):\n",
    "        if p_value[idx_dataset][idx_metric] < sig_lvl:\n",
    "            colors.append(\"green\")\n",
    "        else:\n",
    "            colors.append(\"red\")\n",
    "\n",
    "    ax = plt.figure().add_axes([0,0,1,1])\n",
    "    plt.xticks(rotation=90)\n",
    "    ax.bar(measures_names,p_value[idx_dataset],color=colors)\n",
    "    ax.set_title(\"Wilcoxon's p-value between top model of personal implementation and RankLib (\"+datasets[idx_dataset]+\" set)\")\n",
    "    ax.legend(handles=[red_patch,green_patch])\n",
    "    if any(p > 0.1 for p in p_value[idx_dataset]):\n",
    "        ax.hlines(0.1,-0.5,len(measures_names)-0.5, label=\"p_value > 0.1\")\n",
    "        txt = ax.text(-0.5, 0.1, s=\"p-value > 0.1\", color=\"red\", weight = \"bold\")\n",
    "        txt.set_path_effects([PathEffects.withStroke(linewidth=1.5, foreground='white')])\n",
    "    if any(p > 0.05 for p in p_value[idx_dataset]):\n",
    "        ax.hlines(0.05,-0.5,len(measures_names)-0.5, label=\"p_value > 0.05\")\n",
    "        txt=ax.text(-0.5, 0.05, s=\"p-value > 0.05\", color=\"red\", weight = \"bold\")\n",
    "        txt.set_path_effects([PathEffects.withStroke(linewidth=1.5, foreground='white')])\n",
    "    if any(p > 0.01 for p in p_value[idx_dataset]):\n",
    "        ax.hlines(0.01,-0.5,len(measures_names)-0.5, label=\"p_value > 0.01\")\n",
    "        txt=ax.text(-0.5, 0.01, s=\"p-value > 0.01\", color=\"red\", weight = \"bold\")\n",
    "        txt.set_path_effects([PathEffects.withStroke(linewidth=1.5, foreground='white')])"
   ]
  },
  {
   "cell_type": "code",
   "execution_count": 17,
   "metadata": {},
   "outputs": [
    {
     "data": {
      "text/html": [
       "<style  type=\"text/css\" >\n",
       "</style><table id=\"T_4a146700_0fb1_11eb_9a95_00505607535e\" ><caption>W score</caption><thead>    <tr>        <th class=\"blank level0\" ></th>        <th class=\"col_heading level0 col0\" >P@1</th>        <th class=\"col_heading level0 col1\" >P@2</th>        <th class=\"col_heading level0 col2\" >P@3</th>        <th class=\"col_heading level0 col3\" >P@4</th>        <th class=\"col_heading level0 col4\" >P@5</th>        <th class=\"col_heading level0 col5\" >P@6</th>        <th class=\"col_heading level0 col6\" >P@7</th>        <th class=\"col_heading level0 col7\" >P@8</th>        <th class=\"col_heading level0 col8\" >P@9</th>        <th class=\"col_heading level0 col9\" >P@10</th>        <th class=\"col_heading level0 col10\" >P_Mean</th>        <th class=\"col_heading level0 col11\" >NDCG@1</th>        <th class=\"col_heading level0 col12\" >NDCG@2</th>        <th class=\"col_heading level0 col13\" >NDCG@3</th>        <th class=\"col_heading level0 col14\" >NDCG@4</th>        <th class=\"col_heading level0 col15\" >NDCG@5</th>        <th class=\"col_heading level0 col16\" >NDCG@6</th>        <th class=\"col_heading level0 col17\" >NDCG@7</th>        <th class=\"col_heading level0 col18\" >NDCG@8</th>        <th class=\"col_heading level0 col19\" >NDCG@9</th>        <th class=\"col_heading level0 col20\" >NDCG@10</th>        <th class=\"col_heading level0 col21\" >NDCG_Mean</th>    </tr></thead><tbody>\n",
       "                <tr>\n",
       "                        <th id=\"T_4a146700_0fb1_11eb_9a95_00505607535elevel0_row0\" class=\"row_heading level0 row0\" >train</th>\n",
       "                        <td id=\"T_4a146700_0fb1_11eb_9a95_00505607535erow0_col0\" class=\"data row0 col0\" >1.5</td>\n",
       "                        <td id=\"T_4a146700_0fb1_11eb_9a95_00505607535erow0_col1\" class=\"data row0 col1\" >1</td>\n",
       "                        <td id=\"T_4a146700_0fb1_11eb_9a95_00505607535erow0_col2\" class=\"data row0 col2\" >0</td>\n",
       "                        <td id=\"T_4a146700_0fb1_11eb_9a95_00505607535erow0_col3\" class=\"data row0 col3\" >0</td>\n",
       "                        <td id=\"T_4a146700_0fb1_11eb_9a95_00505607535erow0_col4\" class=\"data row0 col4\" >2</td>\n",
       "                        <td id=\"T_4a146700_0fb1_11eb_9a95_00505607535erow0_col5\" class=\"data row0 col5\" >0</td>\n",
       "                        <td id=\"T_4a146700_0fb1_11eb_9a95_00505607535erow0_col6\" class=\"data row0 col6\" >0</td>\n",
       "                        <td id=\"T_4a146700_0fb1_11eb_9a95_00505607535erow0_col7\" class=\"data row0 col7\" >0</td>\n",
       "                        <td id=\"T_4a146700_0fb1_11eb_9a95_00505607535erow0_col8\" class=\"data row0 col8\" >0</td>\n",
       "                        <td id=\"T_4a146700_0fb1_11eb_9a95_00505607535erow0_col9\" class=\"data row0 col9\" >0</td>\n",
       "                        <td id=\"T_4a146700_0fb1_11eb_9a95_00505607535erow0_col10\" class=\"data row0 col10\" >0</td>\n",
       "                        <td id=\"T_4a146700_0fb1_11eb_9a95_00505607535erow0_col11\" class=\"data row0 col11\" >2</td>\n",
       "                        <td id=\"T_4a146700_0fb1_11eb_9a95_00505607535erow0_col12\" class=\"data row0 col12\" >2</td>\n",
       "                        <td id=\"T_4a146700_0fb1_11eb_9a95_00505607535erow0_col13\" class=\"data row0 col13\" >0</td>\n",
       "                        <td id=\"T_4a146700_0fb1_11eb_9a95_00505607535erow0_col14\" class=\"data row0 col14\" >0</td>\n",
       "                        <td id=\"T_4a146700_0fb1_11eb_9a95_00505607535erow0_col15\" class=\"data row0 col15\" >1</td>\n",
       "                        <td id=\"T_4a146700_0fb1_11eb_9a95_00505607535erow0_col16\" class=\"data row0 col16\" >0</td>\n",
       "                        <td id=\"T_4a146700_0fb1_11eb_9a95_00505607535erow0_col17\" class=\"data row0 col17\" >0</td>\n",
       "                        <td id=\"T_4a146700_0fb1_11eb_9a95_00505607535erow0_col18\" class=\"data row0 col18\" >0</td>\n",
       "                        <td id=\"T_4a146700_0fb1_11eb_9a95_00505607535erow0_col19\" class=\"data row0 col19\" >0</td>\n",
       "                        <td id=\"T_4a146700_0fb1_11eb_9a95_00505607535erow0_col20\" class=\"data row0 col20\" >0</td>\n",
       "                        <td id=\"T_4a146700_0fb1_11eb_9a95_00505607535erow0_col21\" class=\"data row0 col21\" >0</td>\n",
       "            </tr>\n",
       "            <tr>\n",
       "                        <th id=\"T_4a146700_0fb1_11eb_9a95_00505607535elevel0_row1\" class=\"row_heading level0 row1\" >vali</th>\n",
       "                        <td id=\"T_4a146700_0fb1_11eb_9a95_00505607535erow1_col0\" class=\"data row1 col0\" >0</td>\n",
       "                        <td id=\"T_4a146700_0fb1_11eb_9a95_00505607535erow1_col1\" class=\"data row1 col1\" >0</td>\n",
       "                        <td id=\"T_4a146700_0fb1_11eb_9a95_00505607535erow1_col2\" class=\"data row1 col2\" >0</td>\n",
       "                        <td id=\"T_4a146700_0fb1_11eb_9a95_00505607535erow1_col3\" class=\"data row1 col3\" >0</td>\n",
       "                        <td id=\"T_4a146700_0fb1_11eb_9a95_00505607535erow1_col4\" class=\"data row1 col4\" >0</td>\n",
       "                        <td id=\"T_4a146700_0fb1_11eb_9a95_00505607535erow1_col5\" class=\"data row1 col5\" >0</td>\n",
       "                        <td id=\"T_4a146700_0fb1_11eb_9a95_00505607535erow1_col6\" class=\"data row1 col6\" >0</td>\n",
       "                        <td id=\"T_4a146700_0fb1_11eb_9a95_00505607535erow1_col7\" class=\"data row1 col7\" >0</td>\n",
       "                        <td id=\"T_4a146700_0fb1_11eb_9a95_00505607535erow1_col8\" class=\"data row1 col8\" >0</td>\n",
       "                        <td id=\"T_4a146700_0fb1_11eb_9a95_00505607535erow1_col9\" class=\"data row1 col9\" >0</td>\n",
       "                        <td id=\"T_4a146700_0fb1_11eb_9a95_00505607535erow1_col10\" class=\"data row1 col10\" >0</td>\n",
       "                        <td id=\"T_4a146700_0fb1_11eb_9a95_00505607535erow1_col11\" class=\"data row1 col11\" >0</td>\n",
       "                        <td id=\"T_4a146700_0fb1_11eb_9a95_00505607535erow1_col12\" class=\"data row1 col12\" >0</td>\n",
       "                        <td id=\"T_4a146700_0fb1_11eb_9a95_00505607535erow1_col13\" class=\"data row1 col13\" >0</td>\n",
       "                        <td id=\"T_4a146700_0fb1_11eb_9a95_00505607535erow1_col14\" class=\"data row1 col14\" >0</td>\n",
       "                        <td id=\"T_4a146700_0fb1_11eb_9a95_00505607535erow1_col15\" class=\"data row1 col15\" >0</td>\n",
       "                        <td id=\"T_4a146700_0fb1_11eb_9a95_00505607535erow1_col16\" class=\"data row1 col16\" >0</td>\n",
       "                        <td id=\"T_4a146700_0fb1_11eb_9a95_00505607535erow1_col17\" class=\"data row1 col17\" >0</td>\n",
       "                        <td id=\"T_4a146700_0fb1_11eb_9a95_00505607535erow1_col18\" class=\"data row1 col18\" >0</td>\n",
       "                        <td id=\"T_4a146700_0fb1_11eb_9a95_00505607535erow1_col19\" class=\"data row1 col19\" >0</td>\n",
       "                        <td id=\"T_4a146700_0fb1_11eb_9a95_00505607535erow1_col20\" class=\"data row1 col20\" >0</td>\n",
       "                        <td id=\"T_4a146700_0fb1_11eb_9a95_00505607535erow1_col21\" class=\"data row1 col21\" >0</td>\n",
       "            </tr>\n",
       "            <tr>\n",
       "                        <th id=\"T_4a146700_0fb1_11eb_9a95_00505607535elevel0_row2\" class=\"row_heading level0 row2\" >test</th>\n",
       "                        <td id=\"T_4a146700_0fb1_11eb_9a95_00505607535erow2_col0\" class=\"data row2 col0\" >4</td>\n",
       "                        <td id=\"T_4a146700_0fb1_11eb_9a95_00505607535erow2_col1\" class=\"data row2 col1\" >0</td>\n",
       "                        <td id=\"T_4a146700_0fb1_11eb_9a95_00505607535erow2_col2\" class=\"data row2 col2\" >0</td>\n",
       "                        <td id=\"T_4a146700_0fb1_11eb_9a95_00505607535erow2_col3\" class=\"data row2 col3\" >0</td>\n",
       "                        <td id=\"T_4a146700_0fb1_11eb_9a95_00505607535erow2_col4\" class=\"data row2 col4\" >0</td>\n",
       "                        <td id=\"T_4a146700_0fb1_11eb_9a95_00505607535erow2_col5\" class=\"data row2 col5\" >0</td>\n",
       "                        <td id=\"T_4a146700_0fb1_11eb_9a95_00505607535erow2_col6\" class=\"data row2 col6\" >0</td>\n",
       "                        <td id=\"T_4a146700_0fb1_11eb_9a95_00505607535erow2_col7\" class=\"data row2 col7\" >0</td>\n",
       "                        <td id=\"T_4a146700_0fb1_11eb_9a95_00505607535erow2_col8\" class=\"data row2 col8\" >0</td>\n",
       "                        <td id=\"T_4a146700_0fb1_11eb_9a95_00505607535erow2_col9\" class=\"data row2 col9\" >0</td>\n",
       "                        <td id=\"T_4a146700_0fb1_11eb_9a95_00505607535erow2_col10\" class=\"data row2 col10\" >0</td>\n",
       "                        <td id=\"T_4a146700_0fb1_11eb_9a95_00505607535erow2_col11\" class=\"data row2 col11\" >6</td>\n",
       "                        <td id=\"T_4a146700_0fb1_11eb_9a95_00505607535erow2_col12\" class=\"data row2 col12\" >2</td>\n",
       "                        <td id=\"T_4a146700_0fb1_11eb_9a95_00505607535erow2_col13\" class=\"data row2 col13\" >1</td>\n",
       "                        <td id=\"T_4a146700_0fb1_11eb_9a95_00505607535erow2_col14\" class=\"data row2 col14\" >0</td>\n",
       "                        <td id=\"T_4a146700_0fb1_11eb_9a95_00505607535erow2_col15\" class=\"data row2 col15\" >0</td>\n",
       "                        <td id=\"T_4a146700_0fb1_11eb_9a95_00505607535erow2_col16\" class=\"data row2 col16\" >1</td>\n",
       "                        <td id=\"T_4a146700_0fb1_11eb_9a95_00505607535erow2_col17\" class=\"data row2 col17\" >1</td>\n",
       "                        <td id=\"T_4a146700_0fb1_11eb_9a95_00505607535erow2_col18\" class=\"data row2 col18\" >1</td>\n",
       "                        <td id=\"T_4a146700_0fb1_11eb_9a95_00505607535erow2_col19\" class=\"data row2 col19\" >0</td>\n",
       "                        <td id=\"T_4a146700_0fb1_11eb_9a95_00505607535erow2_col20\" class=\"data row2 col20\" >2</td>\n",
       "                        <td id=\"T_4a146700_0fb1_11eb_9a95_00505607535erow2_col21\" class=\"data row2 col21\" >1</td>\n",
       "            </tr>\n",
       "    </tbody></table>"
      ],
      "text/plain": [
       "<pandas.io.formats.style.Styler at 0x7fb12ef23908>"
      ]
     },
     "execution_count": 17,
     "metadata": {},
     "output_type": "execute_result"
    }
   ],
   "source": [
    "w_score_df = pd.DataFrame(w_score, columns = measures_names, index=datasets)\n",
    "w_score_df.style.set_caption(\"W score\")"
   ]
  },
  {
   "cell_type": "code",
   "execution_count": 18,
   "metadata": {},
   "outputs": [
    {
     "data": {
      "text/html": [
       "<style  type=\"text/css\" >\n",
       "</style><table id=\"T_4a6eedce_0fb1_11eb_9a95_00505607535e\" ><caption>P-value score</caption><thead>    <tr>        <th class=\"blank level0\" ></th>        <th class=\"col_heading level0 col0\" >P@1</th>        <th class=\"col_heading level0 col1\" >P@2</th>        <th class=\"col_heading level0 col2\" >P@3</th>        <th class=\"col_heading level0 col3\" >P@4</th>        <th class=\"col_heading level0 col4\" >P@5</th>        <th class=\"col_heading level0 col5\" >P@6</th>        <th class=\"col_heading level0 col6\" >P@7</th>        <th class=\"col_heading level0 col7\" >P@8</th>        <th class=\"col_heading level0 col8\" >P@9</th>        <th class=\"col_heading level0 col9\" >P@10</th>        <th class=\"col_heading level0 col10\" >P_Mean</th>        <th class=\"col_heading level0 col11\" >NDCG@1</th>        <th class=\"col_heading level0 col12\" >NDCG@2</th>        <th class=\"col_heading level0 col13\" >NDCG@3</th>        <th class=\"col_heading level0 col14\" >NDCG@4</th>        <th class=\"col_heading level0 col15\" >NDCG@5</th>        <th class=\"col_heading level0 col16\" >NDCG@6</th>        <th class=\"col_heading level0 col17\" >NDCG@7</th>        <th class=\"col_heading level0 col18\" >NDCG@8</th>        <th class=\"col_heading level0 col19\" >NDCG@9</th>        <th class=\"col_heading level0 col20\" >NDCG@10</th>        <th class=\"col_heading level0 col21\" >NDCG_Mean</th>    </tr></thead><tbody>\n",
       "                <tr>\n",
       "                        <th id=\"T_4a6eedce_0fb1_11eb_9a95_00505607535elevel0_row0\" class=\"row_heading level0 row0\" >train</th>\n",
       "                        <td id=\"T_4a6eedce_0fb1_11eb_9a95_00505607535erow0_col0\" class=\"data row0 col0\" >0.10247</td>\n",
       "                        <td id=\"T_4a6eedce_0fb1_11eb_9a95_00505607535erow0_col1\" class=\"data row0 col1\" >0.144127</td>\n",
       "                        <td id=\"T_4a6eedce_0fb1_11eb_9a95_00505607535erow0_col2\" class=\"data row0 col2\" >0.0431144</td>\n",
       "                        <td id=\"T_4a6eedce_0fb1_11eb_9a95_00505607535erow0_col3\" class=\"data row0 col3\" >0.0431144</td>\n",
       "                        <td id=\"T_4a6eedce_0fb1_11eb_9a95_00505607535erow0_col4\" class=\"data row0 col4\" >0.138011</td>\n",
       "                        <td id=\"T_4a6eedce_0fb1_11eb_9a95_00505607535erow0_col5\" class=\"data row0 col5\" >0.0431144</td>\n",
       "                        <td id=\"T_4a6eedce_0fb1_11eb_9a95_00505607535erow0_col6\" class=\"data row0 col6\" >0.0431144</td>\n",
       "                        <td id=\"T_4a6eedce_0fb1_11eb_9a95_00505607535erow0_col7\" class=\"data row0 col7\" >0.0431144</td>\n",
       "                        <td id=\"T_4a6eedce_0fb1_11eb_9a95_00505607535erow0_col8\" class=\"data row0 col8\" >0.0431144</td>\n",
       "                        <td id=\"T_4a6eedce_0fb1_11eb_9a95_00505607535erow0_col9\" class=\"data row0 col9\" >0.0431144</td>\n",
       "                        <td id=\"T_4a6eedce_0fb1_11eb_9a95_00505607535erow0_col10\" class=\"data row0 col10\" >0.0431144</td>\n",
       "                        <td id=\"T_4a6eedce_0fb1_11eb_9a95_00505607535erow0_col11\" class=\"data row0 col11\" >0.138011</td>\n",
       "                        <td id=\"T_4a6eedce_0fb1_11eb_9a95_00505607535erow0_col12\" class=\"data row0 col12\" >0.138011</td>\n",
       "                        <td id=\"T_4a6eedce_0fb1_11eb_9a95_00505607535erow0_col13\" class=\"data row0 col13\" >0.0431144</td>\n",
       "                        <td id=\"T_4a6eedce_0fb1_11eb_9a95_00505607535erow0_col14\" class=\"data row0 col14\" >0.0431144</td>\n",
       "                        <td id=\"T_4a6eedce_0fb1_11eb_9a95_00505607535erow0_col15\" class=\"data row0 col15\" >0.0796158</td>\n",
       "                        <td id=\"T_4a6eedce_0fb1_11eb_9a95_00505607535erow0_col16\" class=\"data row0 col16\" >0.0431144</td>\n",
       "                        <td id=\"T_4a6eedce_0fb1_11eb_9a95_00505607535erow0_col17\" class=\"data row0 col17\" >0.0431144</td>\n",
       "                        <td id=\"T_4a6eedce_0fb1_11eb_9a95_00505607535erow0_col18\" class=\"data row0 col18\" >0.0431144</td>\n",
       "                        <td id=\"T_4a6eedce_0fb1_11eb_9a95_00505607535erow0_col19\" class=\"data row0 col19\" >0.0431144</td>\n",
       "                        <td id=\"T_4a6eedce_0fb1_11eb_9a95_00505607535erow0_col20\" class=\"data row0 col20\" >0.0431144</td>\n",
       "                        <td id=\"T_4a6eedce_0fb1_11eb_9a95_00505607535erow0_col21\" class=\"data row0 col21\" >0.0431144</td>\n",
       "            </tr>\n",
       "            <tr>\n",
       "                        <th id=\"T_4a6eedce_0fb1_11eb_9a95_00505607535elevel0_row1\" class=\"row_heading level0 row1\" >vali</th>\n",
       "                        <td id=\"T_4a6eedce_0fb1_11eb_9a95_00505607535erow1_col0\" class=\"data row1 col0\" >0.0431144</td>\n",
       "                        <td id=\"T_4a6eedce_0fb1_11eb_9a95_00505607535erow1_col1\" class=\"data row1 col1\" >0.0431144</td>\n",
       "                        <td id=\"T_4a6eedce_0fb1_11eb_9a95_00505607535erow1_col2\" class=\"data row1 col2\" >0.0431144</td>\n",
       "                        <td id=\"T_4a6eedce_0fb1_11eb_9a95_00505607535erow1_col3\" class=\"data row1 col3\" >0.0431144</td>\n",
       "                        <td id=\"T_4a6eedce_0fb1_11eb_9a95_00505607535erow1_col4\" class=\"data row1 col4\" >0.0431144</td>\n",
       "                        <td id=\"T_4a6eedce_0fb1_11eb_9a95_00505607535erow1_col5\" class=\"data row1 col5\" >0.0431144</td>\n",
       "                        <td id=\"T_4a6eedce_0fb1_11eb_9a95_00505607535erow1_col6\" class=\"data row1 col6\" >0.0421682</td>\n",
       "                        <td id=\"T_4a6eedce_0fb1_11eb_9a95_00505607535erow1_col7\" class=\"data row1 col7\" >0.0431144</td>\n",
       "                        <td id=\"T_4a6eedce_0fb1_11eb_9a95_00505607535erow1_col8\" class=\"data row1 col8\" >0.0431144</td>\n",
       "                        <td id=\"T_4a6eedce_0fb1_11eb_9a95_00505607535erow1_col9\" class=\"data row1 col9\" >0.0431144</td>\n",
       "                        <td id=\"T_4a6eedce_0fb1_11eb_9a95_00505607535erow1_col10\" class=\"data row1 col10\" >0.0431144</td>\n",
       "                        <td id=\"T_4a6eedce_0fb1_11eb_9a95_00505607535erow1_col11\" class=\"data row1 col11\" >0.0431144</td>\n",
       "                        <td id=\"T_4a6eedce_0fb1_11eb_9a95_00505607535erow1_col12\" class=\"data row1 col12\" >0.0431144</td>\n",
       "                        <td id=\"T_4a6eedce_0fb1_11eb_9a95_00505607535erow1_col13\" class=\"data row1 col13\" >0.0431144</td>\n",
       "                        <td id=\"T_4a6eedce_0fb1_11eb_9a95_00505607535erow1_col14\" class=\"data row1 col14\" >0.0431144</td>\n",
       "                        <td id=\"T_4a6eedce_0fb1_11eb_9a95_00505607535erow1_col15\" class=\"data row1 col15\" >0.0421682</td>\n",
       "                        <td id=\"T_4a6eedce_0fb1_11eb_9a95_00505607535erow1_col16\" class=\"data row1 col16\" >0.0431144</td>\n",
       "                        <td id=\"T_4a6eedce_0fb1_11eb_9a95_00505607535erow1_col17\" class=\"data row1 col17\" >0.0431144</td>\n",
       "                        <td id=\"T_4a6eedce_0fb1_11eb_9a95_00505607535erow1_col18\" class=\"data row1 col18\" >0.0431144</td>\n",
       "                        <td id=\"T_4a6eedce_0fb1_11eb_9a95_00505607535erow1_col19\" class=\"data row1 col19\" >0.0431144</td>\n",
       "                        <td id=\"T_4a6eedce_0fb1_11eb_9a95_00505607535erow1_col20\" class=\"data row1 col20\" >0.0431144</td>\n",
       "                        <td id=\"T_4a6eedce_0fb1_11eb_9a95_00505607535erow1_col21\" class=\"data row1 col21\" >0.0431144</td>\n",
       "            </tr>\n",
       "            <tr>\n",
       "                        <th id=\"T_4a6eedce_0fb1_11eb_9a95_00505607535elevel0_row2\" class=\"row_heading level0 row2\" >test</th>\n",
       "                        <td id=\"T_4a6eedce_0fb1_11eb_9a95_00505607535erow2_col0\" class=\"data row2 col0\" >0.345231</td>\n",
       "                        <td id=\"T_4a6eedce_0fb1_11eb_9a95_00505607535erow2_col1\" class=\"data row2 col1\" >0.0678892</td>\n",
       "                        <td id=\"T_4a6eedce_0fb1_11eb_9a95_00505607535erow2_col2\" class=\"data row2 col2\" >0.0421682</td>\n",
       "                        <td id=\"T_4a6eedce_0fb1_11eb_9a95_00505607535erow2_col3\" class=\"data row2 col3\" >0.0421682</td>\n",
       "                        <td id=\"T_4a6eedce_0fb1_11eb_9a95_00505607535erow2_col4\" class=\"data row2 col4\" >0.0431144</td>\n",
       "                        <td id=\"T_4a6eedce_0fb1_11eb_9a95_00505607535erow2_col5\" class=\"data row2 col5\" >0.0431144</td>\n",
       "                        <td id=\"T_4a6eedce_0fb1_11eb_9a95_00505607535erow2_col6\" class=\"data row2 col6\" >0.0431144</td>\n",
       "                        <td id=\"T_4a6eedce_0fb1_11eb_9a95_00505607535erow2_col7\" class=\"data row2 col7\" >0.0431144</td>\n",
       "                        <td id=\"T_4a6eedce_0fb1_11eb_9a95_00505607535erow2_col8\" class=\"data row2 col8\" >0.0431144</td>\n",
       "                        <td id=\"T_4a6eedce_0fb1_11eb_9a95_00505607535erow2_col9\" class=\"data row2 col9\" >0.0431144</td>\n",
       "                        <td id=\"T_4a6eedce_0fb1_11eb_9a95_00505607535erow2_col10\" class=\"data row2 col10\" >0.0431144</td>\n",
       "                        <td id=\"T_4a6eedce_0fb1_11eb_9a95_00505607535erow2_col11\" class=\"data row2 col11\" >0.68583</td>\n",
       "                        <td id=\"T_4a6eedce_0fb1_11eb_9a95_00505607535erow2_col12\" class=\"data row2 col12\" >0.138011</td>\n",
       "                        <td id=\"T_4a6eedce_0fb1_11eb_9a95_00505607535erow2_col13\" class=\"data row2 col13\" >0.0796158</td>\n",
       "                        <td id=\"T_4a6eedce_0fb1_11eb_9a95_00505607535erow2_col14\" class=\"data row2 col14\" >0.0431144</td>\n",
       "                        <td id=\"T_4a6eedce_0fb1_11eb_9a95_00505607535erow2_col15\" class=\"data row2 col15\" >0.0431144</td>\n",
       "                        <td id=\"T_4a6eedce_0fb1_11eb_9a95_00505607535erow2_col16\" class=\"data row2 col16\" >0.0796158</td>\n",
       "                        <td id=\"T_4a6eedce_0fb1_11eb_9a95_00505607535erow2_col17\" class=\"data row2 col17\" >0.0796158</td>\n",
       "                        <td id=\"T_4a6eedce_0fb1_11eb_9a95_00505607535erow2_col18\" class=\"data row2 col18\" >0.0796158</td>\n",
       "                        <td id=\"T_4a6eedce_0fb1_11eb_9a95_00505607535erow2_col19\" class=\"data row2 col19\" >0.0431144</td>\n",
       "                        <td id=\"T_4a6eedce_0fb1_11eb_9a95_00505607535erow2_col20\" class=\"data row2 col20\" >0.138011</td>\n",
       "                        <td id=\"T_4a6eedce_0fb1_11eb_9a95_00505607535erow2_col21\" class=\"data row2 col21\" >0.0796158</td>\n",
       "            </tr>\n",
       "    </tbody></table>"
      ],
      "text/plain": [
       "<pandas.io.formats.style.Styler at 0x7fb16c4f1208>"
      ]
     },
     "execution_count": 18,
     "metadata": {},
     "output_type": "execute_result"
    }
   ],
   "source": [
    "p_value_df = pd.DataFrame(p_value, columns = measures_names, index=datasets)\n",
    "p_value_df.style.set_caption(\"P-value score\")"
   ]
  },
  {
   "cell_type": "markdown",
   "metadata": {},
   "source": [
    "# MQ2007"
   ]
  },
  {
   "cell_type": "code",
   "execution_count": 19,
   "metadata": {},
   "outputs": [],
   "source": [
    "folds = [\"fold1\",\"fold2\",\"fold3\",\"fold4\",\"fold5\"]\n",
    "\n",
    "measures_names = [\"P@1\",\"P@2\",\"P@3\",\"P@4\",\"P@5\",\"P@6\",\"P@7\",\"P@8\",\"P@9\",\"P@10\",\"P_Mean\",\n",
    "                  \"NDCG@1\",\"NDCG@2\",\"NDCG@3\",\"NDCG@4\",\"NDCG@5\",\"NDCG@6\",\"NDCG@7\",\"NDCG@8\",\"NDCG@9\",\"NDCG@10\",\n",
    "                  \"NDCG_Mean\"]\n",
    "\n",
    "datasets = [\"train\",\"vali\",\"test\"]"
   ]
  },
  {
   "cell_type": "code",
   "execution_count": 20,
   "metadata": {},
   "outputs": [],
   "source": [
    "dataset_path = \"../../MQ2007/min.txt\"\n",
    "with open(dataset_path) as f:\n",
    "   n = sum(1 for _ in f)\n",
    "\n",
    "n_samples_datasets = [int(0.6*n),int(0.2*n),int(0.2*n)]"
   ]
  },
  {
   "cell_type": "markdown",
   "metadata": {},
   "source": [
    "### NDCG measures for the top models of our personal implementation"
   ]
  },
  {
   "cell_type": "code",
   "execution_count": 21,
   "metadata": {},
   "outputs": [],
   "source": [
    "my_listnet_path = \"../../MQ2007/results_summary/Results_LETOR_global_vali.csv\"\n",
    "my_listnet_df = pd.read_csv(my_listnet_path)\n",
    "\n",
    "my_listnet_df = my_listnet_df.sort_values(['NDCG_Mean'],ascending=False)\n",
    "my_listnet_top_model_id = my_listnet_df.index[0]"
   ]
  },
  {
   "cell_type": "code",
   "execution_count": 22,
   "metadata": {
    "scrolled": true
   },
   "outputs": [
    {
     "data": {
      "text/html": [
       "<div>\n",
       "<style scoped>\n",
       "    .dataframe tbody tr th:only-of-type {\n",
       "        vertical-align: middle;\n",
       "    }\n",
       "\n",
       "    .dataframe tbody tr th {\n",
       "        vertical-align: top;\n",
       "    }\n",
       "\n",
       "    .dataframe thead th {\n",
       "        text-align: right;\n",
       "    }\n",
       "</style>\n",
       "<table border=\"1\" class=\"dataframe\">\n",
       "  <thead>\n",
       "    <tr style=\"text-align: right;\">\n",
       "      <th></th>\n",
       "      <th>epochs</th>\n",
       "      <th>learning_rate</th>\n",
       "      <th>momemtum</th>\n",
       "      <th>activation</th>\n",
       "      <th>inner_act</th>\n",
       "      <th>number_layers</th>\n",
       "      <th>number_neurons</th>\n",
       "      <th>dropout</th>\n",
       "      <th>P@1</th>\n",
       "      <th>P@2</th>\n",
       "      <th>...</th>\n",
       "      <th>NDCG@3</th>\n",
       "      <th>NDCG@4</th>\n",
       "      <th>NDCG@5</th>\n",
       "      <th>NDCG@6</th>\n",
       "      <th>NDCG@7</th>\n",
       "      <th>NDCG@8</th>\n",
       "      <th>NDCG@9</th>\n",
       "      <th>NDCG@10</th>\n",
       "      <th>NDCG_Mean</th>\n",
       "      <th>NDCG_Var</th>\n",
       "    </tr>\n",
       "  </thead>\n",
       "  <tbody>\n",
       "    <tr>\n",
       "      <th>28</th>\n",
       "      <td>600</td>\n",
       "      <td>0.0025</td>\n",
       "      <td>0.5</td>\n",
       "      <td>linear</td>\n",
       "      <td>relu</td>\n",
       "      <td>1.0</td>\n",
       "      <td>100.0</td>\n",
       "      <td>0.65</td>\n",
       "      <td>0.48170</td>\n",
       "      <td>0.46416</td>\n",
       "      <td>...</td>\n",
       "      <td>0.42696</td>\n",
       "      <td>0.43254</td>\n",
       "      <td>0.43758</td>\n",
       "      <td>0.44402</td>\n",
       "      <td>0.44842</td>\n",
       "      <td>0.45414</td>\n",
       "      <td>0.45856</td>\n",
       "      <td>0.46358</td>\n",
       "      <td>0.440786</td>\n",
       "      <td>0.000214</td>\n",
       "    </tr>\n",
       "    <tr>\n",
       "      <th>24</th>\n",
       "      <td>500</td>\n",
       "      <td>0.0025</td>\n",
       "      <td>0.5</td>\n",
       "      <td>linear</td>\n",
       "      <td>relu</td>\n",
       "      <td>1.0</td>\n",
       "      <td>100.0</td>\n",
       "      <td>0.65</td>\n",
       "      <td>0.47636</td>\n",
       "      <td>0.46208</td>\n",
       "      <td>...</td>\n",
       "      <td>0.42340</td>\n",
       "      <td>0.42814</td>\n",
       "      <td>0.43314</td>\n",
       "      <td>0.43840</td>\n",
       "      <td>0.44384</td>\n",
       "      <td>0.44916</td>\n",
       "      <td>0.45376</td>\n",
       "      <td>0.45900</td>\n",
       "      <td>0.436204</td>\n",
       "      <td>0.000208</td>\n",
       "    </tr>\n",
       "    <tr>\n",
       "      <th>30</th>\n",
       "      <td>600</td>\n",
       "      <td>0.0025</td>\n",
       "      <td>0.5</td>\n",
       "      <td>linear</td>\n",
       "      <td>relu</td>\n",
       "      <td>2.0</td>\n",
       "      <td>100.0</td>\n",
       "      <td>0.65</td>\n",
       "      <td>0.47734</td>\n",
       "      <td>0.46052</td>\n",
       "      <td>...</td>\n",
       "      <td>0.42262</td>\n",
       "      <td>0.42822</td>\n",
       "      <td>0.43324</td>\n",
       "      <td>0.43834</td>\n",
       "      <td>0.44328</td>\n",
       "      <td>0.44856</td>\n",
       "      <td>0.45334</td>\n",
       "      <td>0.45890</td>\n",
       "      <td>0.435820</td>\n",
       "      <td>0.000211</td>\n",
       "    </tr>\n",
       "    <tr>\n",
       "      <th>26</th>\n",
       "      <td>500</td>\n",
       "      <td>0.0025</td>\n",
       "      <td>0.5</td>\n",
       "      <td>linear</td>\n",
       "      <td>relu</td>\n",
       "      <td>2.0</td>\n",
       "      <td>100.0</td>\n",
       "      <td>0.65</td>\n",
       "      <td>0.47320</td>\n",
       "      <td>0.45716</td>\n",
       "      <td>...</td>\n",
       "      <td>0.42044</td>\n",
       "      <td>0.42528</td>\n",
       "      <td>0.43004</td>\n",
       "      <td>0.43478</td>\n",
       "      <td>0.43972</td>\n",
       "      <td>0.44456</td>\n",
       "      <td>0.44960</td>\n",
       "      <td>0.45504</td>\n",
       "      <td>0.432546</td>\n",
       "      <td>0.000198</td>\n",
       "    </tr>\n",
       "    <tr>\n",
       "      <th>20</th>\n",
       "      <td>400</td>\n",
       "      <td>0.0025</td>\n",
       "      <td>0.5</td>\n",
       "      <td>linear</td>\n",
       "      <td>relu</td>\n",
       "      <td>1.0</td>\n",
       "      <td>100.0</td>\n",
       "      <td>0.65</td>\n",
       "      <td>0.47952</td>\n",
       "      <td>0.45854</td>\n",
       "      <td>...</td>\n",
       "      <td>0.41716</td>\n",
       "      <td>0.42350</td>\n",
       "      <td>0.42870</td>\n",
       "      <td>0.43358</td>\n",
       "      <td>0.43860</td>\n",
       "      <td>0.44442</td>\n",
       "      <td>0.44964</td>\n",
       "      <td>0.45524</td>\n",
       "      <td>0.432252</td>\n",
       "      <td>0.000188</td>\n",
       "    </tr>\n",
       "  </tbody>\n",
       "</table>\n",
       "<p>5 rows × 32 columns</p>\n",
       "</div>"
      ],
      "text/plain": [
       "    epochs  learning_rate  momemtum activation inner_act  number_layers  \\\n",
       "28     600         0.0025       0.5     linear      relu            1.0   \n",
       "24     500         0.0025       0.5     linear      relu            1.0   \n",
       "30     600         0.0025       0.5     linear      relu            2.0   \n",
       "26     500         0.0025       0.5     linear      relu            2.0   \n",
       "20     400         0.0025       0.5     linear      relu            1.0   \n",
       "\n",
       "    number_neurons  dropout      P@1      P@2  ...   NDCG@3   NDCG@4   NDCG@5  \\\n",
       "28           100.0     0.65  0.48170  0.46416  ...  0.42696  0.43254  0.43758   \n",
       "24           100.0     0.65  0.47636  0.46208  ...  0.42340  0.42814  0.43314   \n",
       "30           100.0     0.65  0.47734  0.46052  ...  0.42262  0.42822  0.43324   \n",
       "26           100.0     0.65  0.47320  0.45716  ...  0.42044  0.42528  0.43004   \n",
       "20           100.0     0.65  0.47952  0.45854  ...  0.41716  0.42350  0.42870   \n",
       "\n",
       "     NDCG@6   NDCG@7   NDCG@8   NDCG@9  NDCG@10  NDCG_Mean  NDCG_Var  \n",
       "28  0.44402  0.44842  0.45414  0.45856  0.46358   0.440786  0.000214  \n",
       "24  0.43840  0.44384  0.44916  0.45376  0.45900   0.436204  0.000208  \n",
       "30  0.43834  0.44328  0.44856  0.45334  0.45890   0.435820  0.000211  \n",
       "26  0.43478  0.43972  0.44456  0.44960  0.45504   0.432546  0.000198  \n",
       "20  0.43358  0.43860  0.44442  0.44964  0.45524   0.432252  0.000188  \n",
       "\n",
       "[5 rows x 32 columns]"
      ]
     },
     "execution_count": 22,
     "metadata": {},
     "output_type": "execute_result"
    }
   ],
   "source": [
    "my_listnet_df.head(5)"
   ]
  },
  {
   "cell_type": "code",
   "execution_count": 23,
   "metadata": {},
   "outputs": [
    {
     "data": {
      "text/plain": [
       "0.430972"
      ]
     },
     "execution_count": 23,
     "metadata": {},
     "output_type": "execute_result"
    }
   ],
   "source": [
    "my_listnet_df.iloc[0][\"P_Mean\"]"
   ]
  },
  {
   "cell_type": "markdown",
   "metadata": {},
   "source": [
    "### NDCG measures for the top models of RankLib implementation"
   ]
  },
  {
   "cell_type": "code",
   "execution_count": 24,
   "metadata": {},
   "outputs": [],
   "source": [
    "ranklib_path = \"../../MQ2007/results_summary/Results_RankLib_global_vali.csv\"\n",
    "ranklib_df = pd.read_csv(ranklib_path)\n",
    "\n",
    "ranklib_df = ranklib_df.sort_values(['NDCG_Mean'],ascending=False)\n",
    "ranklib_top_model_id = ranklib_df.index[0]"
   ]
  },
  {
   "cell_type": "code",
   "execution_count": 25,
   "metadata": {
    "scrolled": true
   },
   "outputs": [
    {
     "data": {
      "text/html": [
       "<div>\n",
       "<style scoped>\n",
       "    .dataframe tbody tr th:only-of-type {\n",
       "        vertical-align: middle;\n",
       "    }\n",
       "\n",
       "    .dataframe tbody tr th {\n",
       "        vertical-align: top;\n",
       "    }\n",
       "\n",
       "    .dataframe thead th {\n",
       "        text-align: right;\n",
       "    }\n",
       "</style>\n",
       "<table border=\"1\" class=\"dataframe\">\n",
       "  <thead>\n",
       "    <tr style=\"text-align: right;\">\n",
       "      <th></th>\n",
       "      <th>epochs</th>\n",
       "      <th>learning_rate</th>\n",
       "      <th>Opti method</th>\n",
       "      <th>P@1</th>\n",
       "      <th>P@2</th>\n",
       "      <th>P@3</th>\n",
       "      <th>P@4</th>\n",
       "      <th>P@5</th>\n",
       "      <th>P@6</th>\n",
       "      <th>P@7</th>\n",
       "      <th>...</th>\n",
       "      <th>NDCG@3</th>\n",
       "      <th>NDCG@4</th>\n",
       "      <th>NDCG@5</th>\n",
       "      <th>NDCG@6</th>\n",
       "      <th>NDCG@7</th>\n",
       "      <th>NDCG@8</th>\n",
       "      <th>NDCG@9</th>\n",
       "      <th>NDCG@10</th>\n",
       "      <th>NDCG_Mean</th>\n",
       "      <th>NDCG_Var</th>\n",
       "    </tr>\n",
       "  </thead>\n",
       "  <tbody>\n",
       "    <tr>\n",
       "      <th>23</th>\n",
       "      <td>1500</td>\n",
       "      <td>0.001</td>\n",
       "      <td>P@10</td>\n",
       "      <td>0.45134</td>\n",
       "      <td>0.43124</td>\n",
       "      <td>0.41496</td>\n",
       "      <td>0.40120</td>\n",
       "      <td>0.39234</td>\n",
       "      <td>0.38526</td>\n",
       "      <td>0.37660</td>\n",
       "      <td>...</td>\n",
       "      <td>0.39238</td>\n",
       "      <td>0.39460</td>\n",
       "      <td>0.39812</td>\n",
       "      <td>0.40378</td>\n",
       "      <td>0.40772</td>\n",
       "      <td>0.41318</td>\n",
       "      <td>0.41816</td>\n",
       "      <td>0.42424</td>\n",
       "      <td>0.402896</td>\n",
       "      <td>0.000145</td>\n",
       "    </tr>\n",
       "    <tr>\n",
       "      <th>31</th>\n",
       "      <td>2000</td>\n",
       "      <td>0.001</td>\n",
       "      <td>NDCG@10</td>\n",
       "      <td>0.45312</td>\n",
       "      <td>0.43146</td>\n",
       "      <td>0.41434</td>\n",
       "      <td>0.40190</td>\n",
       "      <td>0.39294</td>\n",
       "      <td>0.38588</td>\n",
       "      <td>0.37826</td>\n",
       "      <td>...</td>\n",
       "      <td>0.39078</td>\n",
       "      <td>0.39406</td>\n",
       "      <td>0.39794</td>\n",
       "      <td>0.40318</td>\n",
       "      <td>0.40762</td>\n",
       "      <td>0.41292</td>\n",
       "      <td>0.41848</td>\n",
       "      <td>0.42364</td>\n",
       "      <td>0.402724</td>\n",
       "      <td>0.000141</td>\n",
       "    </tr>\n",
       "    <tr>\n",
       "      <th>1</th>\n",
       "      <td>500</td>\n",
       "      <td>0.001</td>\n",
       "      <td>NDCG@10</td>\n",
       "      <td>0.44684</td>\n",
       "      <td>0.43352</td>\n",
       "      <td>0.41478</td>\n",
       "      <td>0.40294</td>\n",
       "      <td>0.39244</td>\n",
       "      <td>0.38544</td>\n",
       "      <td>0.37680</td>\n",
       "      <td>...</td>\n",
       "      <td>0.39194</td>\n",
       "      <td>0.39518</td>\n",
       "      <td>0.39798</td>\n",
       "      <td>0.40342</td>\n",
       "      <td>0.40720</td>\n",
       "      <td>0.41236</td>\n",
       "      <td>0.41786</td>\n",
       "      <td>0.42304</td>\n",
       "      <td>0.402362</td>\n",
       "      <td>0.000146</td>\n",
       "    </tr>\n",
       "    <tr>\n",
       "      <th>3</th>\n",
       "      <td>500</td>\n",
       "      <td>0.001</td>\n",
       "      <td>P@10</td>\n",
       "      <td>0.44858</td>\n",
       "      <td>0.42986</td>\n",
       "      <td>0.41562</td>\n",
       "      <td>0.40236</td>\n",
       "      <td>0.39314</td>\n",
       "      <td>0.38722</td>\n",
       "      <td>0.37918</td>\n",
       "      <td>...</td>\n",
       "      <td>0.39148</td>\n",
       "      <td>0.39386</td>\n",
       "      <td>0.39748</td>\n",
       "      <td>0.40390</td>\n",
       "      <td>0.40822</td>\n",
       "      <td>0.41304</td>\n",
       "      <td>0.41878</td>\n",
       "      <td>0.42406</td>\n",
       "      <td>0.402356</td>\n",
       "      <td>0.000162</td>\n",
       "    </tr>\n",
       "    <tr>\n",
       "      <th>22</th>\n",
       "      <td>1500</td>\n",
       "      <td>0.001</td>\n",
       "      <td>P@5</td>\n",
       "      <td>0.44862</td>\n",
       "      <td>0.43106</td>\n",
       "      <td>0.41634</td>\n",
       "      <td>0.40274</td>\n",
       "      <td>0.39256</td>\n",
       "      <td>0.38542</td>\n",
       "      <td>0.37778</td>\n",
       "      <td>...</td>\n",
       "      <td>0.39202</td>\n",
       "      <td>0.39468</td>\n",
       "      <td>0.39746</td>\n",
       "      <td>0.40340</td>\n",
       "      <td>0.40754</td>\n",
       "      <td>0.41294</td>\n",
       "      <td>0.41792</td>\n",
       "      <td>0.42348</td>\n",
       "      <td>0.402334</td>\n",
       "      <td>0.000151</td>\n",
       "    </tr>\n",
       "  </tbody>\n",
       "</table>\n",
       "<p>5 rows × 27 columns</p>\n",
       "</div>"
      ],
      "text/plain": [
       "    epochs  learning_rate Opti method      P@1      P@2      P@3      P@4  \\\n",
       "23    1500          0.001        P@10  0.45134  0.43124  0.41496  0.40120   \n",
       "31    2000          0.001     NDCG@10  0.45312  0.43146  0.41434  0.40190   \n",
       "1      500          0.001     NDCG@10  0.44684  0.43352  0.41478  0.40294   \n",
       "3      500          0.001        P@10  0.44858  0.42986  0.41562  0.40236   \n",
       "22    1500          0.001         P@5  0.44862  0.43106  0.41634  0.40274   \n",
       "\n",
       "        P@5      P@6      P@7  ...   NDCG@3   NDCG@4   NDCG@5   NDCG@6  \\\n",
       "23  0.39234  0.38526  0.37660  ...  0.39238  0.39460  0.39812  0.40378   \n",
       "31  0.39294  0.38588  0.37826  ...  0.39078  0.39406  0.39794  0.40318   \n",
       "1   0.39244  0.38544  0.37680  ...  0.39194  0.39518  0.39798  0.40342   \n",
       "3   0.39314  0.38722  0.37918  ...  0.39148  0.39386  0.39748  0.40390   \n",
       "22  0.39256  0.38542  0.37778  ...  0.39202  0.39468  0.39746  0.40340   \n",
       "\n",
       "     NDCG@7   NDCG@8   NDCG@9  NDCG@10  NDCG_Mean  NDCG_Var  \n",
       "23  0.40772  0.41318  0.41816  0.42424   0.402896  0.000145  \n",
       "31  0.40762  0.41292  0.41848  0.42364   0.402724  0.000141  \n",
       "1   0.40720  0.41236  0.41786  0.42304   0.402362  0.000146  \n",
       "3   0.40822  0.41304  0.41878  0.42406   0.402356  0.000162  \n",
       "22  0.40754  0.41294  0.41792  0.42348   0.402334  0.000151  \n",
       "\n",
       "[5 rows x 27 columns]"
      ]
     },
     "execution_count": 25,
     "metadata": {},
     "output_type": "execute_result"
    }
   ],
   "source": [
    "ranklib_df.head(5)"
   ]
  },
  {
   "cell_type": "code",
   "execution_count": 26,
   "metadata": {},
   "outputs": [
    {
     "data": {
      "text/plain": [
       "0.394984"
      ]
     },
     "execution_count": 26,
     "metadata": {},
     "output_type": "execute_result"
    }
   ],
   "source": [
    "ranklib_df.iloc[0][\"P_Mean\"]"
   ]
  },
  {
   "cell_type": "markdown",
   "metadata": {},
   "source": [
    "### Comparison NDCG measures between top model of personal ListNet and RankLib"
   ]
  },
  {
   "cell_type": "code",
   "execution_count": 27,
   "metadata": {},
   "outputs": [],
   "source": [
    "my_listnet_mean = [[] for x in range(len(datasets))]\n",
    "my_listnet_var = [[] for x in range(len(datasets))]\n",
    "\n",
    "ranklib_mean = [[] for x in range(len(datasets))]\n",
    "ranklib_var = [[] for x in range(len(datasets))]\n",
    "\n",
    "for idx_dataset in range(len(datasets)):\n",
    "    my_listnet_list_NDCG = [[] for x in range(len(measures_names))]\n",
    "    ranklib_list_NDCG = [[] for x in range(len(measures_names))]\n",
    "    \n",
    "    for idx_fold in range(len(folds)):\n",
    "        \n",
    "        my_listnet_path = \"../../MQ2007/results_summary/Results_LETOR_\"+folds[idx_fold]+\\\n",
    "            \"_\"+datasets[idx_dataset]+\".csv\"\n",
    "        ranklib_path = \"../../MQ2007/results_summary/Results_RankLib_\"+folds[idx_fold]+\\\n",
    "            \"_\"+datasets[idx_dataset]+\".csv\"\n",
    "\n",
    "        my_listnet_df = pd.read_csv(my_listnet_path)\n",
    "        ranklib_df = pd.read_csv(ranklib_path)\n",
    "        \n",
    "        for idx_metric in range(len(measures_names)):\n",
    "            my_listnet_list_NDCG[idx_metric].append(my_listnet_df.iloc[my_listnet_top_model_id][measures_names[idx_metric]])\n",
    "            ranklib_list_NDCG[idx_metric].append(ranklib_df.iloc[ranklib_top_model_id][measures_names[idx_metric]])\n",
    "            \n",
    "    my_listnet_mean[idx_dataset] = np.array(my_listnet_list_NDCG).mean(axis=1)\n",
    "    my_listnet_var[idx_dataset] = np.array(my_listnet_list_NDCG).var(axis=1)\n",
    "    \n",
    "    ranklib_mean[idx_dataset] = np.array(ranklib_list_NDCG).mean(axis=1)\n",
    "    ranklib_var[idx_dataset] = np.array(ranklib_list_NDCG).var(axis=1)"
   ]
  },
  {
   "cell_type": "code",
   "execution_count": 28,
   "metadata": {
    "scrolled": false
   },
   "outputs": [
    {
     "data": {
      "image/png": "[encoded data removed]",
      "text/plain": [
       "<Figure size 432x288 with 1 Axes>"
      ]
     },
     "metadata": {
      "needs_background": "light"
     },
     "output_type": "display_data"
    },
    {
     "data": {
      "image/png": "[encoded data removed]",
      "text/plain": [
       "<Figure size 432x288 with 1 Axes>"
      ]
     },
     "metadata": {
      "needs_background": "light"
     },
     "output_type": "display_data"
    },
    {
     "data": {
      "image/png": "[encoded data removed]",
      "text/plain": [
       "<Figure size 432x288 with 1 Axes>"
      ]
     },
     "metadata": {
      "needs_background": "light"
     },
     "output_type": "display_data"
    }
   ],
   "source": [
    "indices = range(len(measures_names))\n",
    "width = np.min(np.diff(indices))/3.\n",
    "\n",
    "for idx_dataset in range(len(datasets)):\n",
    "    ax = plt.figure().add_axes([0,0,1,1])\n",
    "    plt.xticks(rotation=90)\n",
    "    ax.bar(indices-width/2, my_listnet_mean[idx_dataset],width, yerr = my_listnet_var[idx_dataset],\\\n",
    "           align='center', alpha=0.6, ecolor='black', capsize=5, label = \"ListNet Datafari\")\n",
    "    ax.bar(indices+width/2, ranklib_mean[idx_dataset],width, yerr = ranklib_var[idx_dataset],\\\n",
    "           align='center', alpha=0.6, ecolor='black', capsize=5, label = \"ListNet RankLib\")\n",
    "    ax.set_title(\"Mean NDCG@1-10 measure for \"+datasets[idx_dataset]+\" set with the top model of each implementation\")\n",
    "    ax.set_xticks(indices)\n",
    "    ax.axes.set_xticklabels(measures_names)\n",
    "    ax.set_ylabel(\"NDCG Mean 1-10\")\n",
    "    ax.legend(loc='best')"
   ]
  },
  {
   "cell_type": "markdown",
   "metadata": {},
   "source": [
    "### Comparing NDCG of the top model of each library with Wilcoxon's signed-rank test"
   ]
  },
  {
   "cell_type": "markdown",
   "metadata": {},
   "source": [
    "We will now compare the results by the two bests models of our libraries with the Wilcoxon's signed-rank test\n",
    "- We take the best model of each library\n",
    "- We study how they perform on each folder\n",
    "- We will compare their NDCG values and use them for the Wilcoxon's signed-rank test"
   ]
  },
  {
   "cell_type": "code",
   "execution_count": 29,
   "metadata": {},
   "outputs": [],
   "source": [
    "measures_names = [\"P@1\",\"P@2\",\"P@3\",\"P@4\",\"P@5\",\"P@6\",\"P@7\",\"P@8\",\"P@9\",\"P@10\",\"P_Mean\",\n",
    "                  \"NDCG@1\",\"NDCG@2\",\"NDCG@3\",\"NDCG@4\",\"NDCG@5\",\"NDCG@6\",\"NDCG@7\",\"NDCG@8\",\"NDCG@9\",\"NDCG@10\",\n",
    "                  \"NDCG_Mean\"]\n",
    "\n",
    "w_score = [[] for x in range(len(datasets))]\n",
    "p_value = [[] for x in range(len(datasets))]\n",
    "\n",
    "sig_lvl = 0.05"
   ]
  },
  {
   "cell_type": "code",
   "execution_count": 30,
   "metadata": {},
   "outputs": [],
   "source": [
    "n = len(folds)\n",
    "\n",
    "for idx_dataset in range(len(datasets)):\n",
    "    diff = [[] for x in range(len(measures_names))]\n",
    "    \n",
    "    for idx_fold in range(len(folds)):\n",
    "        \n",
    "        my_listnet_path = \"../../MQ2007/results_summary/Results_LETOR_\"+folds[idx_fold]+\\\n",
    "            \"_\"+datasets[idx_dataset]+\".csv\"\n",
    "        ranklib_path = \"../../MQ2007/results_summary/Results_RankLib_\"+folds[idx_fold]+\\\n",
    "            \"_\"+datasets[idx_dataset]+\".csv\"\n",
    "\n",
    "        my_listnet_df = pd.read_csv(my_listnet_path)\n",
    "        ranklib_df = pd.read_csv(ranklib_path)\n",
    "        \n",
    "        for idx_metric in range(len(measures_names)):\n",
    "            my_listnet_NDCG = my_listnet_df.iloc[my_listnet_top_model_id][measures_names[idx_metric]]\n",
    "            ranklib_NDCG = ranklib_df.iloc[ranklib_top_model_id][measures_names[idx_metric]]\n",
    "            diff[idx_metric].append(my_listnet_NDCG - ranklib_NDCG)\n",
    "            \n",
    "    for idx_metric in range(len(measures_names)):        \n",
    "        w,p= stats.wilcoxon(diff[idx_metric])\n",
    "        w_score[idx_dataset].append(w)\n",
    "        p_value[idx_dataset].append(p)"
   ]
  },
  {
   "cell_type": "code",
   "execution_count": 31,
   "metadata": {},
   "outputs": [
    {
     "data": {
      "image/png": "[encoded data removed]",
      "text/plain": [
       "<Figure size 432x288 with 1 Axes>"
      ]
     },
     "metadata": {
      "needs_background": "light"
     },
     "output_type": "display_data"
    },
    {
     "data": {
      "image/png": "[encoded data removed]",
      "text/plain": [
       "<Figure size 432x288 with 1 Axes>"
      ]
     },
     "metadata": {
      "needs_background": "light"
     },
     "output_type": "display_data"
    },
    {
     "data": {
      "image/png": "[encoded data removed]",
      "text/plain": [
       "<Figure size 432x288 with 1 Axes>"
      ]
     },
     "metadata": {
      "needs_background": "light"
     },
     "output_type": "display_data"
    }
   ],
   "source": [
    "red_patch = mpatches.Patch(color='red', label='p value > '+str(sig_lvl))\n",
    "green_patch = mpatches.Patch(color='green', label='p value < '+str(sig_lvl))\n",
    "for idx_dataset in range(len(datasets)):\n",
    "    colors = []\n",
    "    for idx_metric in range(len(measures_names)):\n",
    "        if p_value[idx_dataset][idx_metric] < sig_lvl:\n",
    "            colors.append(\"green\")\n",
    "        else:\n",
    "            colors.append(\"red\")\n",
    "\n",
    "    ax = plt.figure().add_axes([0,0,1,1])\n",
    "    plt.xticks(rotation=90)\n",
    "    ax.bar(measures_names,p_value[idx_dataset],color=colors)\n",
    "    ax.set_title(\"Wilcoxon's p-value between top model of personal implementation and RankLib (\"+datasets[idx_dataset]+\" set)\")\n",
    "    ax.legend(handles=[red_patch,green_patch])\n",
    "    if any(p > 0.1 for p in p_value[idx_dataset]):\n",
    "        ax.hlines(0.1,-0.5,len(measures_names)-0.5, label=\"p_value > 0.1\")\n",
    "        txt = ax.text(-0.5, 0.1, s=\"p-value > 0.1\", color=\"red\", weight = \"bold\")\n",
    "        txt.set_path_effects([PathEffects.withStroke(linewidth=1.5, foreground='white')])\n",
    "    if any(p > 0.05 for p in p_value[idx_dataset]):\n",
    "        ax.hlines(0.05,-0.5,len(measures_names)-0.5, label=\"p_value > 0.05\")\n",
    "        txt=ax.text(-0.5, 0.05, s=\"p-value > 0.05\", color=\"red\", weight = \"bold\")\n",
    "        txt.set_path_effects([PathEffects.withStroke(linewidth=1.5, foreground='white')])\n",
    "    if any(p > 0.01 for p in p_value[idx_dataset]):\n",
    "        ax.hlines(0.01,-0.5,len(measures_names)-0.5, label=\"p_value > 0.01\")\n",
    "        txt=ax.text(-0.5, 0.01, s=\"p-value > 0.01\", color=\"red\", weight = \"bold\")\n",
    "        txt.set_path_effects([PathEffects.withStroke(linewidth=1.5, foreground='white')])"
   ]
  },
  {
   "cell_type": "code",
   "execution_count": 32,
   "metadata": {},
   "outputs": [
    {
     "data": {
      "text/html": [
       "<style  type=\"text/css\" >\n",
       "</style><table id=\"T_97919e76_0fb1_11eb_9a95_00505607535e\" ><caption>W score</caption><thead>    <tr>        <th class=\"blank level0\" ></th>        <th class=\"col_heading level0 col0\" >P@1</th>        <th class=\"col_heading level0 col1\" >P@2</th>        <th class=\"col_heading level0 col2\" >P@3</th>        <th class=\"col_heading level0 col3\" >P@4</th>        <th class=\"col_heading level0 col4\" >P@5</th>        <th class=\"col_heading level0 col5\" >P@6</th>        <th class=\"col_heading level0 col6\" >P@7</th>        <th class=\"col_heading level0 col7\" >P@8</th>        <th class=\"col_heading level0 col8\" >P@9</th>        <th class=\"col_heading level0 col9\" >P@10</th>        <th class=\"col_heading level0 col10\" >P_Mean</th>        <th class=\"col_heading level0 col11\" >NDCG@1</th>        <th class=\"col_heading level0 col12\" >NDCG@2</th>        <th class=\"col_heading level0 col13\" >NDCG@3</th>        <th class=\"col_heading level0 col14\" >NDCG@4</th>        <th class=\"col_heading level0 col15\" >NDCG@5</th>        <th class=\"col_heading level0 col16\" >NDCG@6</th>        <th class=\"col_heading level0 col17\" >NDCG@7</th>        <th class=\"col_heading level0 col18\" >NDCG@8</th>        <th class=\"col_heading level0 col19\" >NDCG@9</th>        <th class=\"col_heading level0 col20\" >NDCG@10</th>        <th class=\"col_heading level0 col21\" >NDCG_Mean</th>    </tr></thead><tbody>\n",
       "                <tr>\n",
       "                        <th id=\"T_97919e76_0fb1_11eb_9a95_00505607535elevel0_row0\" class=\"row_heading level0 row0\" >train</th>\n",
       "                        <td id=\"T_97919e76_0fb1_11eb_9a95_00505607535erow0_col0\" class=\"data row0 col0\" >1</td>\n",
       "                        <td id=\"T_97919e76_0fb1_11eb_9a95_00505607535erow0_col1\" class=\"data row0 col1\" >0</td>\n",
       "                        <td id=\"T_97919e76_0fb1_11eb_9a95_00505607535erow0_col2\" class=\"data row0 col2\" >0</td>\n",
       "                        <td id=\"T_97919e76_0fb1_11eb_9a95_00505607535erow0_col3\" class=\"data row0 col3\" >0</td>\n",
       "                        <td id=\"T_97919e76_0fb1_11eb_9a95_00505607535erow0_col4\" class=\"data row0 col4\" >0</td>\n",
       "                        <td id=\"T_97919e76_0fb1_11eb_9a95_00505607535erow0_col5\" class=\"data row0 col5\" >0</td>\n",
       "                        <td id=\"T_97919e76_0fb1_11eb_9a95_00505607535erow0_col6\" class=\"data row0 col6\" >0</td>\n",
       "                        <td id=\"T_97919e76_0fb1_11eb_9a95_00505607535erow0_col7\" class=\"data row0 col7\" >0</td>\n",
       "                        <td id=\"T_97919e76_0fb1_11eb_9a95_00505607535erow0_col8\" class=\"data row0 col8\" >0</td>\n",
       "                        <td id=\"T_97919e76_0fb1_11eb_9a95_00505607535erow0_col9\" class=\"data row0 col9\" >0</td>\n",
       "                        <td id=\"T_97919e76_0fb1_11eb_9a95_00505607535erow0_col10\" class=\"data row0 col10\" >0</td>\n",
       "                        <td id=\"T_97919e76_0fb1_11eb_9a95_00505607535erow0_col11\" class=\"data row0 col11\" >1</td>\n",
       "                        <td id=\"T_97919e76_0fb1_11eb_9a95_00505607535erow0_col12\" class=\"data row0 col12\" >0</td>\n",
       "                        <td id=\"T_97919e76_0fb1_11eb_9a95_00505607535erow0_col13\" class=\"data row0 col13\" >0</td>\n",
       "                        <td id=\"T_97919e76_0fb1_11eb_9a95_00505607535erow0_col14\" class=\"data row0 col14\" >0</td>\n",
       "                        <td id=\"T_97919e76_0fb1_11eb_9a95_00505607535erow0_col15\" class=\"data row0 col15\" >0</td>\n",
       "                        <td id=\"T_97919e76_0fb1_11eb_9a95_00505607535erow0_col16\" class=\"data row0 col16\" >0</td>\n",
       "                        <td id=\"T_97919e76_0fb1_11eb_9a95_00505607535erow0_col17\" class=\"data row0 col17\" >0</td>\n",
       "                        <td id=\"T_97919e76_0fb1_11eb_9a95_00505607535erow0_col18\" class=\"data row0 col18\" >0</td>\n",
       "                        <td id=\"T_97919e76_0fb1_11eb_9a95_00505607535erow0_col19\" class=\"data row0 col19\" >0</td>\n",
       "                        <td id=\"T_97919e76_0fb1_11eb_9a95_00505607535erow0_col20\" class=\"data row0 col20\" >0</td>\n",
       "                        <td id=\"T_97919e76_0fb1_11eb_9a95_00505607535erow0_col21\" class=\"data row0 col21\" >0</td>\n",
       "            </tr>\n",
       "            <tr>\n",
       "                        <th id=\"T_97919e76_0fb1_11eb_9a95_00505607535elevel0_row1\" class=\"row_heading level0 row1\" >vali</th>\n",
       "                        <td id=\"T_97919e76_0fb1_11eb_9a95_00505607535erow1_col0\" class=\"data row1 col0\" >0</td>\n",
       "                        <td id=\"T_97919e76_0fb1_11eb_9a95_00505607535erow1_col1\" class=\"data row1 col1\" >0</td>\n",
       "                        <td id=\"T_97919e76_0fb1_11eb_9a95_00505607535erow1_col2\" class=\"data row1 col2\" >0</td>\n",
       "                        <td id=\"T_97919e76_0fb1_11eb_9a95_00505607535erow1_col3\" class=\"data row1 col3\" >0</td>\n",
       "                        <td id=\"T_97919e76_0fb1_11eb_9a95_00505607535erow1_col4\" class=\"data row1 col4\" >0</td>\n",
       "                        <td id=\"T_97919e76_0fb1_11eb_9a95_00505607535erow1_col5\" class=\"data row1 col5\" >0</td>\n",
       "                        <td id=\"T_97919e76_0fb1_11eb_9a95_00505607535erow1_col6\" class=\"data row1 col6\" >0</td>\n",
       "                        <td id=\"T_97919e76_0fb1_11eb_9a95_00505607535erow1_col7\" class=\"data row1 col7\" >0</td>\n",
       "                        <td id=\"T_97919e76_0fb1_11eb_9a95_00505607535erow1_col8\" class=\"data row1 col8\" >0</td>\n",
       "                        <td id=\"T_97919e76_0fb1_11eb_9a95_00505607535erow1_col9\" class=\"data row1 col9\" >0</td>\n",
       "                        <td id=\"T_97919e76_0fb1_11eb_9a95_00505607535erow1_col10\" class=\"data row1 col10\" >0</td>\n",
       "                        <td id=\"T_97919e76_0fb1_11eb_9a95_00505607535erow1_col11\" class=\"data row1 col11\" >0</td>\n",
       "                        <td id=\"T_97919e76_0fb1_11eb_9a95_00505607535erow1_col12\" class=\"data row1 col12\" >0</td>\n",
       "                        <td id=\"T_97919e76_0fb1_11eb_9a95_00505607535erow1_col13\" class=\"data row1 col13\" >0</td>\n",
       "                        <td id=\"T_97919e76_0fb1_11eb_9a95_00505607535erow1_col14\" class=\"data row1 col14\" >0</td>\n",
       "                        <td id=\"T_97919e76_0fb1_11eb_9a95_00505607535erow1_col15\" class=\"data row1 col15\" >0</td>\n",
       "                        <td id=\"T_97919e76_0fb1_11eb_9a95_00505607535erow1_col16\" class=\"data row1 col16\" >0</td>\n",
       "                        <td id=\"T_97919e76_0fb1_11eb_9a95_00505607535erow1_col17\" class=\"data row1 col17\" >0</td>\n",
       "                        <td id=\"T_97919e76_0fb1_11eb_9a95_00505607535erow1_col18\" class=\"data row1 col18\" >0</td>\n",
       "                        <td id=\"T_97919e76_0fb1_11eb_9a95_00505607535erow1_col19\" class=\"data row1 col19\" >0</td>\n",
       "                        <td id=\"T_97919e76_0fb1_11eb_9a95_00505607535erow1_col20\" class=\"data row1 col20\" >0</td>\n",
       "                        <td id=\"T_97919e76_0fb1_11eb_9a95_00505607535erow1_col21\" class=\"data row1 col21\" >0</td>\n",
       "            </tr>\n",
       "            <tr>\n",
       "                        <th id=\"T_97919e76_0fb1_11eb_9a95_00505607535elevel0_row2\" class=\"row_heading level0 row2\" >test</th>\n",
       "                        <td id=\"T_97919e76_0fb1_11eb_9a95_00505607535erow2_col0\" class=\"data row2 col0\" >1</td>\n",
       "                        <td id=\"T_97919e76_0fb1_11eb_9a95_00505607535erow2_col1\" class=\"data row2 col1\" >3</td>\n",
       "                        <td id=\"T_97919e76_0fb1_11eb_9a95_00505607535erow2_col2\" class=\"data row2 col2\" >0</td>\n",
       "                        <td id=\"T_97919e76_0fb1_11eb_9a95_00505607535erow2_col3\" class=\"data row2 col3\" >0</td>\n",
       "                        <td id=\"T_97919e76_0fb1_11eb_9a95_00505607535erow2_col4\" class=\"data row2 col4\" >0</td>\n",
       "                        <td id=\"T_97919e76_0fb1_11eb_9a95_00505607535erow2_col5\" class=\"data row2 col5\" >0</td>\n",
       "                        <td id=\"T_97919e76_0fb1_11eb_9a95_00505607535erow2_col6\" class=\"data row2 col6\" >0</td>\n",
       "                        <td id=\"T_97919e76_0fb1_11eb_9a95_00505607535erow2_col7\" class=\"data row2 col7\" >0</td>\n",
       "                        <td id=\"T_97919e76_0fb1_11eb_9a95_00505607535erow2_col8\" class=\"data row2 col8\" >0</td>\n",
       "                        <td id=\"T_97919e76_0fb1_11eb_9a95_00505607535erow2_col9\" class=\"data row2 col9\" >0</td>\n",
       "                        <td id=\"T_97919e76_0fb1_11eb_9a95_00505607535erow2_col10\" class=\"data row2 col10\" >0</td>\n",
       "                        <td id=\"T_97919e76_0fb1_11eb_9a95_00505607535erow2_col11\" class=\"data row2 col11\" >2</td>\n",
       "                        <td id=\"T_97919e76_0fb1_11eb_9a95_00505607535erow2_col12\" class=\"data row2 col12\" >2</td>\n",
       "                        <td id=\"T_97919e76_0fb1_11eb_9a95_00505607535erow2_col13\" class=\"data row2 col13\" >0</td>\n",
       "                        <td id=\"T_97919e76_0fb1_11eb_9a95_00505607535erow2_col14\" class=\"data row2 col14\" >0</td>\n",
       "                        <td id=\"T_97919e76_0fb1_11eb_9a95_00505607535erow2_col15\" class=\"data row2 col15\" >0</td>\n",
       "                        <td id=\"T_97919e76_0fb1_11eb_9a95_00505607535erow2_col16\" class=\"data row2 col16\" >0</td>\n",
       "                        <td id=\"T_97919e76_0fb1_11eb_9a95_00505607535erow2_col17\" class=\"data row2 col17\" >0</td>\n",
       "                        <td id=\"T_97919e76_0fb1_11eb_9a95_00505607535erow2_col18\" class=\"data row2 col18\" >0</td>\n",
       "                        <td id=\"T_97919e76_0fb1_11eb_9a95_00505607535erow2_col19\" class=\"data row2 col19\" >0</td>\n",
       "                        <td id=\"T_97919e76_0fb1_11eb_9a95_00505607535erow2_col20\" class=\"data row2 col20\" >0</td>\n",
       "                        <td id=\"T_97919e76_0fb1_11eb_9a95_00505607535erow2_col21\" class=\"data row2 col21\" >0</td>\n",
       "            </tr>\n",
       "    </tbody></table>"
      ],
      "text/plain": [
       "<pandas.io.formats.style.Styler at 0x7fb12e956748>"
      ]
     },
     "execution_count": 32,
     "metadata": {},
     "output_type": "execute_result"
    }
   ],
   "source": [
    "w_score_df = pd.DataFrame(w_score, columns = measures_names, index=datasets)\n",
    "w_score_df.style.set_caption(\"W score\")"
   ]
  },
  {
   "cell_type": "code",
   "execution_count": 33,
   "metadata": {},
   "outputs": [
    {
     "data": {
      "text/html": [
       "<style  type=\"text/css\" >\n",
       "</style><table id=\"T_97ef0b9c_0fb1_11eb_9a95_00505607535e\" ><caption>P-value score</caption><thead>    <tr>        <th class=\"blank level0\" ></th>        <th class=\"col_heading level0 col0\" >P@1</th>        <th class=\"col_heading level0 col1\" >P@2</th>        <th class=\"col_heading level0 col2\" >P@3</th>        <th class=\"col_heading level0 col3\" >P@4</th>        <th class=\"col_heading level0 col4\" >P@5</th>        <th class=\"col_heading level0 col5\" >P@6</th>        <th class=\"col_heading level0 col6\" >P@7</th>        <th class=\"col_heading level0 col7\" >P@8</th>        <th class=\"col_heading level0 col8\" >P@9</th>        <th class=\"col_heading level0 col9\" >P@10</th>        <th class=\"col_heading level0 col10\" >P_Mean</th>        <th class=\"col_heading level0 col11\" >NDCG@1</th>        <th class=\"col_heading level0 col12\" >NDCG@2</th>        <th class=\"col_heading level0 col13\" >NDCG@3</th>        <th class=\"col_heading level0 col14\" >NDCG@4</th>        <th class=\"col_heading level0 col15\" >NDCG@5</th>        <th class=\"col_heading level0 col16\" >NDCG@6</th>        <th class=\"col_heading level0 col17\" >NDCG@7</th>        <th class=\"col_heading level0 col18\" >NDCG@8</th>        <th class=\"col_heading level0 col19\" >NDCG@9</th>        <th class=\"col_heading level0 col20\" >NDCG@10</th>        <th class=\"col_heading level0 col21\" >NDCG_Mean</th>    </tr></thead><tbody>\n",
       "                <tr>\n",
       "                        <th id=\"T_97ef0b9c_0fb1_11eb_9a95_00505607535elevel0_row0\" class=\"row_heading level0 row0\" >train</th>\n",
       "                        <td id=\"T_97ef0b9c_0fb1_11eb_9a95_00505607535erow0_col0\" class=\"data row0 col0\" >0.0796158</td>\n",
       "                        <td id=\"T_97ef0b9c_0fb1_11eb_9a95_00505607535erow0_col1\" class=\"data row0 col1\" >0.0678892</td>\n",
       "                        <td id=\"T_97ef0b9c_0fb1_11eb_9a95_00505607535erow0_col2\" class=\"data row0 col2\" >0.0431144</td>\n",
       "                        <td id=\"T_97ef0b9c_0fb1_11eb_9a95_00505607535erow0_col3\" class=\"data row0 col3\" >0.0431144</td>\n",
       "                        <td id=\"T_97ef0b9c_0fb1_11eb_9a95_00505607535erow0_col4\" class=\"data row0 col4\" >0.0431144</td>\n",
       "                        <td id=\"T_97ef0b9c_0fb1_11eb_9a95_00505607535erow0_col5\" class=\"data row0 col5\" >0.0431144</td>\n",
       "                        <td id=\"T_97ef0b9c_0fb1_11eb_9a95_00505607535erow0_col6\" class=\"data row0 col6\" >0.0431144</td>\n",
       "                        <td id=\"T_97ef0b9c_0fb1_11eb_9a95_00505607535erow0_col7\" class=\"data row0 col7\" >0.0431144</td>\n",
       "                        <td id=\"T_97ef0b9c_0fb1_11eb_9a95_00505607535erow0_col8\" class=\"data row0 col8\" >0.0431144</td>\n",
       "                        <td id=\"T_97ef0b9c_0fb1_11eb_9a95_00505607535erow0_col9\" class=\"data row0 col9\" >0.0421682</td>\n",
       "                        <td id=\"T_97ef0b9c_0fb1_11eb_9a95_00505607535erow0_col10\" class=\"data row0 col10\" >0.0431144</td>\n",
       "                        <td id=\"T_97ef0b9c_0fb1_11eb_9a95_00505607535erow0_col11\" class=\"data row0 col11\" >0.0796158</td>\n",
       "                        <td id=\"T_97ef0b9c_0fb1_11eb_9a95_00505607535erow0_col12\" class=\"data row0 col12\" >0.0431144</td>\n",
       "                        <td id=\"T_97ef0b9c_0fb1_11eb_9a95_00505607535erow0_col13\" class=\"data row0 col13\" >0.0431144</td>\n",
       "                        <td id=\"T_97ef0b9c_0fb1_11eb_9a95_00505607535erow0_col14\" class=\"data row0 col14\" >0.0431144</td>\n",
       "                        <td id=\"T_97ef0b9c_0fb1_11eb_9a95_00505607535erow0_col15\" class=\"data row0 col15\" >0.0431144</td>\n",
       "                        <td id=\"T_97ef0b9c_0fb1_11eb_9a95_00505607535erow0_col16\" class=\"data row0 col16\" >0.0431144</td>\n",
       "                        <td id=\"T_97ef0b9c_0fb1_11eb_9a95_00505607535erow0_col17\" class=\"data row0 col17\" >0.0431144</td>\n",
       "                        <td id=\"T_97ef0b9c_0fb1_11eb_9a95_00505607535erow0_col18\" class=\"data row0 col18\" >0.0431144</td>\n",
       "                        <td id=\"T_97ef0b9c_0fb1_11eb_9a95_00505607535erow0_col19\" class=\"data row0 col19\" >0.0431144</td>\n",
       "                        <td id=\"T_97ef0b9c_0fb1_11eb_9a95_00505607535erow0_col20\" class=\"data row0 col20\" >0.0431144</td>\n",
       "                        <td id=\"T_97ef0b9c_0fb1_11eb_9a95_00505607535erow0_col21\" class=\"data row0 col21\" >0.0431144</td>\n",
       "            </tr>\n",
       "            <tr>\n",
       "                        <th id=\"T_97ef0b9c_0fb1_11eb_9a95_00505607535elevel0_row1\" class=\"row_heading level0 row1\" >vali</th>\n",
       "                        <td id=\"T_97ef0b9c_0fb1_11eb_9a95_00505607535erow1_col0\" class=\"data row1 col0\" >0.0431144</td>\n",
       "                        <td id=\"T_97ef0b9c_0fb1_11eb_9a95_00505607535erow1_col1\" class=\"data row1 col1\" >0.0431144</td>\n",
       "                        <td id=\"T_97ef0b9c_0fb1_11eb_9a95_00505607535erow1_col2\" class=\"data row1 col2\" >0.0431144</td>\n",
       "                        <td id=\"T_97ef0b9c_0fb1_11eb_9a95_00505607535erow1_col3\" class=\"data row1 col3\" >0.0431144</td>\n",
       "                        <td id=\"T_97ef0b9c_0fb1_11eb_9a95_00505607535erow1_col4\" class=\"data row1 col4\" >0.0421682</td>\n",
       "                        <td id=\"T_97ef0b9c_0fb1_11eb_9a95_00505607535erow1_col5\" class=\"data row1 col5\" >0.0431144</td>\n",
       "                        <td id=\"T_97ef0b9c_0fb1_11eb_9a95_00505607535erow1_col6\" class=\"data row1 col6\" >0.0431144</td>\n",
       "                        <td id=\"T_97ef0b9c_0fb1_11eb_9a95_00505607535erow1_col7\" class=\"data row1 col7\" >0.0431144</td>\n",
       "                        <td id=\"T_97ef0b9c_0fb1_11eb_9a95_00505607535erow1_col8\" class=\"data row1 col8\" >0.0431144</td>\n",
       "                        <td id=\"T_97ef0b9c_0fb1_11eb_9a95_00505607535erow1_col9\" class=\"data row1 col9\" >0.0431144</td>\n",
       "                        <td id=\"T_97ef0b9c_0fb1_11eb_9a95_00505607535erow1_col10\" class=\"data row1 col10\" >0.0431144</td>\n",
       "                        <td id=\"T_97ef0b9c_0fb1_11eb_9a95_00505607535erow1_col11\" class=\"data row1 col11\" >0.0431144</td>\n",
       "                        <td id=\"T_97ef0b9c_0fb1_11eb_9a95_00505607535erow1_col12\" class=\"data row1 col12\" >0.0431144</td>\n",
       "                        <td id=\"T_97ef0b9c_0fb1_11eb_9a95_00505607535erow1_col13\" class=\"data row1 col13\" >0.0431144</td>\n",
       "                        <td id=\"T_97ef0b9c_0fb1_11eb_9a95_00505607535erow1_col14\" class=\"data row1 col14\" >0.0431144</td>\n",
       "                        <td id=\"T_97ef0b9c_0fb1_11eb_9a95_00505607535erow1_col15\" class=\"data row1 col15\" >0.0431144</td>\n",
       "                        <td id=\"T_97ef0b9c_0fb1_11eb_9a95_00505607535erow1_col16\" class=\"data row1 col16\" >0.0431144</td>\n",
       "                        <td id=\"T_97ef0b9c_0fb1_11eb_9a95_00505607535erow1_col17\" class=\"data row1 col17\" >0.0431144</td>\n",
       "                        <td id=\"T_97ef0b9c_0fb1_11eb_9a95_00505607535erow1_col18\" class=\"data row1 col18\" >0.0431144</td>\n",
       "                        <td id=\"T_97ef0b9c_0fb1_11eb_9a95_00505607535erow1_col19\" class=\"data row1 col19\" >0.0431144</td>\n",
       "                        <td id=\"T_97ef0b9c_0fb1_11eb_9a95_00505607535erow1_col20\" class=\"data row1 col20\" >0.0421682</td>\n",
       "                        <td id=\"T_97ef0b9c_0fb1_11eb_9a95_00505607535erow1_col21\" class=\"data row1 col21\" >0.0431144</td>\n",
       "            </tr>\n",
       "            <tr>\n",
       "                        <th id=\"T_97ef0b9c_0fb1_11eb_9a95_00505607535elevel0_row2\" class=\"row_heading level0 row2\" >test</th>\n",
       "                        <td id=\"T_97ef0b9c_0fb1_11eb_9a95_00505607535erow2_col0\" class=\"data row2 col0\" >0.0796158</td>\n",
       "                        <td id=\"T_97ef0b9c_0fb1_11eb_9a95_00505607535erow2_col1\" class=\"data row2 col1\" >0.224916</td>\n",
       "                        <td id=\"T_97ef0b9c_0fb1_11eb_9a95_00505607535erow2_col2\" class=\"data row2 col2\" >0.0431144</td>\n",
       "                        <td id=\"T_97ef0b9c_0fb1_11eb_9a95_00505607535erow2_col3\" class=\"data row2 col3\" >0.0431144</td>\n",
       "                        <td id=\"T_97ef0b9c_0fb1_11eb_9a95_00505607535erow2_col4\" class=\"data row2 col4\" >0.0431144</td>\n",
       "                        <td id=\"T_97ef0b9c_0fb1_11eb_9a95_00505607535erow2_col5\" class=\"data row2 col5\" >0.0431144</td>\n",
       "                        <td id=\"T_97ef0b9c_0fb1_11eb_9a95_00505607535erow2_col6\" class=\"data row2 col6\" >0.0431144</td>\n",
       "                        <td id=\"T_97ef0b9c_0fb1_11eb_9a95_00505607535erow2_col7\" class=\"data row2 col7\" >0.0431144</td>\n",
       "                        <td id=\"T_97ef0b9c_0fb1_11eb_9a95_00505607535erow2_col8\" class=\"data row2 col8\" >0.0431144</td>\n",
       "                        <td id=\"T_97ef0b9c_0fb1_11eb_9a95_00505607535erow2_col9\" class=\"data row2 col9\" >0.0431144</td>\n",
       "                        <td id=\"T_97ef0b9c_0fb1_11eb_9a95_00505607535erow2_col10\" class=\"data row2 col10\" >0.0431144</td>\n",
       "                        <td id=\"T_97ef0b9c_0fb1_11eb_9a95_00505607535erow2_col11\" class=\"data row2 col11\" >0.138011</td>\n",
       "                        <td id=\"T_97ef0b9c_0fb1_11eb_9a95_00505607535erow2_col12\" class=\"data row2 col12\" >0.138011</td>\n",
       "                        <td id=\"T_97ef0b9c_0fb1_11eb_9a95_00505607535erow2_col13\" class=\"data row2 col13\" >0.0431144</td>\n",
       "                        <td id=\"T_97ef0b9c_0fb1_11eb_9a95_00505607535erow2_col14\" class=\"data row2 col14\" >0.0431144</td>\n",
       "                        <td id=\"T_97ef0b9c_0fb1_11eb_9a95_00505607535erow2_col15\" class=\"data row2 col15\" >0.0431144</td>\n",
       "                        <td id=\"T_97ef0b9c_0fb1_11eb_9a95_00505607535erow2_col16\" class=\"data row2 col16\" >0.0431144</td>\n",
       "                        <td id=\"T_97ef0b9c_0fb1_11eb_9a95_00505607535erow2_col17\" class=\"data row2 col17\" >0.0431144</td>\n",
       "                        <td id=\"T_97ef0b9c_0fb1_11eb_9a95_00505607535erow2_col18\" class=\"data row2 col18\" >0.0431144</td>\n",
       "                        <td id=\"T_97ef0b9c_0fb1_11eb_9a95_00505607535erow2_col19\" class=\"data row2 col19\" >0.0431144</td>\n",
       "                        <td id=\"T_97ef0b9c_0fb1_11eb_9a95_00505607535erow2_col20\" class=\"data row2 col20\" >0.0431144</td>\n",
       "                        <td id=\"T_97ef0b9c_0fb1_11eb_9a95_00505607535erow2_col21\" class=\"data row2 col21\" >0.0431144</td>\n",
       "            </tr>\n",
       "    </tbody></table>"
      ],
      "text/plain": [
       "<pandas.io.formats.style.Styler at 0x7fb12e956390>"
      ]
     },
     "execution_count": 33,
     "metadata": {},
     "output_type": "execute_result"
    }
   ],
   "source": [
    "p_value_df = pd.DataFrame(p_value, columns = measures_names, index=datasets)\n",
    "p_value_df.style.set_caption(\"P-value score\")"
   ]
  },
  {
   "cell_type": "code",
   "execution_count": null,
   "metadata": {},
   "outputs": [],
   "source": []
  },
  {
   "cell_type": "code",
   "execution_count": null,
   "metadata": {},
   "outputs": [],
   "source": []
  }
 ],
 "metadata": {
  "kernelspec": {
   "display_name": "Python 3",
   "language": "python",
   "name": "python3"
  },
  "language_info": {
   "codemirror_mode": {
    "name": "ipython",
    "version": 3
   },
   "file_extension": ".py",
   "mimetype": "text/x-python",
   "name": "python",
   "nbconvert_exporter": "python",
   "pygments_lexer": "ipython3",
   "version": "3.5.3"
  }
 },
 "nbformat": 4,
 "nbformat_minor": 2
}
