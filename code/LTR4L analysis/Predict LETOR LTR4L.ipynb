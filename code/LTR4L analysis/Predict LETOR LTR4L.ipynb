{
 "cells": [
  {
   "cell_type": "code",
   "execution_count": 11,
   "metadata": {},
   "outputs": [],
   "source": [
    "import json\n",
    "\n",
    "from utils import *\n",
    "from Deep_Learning_Tools import *\n",
    "from Data_Tools import *\n",
    "\n",
    "from keras.models import Sequential\n",
    "from keras.layers import Dense,Dropout\n",
    "from keras.optimizers import SGD\n",
    "from keras.regularizers import l1\n",
    "\n",
    "import logging\n",
    "my_seed=1\n",
    "set_libraries_seeds(my_seed) #Important to approach reproductible results \n",
    "#tf.logging.set_verbosity(tf.logging.ERROR) #setting a lower verbosity\n",
    "logging.getLogger(\"tensorflow\").setLevel(logging.ERROR)"
   ]
  },
  {
   "cell_type": "markdown",
   "metadata": {},
   "source": [
    "# MQ2008"
   ]
  },
  {
   "cell_type": "code",
   "execution_count": 2,
   "metadata": {},
   "outputs": [],
   "source": [
    "epochs=[100,500,1000]\n",
    "learning_rates=[0.001,0.075]\n",
    "mon=[0.01,0.1,0.3]\n",
    "out_act=['Identity','Sigmoid']\n",
    "hid_act= ['Identity','Sigmoid','ReLu']\n",
    "number_hidden_layers = [0,1]\n",
    "number_neurons = [15,46]\n"
   ]
  },
  {
   "cell_type": "code",
   "execution_count": 3,
   "metadata": {},
   "outputs": [
    {
     "data": {
      "text/plain": [
       "216"
      ]
     },
     "execution_count": 3,
     "metadata": {},
     "output_type": "execute_result"
    }
   ],
   "source": [
    "len(epochs)*len(learning_rates)*len(mon)*len(out_act)*len(hid_act)\\\n",
    "    *(len(number_hidden_layers)-1)*len(number_neurons)"
   ]
  },
  {
   "cell_type": "code",
   "execution_count": 4,
   "metadata": {},
   "outputs": [],
   "source": [
    "if 0 in number_hidden_layers:\n",
    "    total_it = len(epochs)*len(learning_rates)*len(mon)*len(out_act)\n",
    "    total_it += len(epochs)*len(learning_rates)*len(mon)*len(out_act)*len(hid_act)\\\n",
    "    *(len(number_hidden_layers)-1)*len(number_neurons)\n",
    "else:\n",
    "    total_it = len(epochs)*len(learning_rates)*len(mon)*len(out_act)*len(hid_act)\\\n",
    "    *len(number_hidden_layers)*len(number_neurons)"
   ]
  },
  {
   "cell_type": "code",
   "execution_count": 5,
   "metadata": {},
   "outputs": [
    {
     "data": {
      "text/plain": [
       "252"
      ]
     },
     "execution_count": 5,
     "metadata": {},
     "output_type": "execute_result"
    }
   ],
   "source": [
    "total_it"
   ]
  },
  {
   "cell_type": "code",
   "execution_count": 6,
   "metadata": {
    "scrolled": true
   },
   "outputs": [],
   "source": [
    "### As ltr4l automatically compute the NDCG score without giving the final ranking\n",
    "### we instead use the model created and use it on our datasets with tensorflow\n",
    "\n",
    "act_func_mapper = {\n",
    "    \"Sigmoid\" : \"sigmoid\",\n",
    "    \"ReLu\" : \"relu\",\n",
    "    \"Identity\" : \"linear\"\n",
    "}\n",
    "\n",
    "\n",
    "for fold in [1,2,3,4,5]:\n",
    "    ###GET THE DATASETS\n",
    "    path='../../MQ2008/Fold'+str(fold)+'/'\n",
    "\n",
    "    data_vali=load_data(path+'vali.txt')\n",
    "    data_train=load_data(path+'train.txt')\n",
    "    data_test=load_data(path+'test.txt')\n",
    "    \n",
    "    model_counter = 1\n",
    "\n",
    "    for my_iter in range(total_it):\n",
    "        ###CONSTRUCT THE MODEL ON TENSORFLOW BASED ON THE JSON CONSTRUCTED BY LTR4L\n",
    "        name = \"ltr4l\"+str(model_counter)\n",
    "        \n",
    "        model_path = \"../../MQ2008/Fold\"+str(fold)+\"/models/ltr4l_\"+str(model_counter)+\".json\"\n",
    "        with open(model_path, 'r') as f:\n",
    "            model = json.load(f)\n",
    "        \n",
    "        nb_layers = len(model[\"config\"][\"params\"][\"layers\"])+1\n",
    "        layer_configs = model[\"config\"][\"params\"][\"layers\"]\n",
    "        \n",
    "        x_list_train,y_list_train=get_list_xy(data_train)\n",
    "        modelq = Sequential()\n",
    "        \n",
    "        act = \"linear\"\n",
    "        nb_neurons_out = layer_configs[0][\"num\"]\n",
    "        nb_neurons_in = x_list_train[0].shape[1]\n",
    "        \n",
    "        modelq.add(Dense(nb_neurons_out,input_dim=nb_neurons_in, activation = act))\n",
    "        \n",
    "        ###SETTING THE WEIGTH OF EACH NEURON OF THE EXTERN LAYERS\n",
    "        bias = np.array([item[0] for item in model[\"weights\"][0]])\n",
    "        bias = bias.reshape(nb_neurons_out)\n",
    "        weights = np.array([item[1:] for item in model[\"weights\"][0]])\n",
    "        weights = weights.reshape(nb_neurons_in,nb_neurons_out)\n",
    "\n",
    "        modelq.layers[0].set_weights((weights,bias))\n",
    "        \n",
    "        #opt = SGD(lr=n_, momentum=mom_)\n",
    "\n",
    "        #modelq.compile(loss=Loss_query_keras, optimizer=opt)\n",
    "        \n",
    "        ###SETTING THE HIDDEN LAYERS\n",
    "        for layer in range(1,nb_layers):\n",
    "            act = act_func_mapper[layer_configs[layer-1][\"activator\"]]\n",
    "            nb_neurons_out = 1\n",
    "            nb_neurons_in = layer_configs[layer-1][\"num\"]\n",
    "            if layer < nb_layers-1:\n",
    "                nb_neurons_out = layer_configs[layer][\"num\"]\n",
    "            \n",
    "            modelq.add(Dense(nb_neurons_out,input_dim = nb_neurons_in, activation = act))\n",
    "            \n",
    "            ###SETTING THE WEIGTH OF EACH NEURON OF THE HIDDEN LAYERS\n",
    "            bias = np.array([item[0] for item in model[\"weights\"][layer]])\n",
    "            bias = bias.reshape(nb_neurons_out)\n",
    "            weights = np.array([item[1:] for item in model[\"weights\"][layer]])\n",
    "            weights = weights.reshape(nb_neurons_in,nb_neurons_out)\n",
    "            \n",
    "            modelq.layers[layer].set_weights((weights,bias))\n",
    "\n",
    "            \n",
    "        ###USE THE MODELS TO PREDICT THE RANKING OF EACH SET\n",
    "        y_pred_train=modelq.predict(data_train.drop(['relevance degree','qid'],axis=1)).astype('float64').ravel()\n",
    "        df_train=pd.DataFrame(y_pred_train)\n",
    "        df_train.to_csv(path+'2020_10_02_predictions/y_train_'+name+'.txt',sep=' ',header=False,index=False)\n",
    "\n",
    "        y_pred_vali=modelq.predict(data_vali.drop(['relevance degree','qid'],axis=1)).astype('float64').ravel()\n",
    "        df_vali=pd.DataFrame(y_pred_vali)\n",
    "        df_vali.to_csv(path+'2020_10_02_predictions/y_vali_'+name+'.txt',sep=' ',header=False,index=False)\n",
    "\n",
    "        y_pred_test=modelq.predict(data_test.drop(['relevance degree','qid'],axis=1)).astype('float64').ravel()\n",
    "        df_test=pd.DataFrame(y_pred_test)\n",
    "        df_test.to_csv(path+'2020_10_02_predictions/y_test_'+name+'.txt',sep=' ',header=False,index=False)\n",
    "        \n",
    "        model_counter += 1"
   ]
  },
  {
   "cell_type": "markdown",
   "metadata": {},
   "source": [
    "# MQ2007"
   ]
  },
  {
   "cell_type": "code",
   "execution_count": 12,
   "metadata": {},
   "outputs": [],
   "source": [
    "epochs=[100,500]\n",
    "learning_rates=[0.001,0.075]\n",
    "mon=[0.01,0.1,0.3]\n",
    "out_act=['Identity','Sigmoid']\n",
    "hid_act= ['Identity','Sigmoid','ReLu']\n",
    "number_hidden_layers = [0,1]\n",
    "number_neurons = [15,46]"
   ]
  },
  {
   "cell_type": "code",
   "execution_count": 13,
   "metadata": {},
   "outputs": [],
   "source": [
    "if 0 in number_hidden_layers:\n",
    "    total_it = len(epochs)*len(learning_rates)*len(mon)*len(out_act)\n",
    "    total_it += len(epochs)*len(learning_rates)*len(mon)*len(out_act)*len(hid_act)\\\n",
    "    *(len(number_hidden_layers)-1)*len(number_neurons)\n",
    "else:\n",
    "    total_it = len(epochs)*len(learning_rates)*len(mon)*len(out_act)*len(hid_act)\\\n",
    "    *len(number_hidden_layers)*len(number_neurons)"
   ]
  },
  {
   "cell_type": "code",
   "execution_count": 15,
   "metadata": {
    "scrolled": true
   },
   "outputs": [],
   "source": [
    "### As ltr4l automatically compute the NDCG score without giving the final ranking\n",
    "### we instead use the model created and use it on our datasets with tensorflow\n",
    "\n",
    "\n",
    "act_func_mapper = {\n",
    "    \"Sigmoid\" : \"sigmoid\",\n",
    "    \"ReLu\" : \"relu\",\n",
    "    \"Identity\" : \"linear\"\n",
    "}\n",
    "\n",
    "\n",
    "for fold in [1,2,3,4,5]:\n",
    "    ###CONSTRUCT THE MODEL ON TENSORFLOW BASED ON THE JSON CONSTRUCTED BY LTR4L\n",
    "    \n",
    "    path='../../MQ2007/Fold'+str(fold)+'/'\n",
    "\n",
    "    data_vali=load_data(path+'vali.txt')\n",
    "    data_train=load_data(path+'train.txt')\n",
    "    data_test=load_data(path+'test.txt')\n",
    "    \n",
    "    model_counter = 1\n",
    "\n",
    "    for my_iter in range(total_it):\n",
    "        \n",
    "        name = \"ltr4l\"+str(model_counter)\n",
    "        \n",
    "        model_path = \"../../MQ2007/Fold\"+str(fold)+\"/models/ltr4l_\"+str(model_counter)+\".json\"\n",
    "        with open(model_path, 'r') as f:\n",
    "            model = json.load(f)\n",
    "        \n",
    "        nb_layers = len(model[\"config\"][\"params\"][\"layers\"])+1\n",
    "        layer_configs = model[\"config\"][\"params\"][\"layers\"]\n",
    "        \n",
    "        x_list_train,y_list_train=get_list_xy(data_train)\n",
    "        modelq = Sequential()\n",
    "        \n",
    "        act = \"linear\"\n",
    "        nb_neurons_out = layer_configs[0][\"num\"]\n",
    "        nb_neurons_in = x_list_train[0].shape[1]\n",
    "        \n",
    "        modelq.add(Dense(nb_neurons_out,input_dim=nb_neurons_in, activation = act))\n",
    "        \n",
    "        ###SETTING THE WEIGTH OF EACH NEURON OF THE EXTERN LAYERS\n",
    "        bias = np.array([item[0] for item in model[\"weights\"][0]])\n",
    "        bias = bias.reshape(nb_neurons_out)\n",
    "        weights = np.array([item[1:] for item in model[\"weights\"][0]])\n",
    "        weights = weights.reshape(nb_neurons_in,nb_neurons_out)\n",
    "\n",
    "        modelq.layers[0].set_weights((weights,bias))\n",
    "        \n",
    "        #opt = SGD(lr=n_, momentum=mom_)\n",
    "\n",
    "        #modelq.compile(loss=Loss_query_keras, optimizer=opt)\n",
    "        \n",
    "        ###SETTING THE HIDDEN LAYERS\n",
    "        for layer in range(1,nb_layers):\n",
    "            act = act_func_mapper[layer_configs[layer-1][\"activator\"]]\n",
    "            nb_neurons_out = 1\n",
    "            nb_neurons_in = layer_configs[layer-1][\"num\"]\n",
    "            if layer < nb_layers-1:\n",
    "                nb_neurons_out = layer_configs[layer][\"num\"]\n",
    "            \n",
    "            modelq.add(Dense(nb_neurons_out,input_dim = nb_neurons_in, activation = act))\n",
    "            \n",
    "            ###SETTING THE WEIGTH OF EACH NEURON OF THE HIDDEN LAYERS\n",
    "            bias = np.array([item[0] for item in model[\"weights\"][layer]])\n",
    "            bias = bias.reshape(nb_neurons_out)\n",
    "            weights = np.array([item[1:] for item in model[\"weights\"][layer]])\n",
    "            weights = weights.reshape(nb_neurons_in,nb_neurons_out)\n",
    "            \n",
    "            modelq.layers[layer].set_weights((weights,bias))\n",
    "\n",
    "        ###USE THE MODELS TO PREDICT THE RANKING OF EACH SET\n",
    "        y_pred_train=modelq.predict(data_train.drop(['relevance degree','qid'],axis=1)).astype('float64').ravel()\n",
    "        df_train=pd.DataFrame(y_pred_train)\n",
    "        df_train.to_csv(path+'new_predictions/y_train_'+name+'.txt',sep=' ',header=False,index=False)\n",
    "\n",
    "        y_pred_vali=modelq.predict(data_vali.drop(['relevance degree','qid'],axis=1)).astype('float64').ravel()\n",
    "        df_vali=pd.DataFrame(y_pred_vali)\n",
    "        df_vali.to_csv(path+'new_predictions/y_vali_'+name+'.txt',sep=' ',header=False,index=False)\n",
    "\n",
    "\n",
    "        y_pred_test=modelq.predict(data_test.drop(['relevance degree','qid'],axis=1)).astype('float64').ravel()\n",
    "        df_test=pd.DataFrame(y_pred_test)\n",
    "        df_test.to_csv(path+'new_predictions/y_test_'+name+'.txt',sep=' ',header=False,index=False)\n",
    "        \n",
    "        model_counter += 1"
   ]
  },
  {
   "cell_type": "code",
   "execution_count": null,
   "metadata": {},
   "outputs": [],
   "source": []
  }
 ],
 "metadata": {
  "kernelspec": {
   "display_name": "Python 3",
   "language": "python",
   "name": "python3"
  },
  "language_info": {
   "codemirror_mode": {
    "name": "ipython",
    "version": 3
   },
   "file_extension": ".py",
   "mimetype": "text/x-python",
   "name": "python",
   "nbconvert_exporter": "python",
   "pygments_lexer": "ipython3",
   "version": "3.5.3"
  }
 },
 "nbformat": 4,
 "nbformat_minor": 2
}
