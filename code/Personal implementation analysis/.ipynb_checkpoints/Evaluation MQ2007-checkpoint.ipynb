{
 "cells": [
  {
   "cell_type": "code",
   "execution_count": 1,
   "metadata": {},
   "outputs": [],
   "source": [
    "from Evaluation_tools import *\n",
    "import os"
   ]
  },
  {
   "cell_type": "markdown",
   "metadata": {},
   "source": [
    "# Evaluating Linear models"
   ]
  },
  {
   "cell_type": "markdown",
   "metadata": {},
   "source": [
    "It is important to know the number of models produced in the gridsearch. In this case, we have 80 models, with indexes ranging from 1 to 80"
   ]
  },
  {
   "cell_type": "code",
   "execution_count": 2,
   "metadata": {},
   "outputs": [
    {
     "data": {
      "text/plain": [
       "0"
      ]
     },
     "execution_count": 2,
     "metadata": {},
     "output_type": "execute_result"
    }
   ],
   "source": [
    "path_of_script='./script_test.sh'\n",
    "low_bound=1\n",
    "high_bound=16\n",
    "name='LETOR'#name that we gave to the linear models\n",
    "data_fold='MQ2007'#Folder we are gpoing to inspect... LETOR 4\n",
    "set_evaluation_script(low_bound,high_bound,Folds=[1,2,3,4,5],\n",
    "                      path_of_script=path_of_script,\n",
    "                      data_fold=data_fold,name=name)\n",
    "os.system(path_of_script)"
   ]
  },
  {
   "cell_type": "markdown",
   "metadata": {},
   "source": [
    "One must provide the same hyper parameters used in the training process (and in the same order), so it is possible to associate a performance with a set of hyperparameters. In the following examples we provide an example gridsearch, with only two values for epochs, learning rate, and momentum. Also we evaluate the influence of the chosen features on the metrics\n",
    "\n",
    "#### There might be some other hyperparameter combination that produces a better output, Nonetheless, we found that most of the best models found are in this area"
   ]
  },
  {
   "cell_type": "code",
   "execution_count": 3,
   "metadata": {},
   "outputs": [],
   "source": [
    "name='LETOR'#name that we gave to the linear models\n",
    "from itertools import product\n",
    "epochs=[500,1000]\n",
    "learning_rate=[0.001,0.075]\n",
    "mon=[0.3,0.5]\n",
    "act=['sigmoid','linear']\n",
    "\n",
    "columns=[\"epochs\",\"learning_rate\",\"momemtum\",\"activation\"]\n",
    "dt_linear=pd.DataFrame(columns=columns)\n",
    "\n",
    "#this lines changes according to the number of hyperparameters used.\n",
    "#it is the same order as in the trainning process\n",
    "for i in (product(epochs,learning_rate,mon,act)):\n",
    "    dt_linear=dt_linear.append(dict(zip(columns,i)),ignore_index=True)\n",
    "\n",
    "metrics_df=get_summary_metrics(low_bound,high_bound,return_test=True,\n",
    "                               name=name,Folds=[1,2,3,4,5],data_fold=data_fold)\n",
    "#optional... we could leave the precision as well if we wanted to evaluate it\n",
    "metrics_df=metrics_df.drop(['Precision mean 1-10 train',\n",
    "                            'Precision mean 1-10 vali',\n",
    "                            'Precision mean 1-10 test'],axis=1)\n",
    "hyper_params=dt_linear.iloc[:metrics_df.shape[0],:]\n",
    "perf=hyper_params.join(metrics_df, how='outer')"
   ]
  },
  {
   "cell_type": "markdown",
   "metadata": {},
   "source": [
    "### Linear regression"
   ]
  },
  {
   "cell_type": "code",
   "execution_count": 4,
   "metadata": {},
   "outputs": [
    {
     "data": {
      "text/html": [
       "<div>\n",
       "<style scoped>\n",
       "    .dataframe tbody tr th:only-of-type {\n",
       "        vertical-align: middle;\n",
       "    }\n",
       "\n",
       "    .dataframe tbody tr th {\n",
       "        vertical-align: top;\n",
       "    }\n",
       "\n",
       "    .dataframe thead th {\n",
       "        text-align: right;\n",
       "    }\n",
       "</style>\n",
       "<table border=\"1\" class=\"dataframe\">\n",
       "  <thead>\n",
       "    <tr style=\"text-align: right;\">\n",
       "      <th></th>\n",
       "      <th>epochs</th>\n",
       "      <th>learning_rate</th>\n",
       "      <th>momemtum</th>\n",
       "      <th>activation</th>\n",
       "      <th>NDCG mean 1-10 train</th>\n",
       "      <th>NDCG mean 1-10 vali</th>\n",
       "      <th>NDCG mean 1-10 test</th>\n",
       "    </tr>\n",
       "  </thead>\n",
       "  <tbody>\n",
       "    <tr>\n",
       "      <th>0</th>\n",
       "      <td>1000</td>\n",
       "      <td>0.001</td>\n",
       "      <td>0.5</td>\n",
       "      <td>linear</td>\n",
       "      <td>0.422088</td>\n",
       "      <td>0.426244</td>\n",
       "      <td>0.421084</td>\n",
       "    </tr>\n",
       "  </tbody>\n",
       "</table>\n",
       "</div>"
      ],
      "text/plain": [
       "  epochs  learning_rate  momemtum activation  NDCG mean 1-10 train  \\\n",
       "0   1000          0.001       0.5     linear              0.422088   \n",
       "\n",
       "   NDCG mean 1-10 vali  NDCG mean 1-10 test  \n",
       "0             0.426244             0.421084  "
      ]
     },
     "execution_count": 4,
     "metadata": {},
     "output_type": "execute_result"
    }
   ],
   "source": [
    "perf[perf['activation']=='linear'].sort_values(['NDCG mean 1-10 vali'],ascending=False).head(5)"
   ]
  },
  {
   "cell_type": "code",
   "execution_count": 5,
   "metadata": {},
   "outputs": [
    {
     "data": {
      "text/html": [
       "<div>\n",
       "<style scoped>\n",
       "    .dataframe tbody tr th:only-of-type {\n",
       "        vertical-align: middle;\n",
       "    }\n",
       "\n",
       "    .dataframe tbody tr th {\n",
       "        vertical-align: top;\n",
       "    }\n",
       "\n",
       "    .dataframe thead th {\n",
       "        text-align: right;\n",
       "    }\n",
       "</style>\n",
       "<table border=\"1\" class=\"dataframe\">\n",
       "  <thead>\n",
       "    <tr style=\"text-align: right;\">\n",
       "      <th></th>\n",
       "      <th>epochs</th>\n",
       "      <th>learning_rate</th>\n",
       "      <th>momemtum</th>\n",
       "      <th>activation</th>\n",
       "      <th>NDCG mean 1-10 train</th>\n",
       "      <th>NDCG mean 1-10 vali</th>\n",
       "      <th>NDCG mean 1-10 test</th>\n",
       "    </tr>\n",
       "  </thead>\n",
       "  <tbody>\n",
       "    <tr>\n",
       "      <th>0</th>\n",
       "      <td>1000</td>\n",
       "      <td>0.001</td>\n",
       "      <td>0.5</td>\n",
       "      <td>linear</td>\n",
       "      <td>0.422088</td>\n",
       "      <td>0.426244</td>\n",
       "      <td>0.421084</td>\n",
       "    </tr>\n",
       "  </tbody>\n",
       "</table>\n",
       "</div>"
      ],
      "text/plain": [
       "  epochs  learning_rate  momemtum activation  NDCG mean 1-10 train  \\\n",
       "0   1000          0.001       0.5     linear              0.422088   \n",
       "\n",
       "   NDCG mean 1-10 vali  NDCG mean 1-10 test  \n",
       "0             0.426244             0.421084  "
      ]
     },
     "execution_count": 5,
     "metadata": {},
     "output_type": "execute_result"
    }
   ],
   "source": [
    "perf[perf['activation']=='linear'].sort_values(['NDCG mean 1-10 test'],ascending=False).head(5)"
   ]
  },
  {
   "cell_type": "markdown",
   "metadata": {},
   "source": [
    "### Logistic regression"
   ]
  },
  {
   "cell_type": "code",
   "execution_count": 6,
   "metadata": {},
   "outputs": [
    {
     "data": {
      "text/html": [
       "<div>\n",
       "<style scoped>\n",
       "    .dataframe tbody tr th:only-of-type {\n",
       "        vertical-align: middle;\n",
       "    }\n",
       "\n",
       "    .dataframe tbody tr th {\n",
       "        vertical-align: top;\n",
       "    }\n",
       "\n",
       "    .dataframe thead th {\n",
       "        text-align: right;\n",
       "    }\n",
       "</style>\n",
       "<table border=\"1\" class=\"dataframe\">\n",
       "  <thead>\n",
       "    <tr style=\"text-align: right;\">\n",
       "      <th></th>\n",
       "      <th>epochs</th>\n",
       "      <th>learning_rate</th>\n",
       "      <th>momemtum</th>\n",
       "      <th>activation</th>\n",
       "      <th>NDCG mean 1-10 train</th>\n",
       "      <th>NDCG mean 1-10 vali</th>\n",
       "      <th>NDCG mean 1-10 test</th>\n",
       "    </tr>\n",
       "  </thead>\n",
       "  <tbody>\n",
       "  </tbody>\n",
       "</table>\n",
       "</div>"
      ],
      "text/plain": [
       "Empty DataFrame\n",
       "Columns: [epochs, learning_rate, momemtum, activation, NDCG mean 1-10 train, NDCG mean 1-10 vali, NDCG mean 1-10 test]\n",
       "Index: []"
      ]
     },
     "execution_count": 6,
     "metadata": {},
     "output_type": "execute_result"
    }
   ],
   "source": [
    "perf[perf['activation']=='sigmoid'].sort_values(['NDCG mean 1-10 vali'],ascending=False).head(5)"
   ]
  },
  {
   "cell_type": "code",
   "execution_count": 7,
   "metadata": {},
   "outputs": [
    {
     "data": {
      "text/html": [
       "<div>\n",
       "<style scoped>\n",
       "    .dataframe tbody tr th:only-of-type {\n",
       "        vertical-align: middle;\n",
       "    }\n",
       "\n",
       "    .dataframe tbody tr th {\n",
       "        vertical-align: top;\n",
       "    }\n",
       "\n",
       "    .dataframe thead th {\n",
       "        text-align: right;\n",
       "    }\n",
       "</style>\n",
       "<table border=\"1\" class=\"dataframe\">\n",
       "  <thead>\n",
       "    <tr style=\"text-align: right;\">\n",
       "      <th></th>\n",
       "      <th>epochs</th>\n",
       "      <th>learning_rate</th>\n",
       "      <th>momemtum</th>\n",
       "      <th>activation</th>\n",
       "      <th>NDCG mean 1-10 train</th>\n",
       "      <th>NDCG mean 1-10 vali</th>\n",
       "      <th>NDCG mean 1-10 test</th>\n",
       "    </tr>\n",
       "  </thead>\n",
       "  <tbody>\n",
       "  </tbody>\n",
       "</table>\n",
       "</div>"
      ],
      "text/plain": [
       "Empty DataFrame\n",
       "Columns: [epochs, learning_rate, momemtum, activation, NDCG mean 1-10 train, NDCG mean 1-10 vali, NDCG mean 1-10 test]\n",
       "Index: []"
      ]
     },
     "execution_count": 7,
     "metadata": {},
     "output_type": "execute_result"
    }
   ],
   "source": [
    "perf[perf['activation']=='sigmoid'].sort_values(['NDCG mean 1-10 test'],ascending=False).head(5)"
   ]
  },
  {
   "cell_type": "markdown",
   "metadata": {},
   "source": [
    "# Evaluating NN"
   ]
  },
  {
   "cell_type": "code",
   "execution_count": 9,
   "metadata": {},
   "outputs": [
    {
     "data": {
      "text/plain": [
       "0"
      ]
     },
     "execution_count": 9,
     "metadata": {},
     "output_type": "execute_result"
    }
   ],
   "source": [
    "path_of_script='./script_test.sh'\n",
    "low_bound=1\n",
    "high_bound=16\n",
    "name='LETOR_NN'\n",
    "data_fold='MQ2007'\n",
    "set_evaluation_script(low_bound,high_bound,Folds=[1,2,3,4,5],\n",
    "                      path_of_script=path_of_script,\n",
    "                      data_fold=data_fold,name=name)\n",
    "os.system(path_of_script)"
   ]
  },
  {
   "cell_type": "code",
   "execution_count": 9,
   "metadata": {},
   "outputs": [],
   "source": [
    "from itertools import product\n",
    "epochs=[300,400,500,600]\n",
    "learning_rate=[0.0025]\n",
    "mon=[0.5]\n",
    "act=['linear']\n",
    "inner_act=['relu']\n",
    "number_layers=[1,2]\n",
    "number_neurons=[100]\n",
    "dropout=[0.65,0.8]\n",
    "\n",
    "columns=[\"epochs\",\"learning_rate\",\"momemtum\",\"activation\",\n",
    "         \"inner_act\",\"number_layers\",\"number_neurons\",\"dropout\"]\n",
    "dt_NN=pd.DataFrame(columns=columns)\n",
    "\n",
    "for i in (product(epochs,learning_rate,mon,act,inner_act,\n",
    "                  number_layers,number_neurons,dropout)):\n",
    "    dt_NN=dt_NN.append(dict(zip(columns,i)),ignore_index=True)\n",
    "\n",
    "metrics_df=get_summary_metrics(low_bound,high_bound,return_test=True,\n",
    "                               name=name,Folds=[1,2,3,4,5],data_fold=data_fold)\n",
    "#optional... we could leave the precision as well if we wanted to evaluate it\n",
    "metrics_df=metrics_df.drop(['Precision mean 1-10 train',\n",
    "                            'Precision mean 1-10 vali',\n",
    "                            'Precision mean 1-10 test'],axis=1)\n",
    "hyper_params=dt_NN.iloc[:metrics_df.shape[0],:]\n",
    "perf=hyper_params.join(metrics_df, how='outer')"
   ]
  },
  {
   "cell_type": "code",
   "execution_count": 10,
   "metadata": {
    "scrolled": true
   },
   "outputs": [
    {
     "data": {
      "text/html": [
       "<div>\n",
       "<style scoped>\n",
       "    .dataframe tbody tr th:only-of-type {\n",
       "        vertical-align: middle;\n",
       "    }\n",
       "\n",
       "    .dataframe tbody tr th {\n",
       "        vertical-align: top;\n",
       "    }\n",
       "\n",
       "    .dataframe thead th {\n",
       "        text-align: right;\n",
       "    }\n",
       "</style>\n",
       "<table border=\"1\" class=\"dataframe\">\n",
       "  <thead>\n",
       "    <tr style=\"text-align: right;\">\n",
       "      <th></th>\n",
       "      <th>epochs</th>\n",
       "      <th>learning_rate</th>\n",
       "      <th>momemtum</th>\n",
       "      <th>activation</th>\n",
       "      <th>inner_act</th>\n",
       "      <th>number_layers</th>\n",
       "      <th>number_neurons</th>\n",
       "      <th>dropout</th>\n",
       "      <th>NDCG mean 1-10 train</th>\n",
       "      <th>NDCG mean 1-10 vali</th>\n",
       "      <th>NDCG mean 1-10 test</th>\n",
       "    </tr>\n",
       "  </thead>\n",
       "  <tbody>\n",
       "    <tr>\n",
       "      <td>6</td>\n",
       "      <td>400</td>\n",
       "      <td>0.0025</td>\n",
       "      <td>0.5</td>\n",
       "      <td>linear</td>\n",
       "      <td>relu</td>\n",
       "      <td>2</td>\n",
       "      <td>100</td>\n",
       "      <td>0.65</td>\n",
       "      <td>0.422074</td>\n",
       "      <td>0.429804</td>\n",
       "      <td>0.425120</td>\n",
       "    </tr>\n",
       "    <tr>\n",
       "      <td>14</td>\n",
       "      <td>600</td>\n",
       "      <td>0.0025</td>\n",
       "      <td>0.5</td>\n",
       "      <td>linear</td>\n",
       "      <td>relu</td>\n",
       "      <td>2</td>\n",
       "      <td>100</td>\n",
       "      <td>0.65</td>\n",
       "      <td>0.423094</td>\n",
       "      <td>0.435820</td>\n",
       "      <td>0.423778</td>\n",
       "    </tr>\n",
       "    <tr>\n",
       "      <td>10</td>\n",
       "      <td>500</td>\n",
       "      <td>0.0025</td>\n",
       "      <td>0.5</td>\n",
       "      <td>linear</td>\n",
       "      <td>relu</td>\n",
       "      <td>2</td>\n",
       "      <td>100</td>\n",
       "      <td>0.65</td>\n",
       "      <td>0.423714</td>\n",
       "      <td>0.432546</td>\n",
       "      <td>0.423344</td>\n",
       "    </tr>\n",
       "    <tr>\n",
       "      <td>13</td>\n",
       "      <td>600</td>\n",
       "      <td>0.0025</td>\n",
       "      <td>0.5</td>\n",
       "      <td>linear</td>\n",
       "      <td>relu</td>\n",
       "      <td>1</td>\n",
       "      <td>100</td>\n",
       "      <td>0.80</td>\n",
       "      <td>0.421122</td>\n",
       "      <td>0.429386</td>\n",
       "      <td>0.423340</td>\n",
       "    </tr>\n",
       "    <tr>\n",
       "      <td>2</td>\n",
       "      <td>300</td>\n",
       "      <td>0.0025</td>\n",
       "      <td>0.5</td>\n",
       "      <td>linear</td>\n",
       "      <td>relu</td>\n",
       "      <td>2</td>\n",
       "      <td>100</td>\n",
       "      <td>0.65</td>\n",
       "      <td>0.419168</td>\n",
       "      <td>0.426102</td>\n",
       "      <td>0.422748</td>\n",
       "    </tr>\n",
       "    <tr>\n",
       "      <td>8</td>\n",
       "      <td>500</td>\n",
       "      <td>0.0025</td>\n",
       "      <td>0.5</td>\n",
       "      <td>linear</td>\n",
       "      <td>relu</td>\n",
       "      <td>1</td>\n",
       "      <td>100</td>\n",
       "      <td>0.65</td>\n",
       "      <td>0.423214</td>\n",
       "      <td>0.436204</td>\n",
       "      <td>0.422424</td>\n",
       "    </tr>\n",
       "    <tr>\n",
       "      <td>0</td>\n",
       "      <td>300</td>\n",
       "      <td>0.0025</td>\n",
       "      <td>0.5</td>\n",
       "      <td>linear</td>\n",
       "      <td>relu</td>\n",
       "      <td>1</td>\n",
       "      <td>100</td>\n",
       "      <td>0.65</td>\n",
       "      <td>0.418622</td>\n",
       "      <td>0.428344</td>\n",
       "      <td>0.421386</td>\n",
       "    </tr>\n",
       "    <tr>\n",
       "      <td>9</td>\n",
       "      <td>500</td>\n",
       "      <td>0.0025</td>\n",
       "      <td>0.5</td>\n",
       "      <td>linear</td>\n",
       "      <td>relu</td>\n",
       "      <td>1</td>\n",
       "      <td>100</td>\n",
       "      <td>0.80</td>\n",
       "      <td>0.420546</td>\n",
       "      <td>0.427596</td>\n",
       "      <td>0.420874</td>\n",
       "    </tr>\n",
       "    <tr>\n",
       "      <td>4</td>\n",
       "      <td>400</td>\n",
       "      <td>0.0025</td>\n",
       "      <td>0.5</td>\n",
       "      <td>linear</td>\n",
       "      <td>relu</td>\n",
       "      <td>1</td>\n",
       "      <td>100</td>\n",
       "      <td>0.65</td>\n",
       "      <td>0.419756</td>\n",
       "      <td>0.432252</td>\n",
       "      <td>0.420692</td>\n",
       "    </tr>\n",
       "    <tr>\n",
       "      <td>12</td>\n",
       "      <td>600</td>\n",
       "      <td>0.0025</td>\n",
       "      <td>0.5</td>\n",
       "      <td>linear</td>\n",
       "      <td>relu</td>\n",
       "      <td>1</td>\n",
       "      <td>100</td>\n",
       "      <td>0.65</td>\n",
       "      <td>0.423562</td>\n",
       "      <td>0.440786</td>\n",
       "      <td>0.420468</td>\n",
       "    </tr>\n",
       "  </tbody>\n",
       "</table>\n",
       "</div>"
      ],
      "text/plain": [
       "   epochs  learning_rate  momemtum activation inner_act number_layers  \\\n",
       "6     400         0.0025       0.5     linear      relu             2   \n",
       "14    600         0.0025       0.5     linear      relu             2   \n",
       "10    500         0.0025       0.5     linear      relu             2   \n",
       "13    600         0.0025       0.5     linear      relu             1   \n",
       "2     300         0.0025       0.5     linear      relu             2   \n",
       "8     500         0.0025       0.5     linear      relu             1   \n",
       "0     300         0.0025       0.5     linear      relu             1   \n",
       "9     500         0.0025       0.5     linear      relu             1   \n",
       "4     400         0.0025       0.5     linear      relu             1   \n",
       "12    600         0.0025       0.5     linear      relu             1   \n",
       "\n",
       "   number_neurons  dropout  NDCG mean 1-10 train  NDCG mean 1-10 vali  \\\n",
       "6             100     0.65              0.422074             0.429804   \n",
       "14            100     0.65              0.423094             0.435820   \n",
       "10            100     0.65              0.423714             0.432546   \n",
       "13            100     0.80              0.421122             0.429386   \n",
       "2             100     0.65              0.419168             0.426102   \n",
       "8             100     0.65              0.423214             0.436204   \n",
       "0             100     0.65              0.418622             0.428344   \n",
       "9             100     0.80              0.420546             0.427596   \n",
       "4             100     0.65              0.419756             0.432252   \n",
       "12            100     0.65              0.423562             0.440786   \n",
       "\n",
       "    NDCG mean 1-10 test  \n",
       "6              0.425120  \n",
       "14             0.423778  \n",
       "10             0.423344  \n",
       "13             0.423340  \n",
       "2              0.422748  \n",
       "8              0.422424  \n",
       "0              0.421386  \n",
       "9              0.420874  \n",
       "4              0.420692  \n",
       "12             0.420468  "
      ]
     },
     "execution_count": 10,
     "metadata": {},
     "output_type": "execute_result"
    }
   ],
   "source": [
    "perf.sort_values(['NDCG mean 1-10 test'],ascending=False).head(10)"
   ]
  },
  {
   "cell_type": "markdown",
   "metadata": {},
   "source": [
    "**Very close to the baseline, still not far away from the performance obtained with linear models**"
   ]
  },
  {
   "cell_type": "markdown",
   "metadata": {},
   "source": [
    "# Converting results to CSV"
   ]
  },
  {
   "cell_type": "code",
   "execution_count": 11,
   "metadata": {},
   "outputs": [
    {
     "name": "stderr",
     "output_type": "stream",
     "text": [
      "/home/keustor/anaconda3/lib/python3.7/site-packages/ipykernel_launcher.py:1: FutureWarning: Sorting because non-concatenation axis is not aligned. A future version\n",
      "of pandas will change to not sort by default.\n",
      "\n",
      "To accept the future behavior, pass 'sort=False'.\n",
      "\n",
      "To retain the current behavior and silence the warning, pass 'sort=True'.\n",
      "\n",
      "  \"\"\"Entry point for launching an IPython kernel.\n"
     ]
    }
   ],
   "source": [
    "dt = pd.concat([dt_linear,dt_NN], ignore_index=True)[columns]"
   ]
  },
  {
   "cell_type": "code",
   "execution_count": 12,
   "metadata": {},
   "outputs": [],
   "source": [
    "write_metrics_to_csv(low_bound,high_bound,return_test=True,\n",
    "                     names=['LETOR','LETOR_NN'],Folds=[1,2,3,4,5],data_fold=data_fold,\n",
    "                     model_dataframe = dt)"
   ]
  },
  {
   "cell_type": "code",
   "execution_count": null,
   "metadata": {},
   "outputs": [],
   "source": []
  }
 ],
 "metadata": {
  "kernelspec": {
   "display_name": "Python 3",
   "language": "python",
   "name": "python3"
  },
  "language_info": {
   "codemirror_mode": {
    "name": "ipython",
    "version": 3
   },
   "file_extension": ".py",
   "mimetype": "text/x-python",
   "name": "python",
   "nbconvert_exporter": "python",
   "pygments_lexer": "ipython3",
   "version": "3.5.3"
  }
 },
 "nbformat": 4,
 "nbformat_minor": 2
}
