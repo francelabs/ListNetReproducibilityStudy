{
 "cells": [
  {
   "cell_type": "code",
   "execution_count": 1,
   "metadata": {},
   "outputs": [],
   "source": [
    "import numpy as np\n",
    "import pandas as pd\n",
    "import os\n",
    "from script_maker import *"
   ]
  },
  {
   "cell_type": "markdown",
   "metadata": {},
   "source": [
    "# Predict MQ2008 dataset"
   ]
  },
  {
   "cell_type": "code",
   "execution_count": 2,
   "metadata": {},
   "outputs": [],
   "source": [
    "path_of_script=\"./ranklib_predict_MQ2008.sh\"\n",
    "data_fold='MQ2008'\n",
    "\n",
    "epochs=[500,1000,1500,2000]\n",
    "learning_rates=[0.001,0.00001] #there are no other options for ranklib\n",
    "metrics = ['NDCG@5','NDCG@10','P@5','P@10','ERR@10']\n",
    "\n",
    "total_it = len(epochs)*len(learning_rates)*len(metrics)\n",
    "\n",
    "Folds = [1,2,3,4,5]"
   ]
  },
  {
   "cell_type": "code",
   "execution_count": 3,
   "metadata": {},
   "outputs": [
    {
     "data": {
      "text/plain": [
       "0"
      ]
     },
     "execution_count": 3,
     "metadata": {},
     "output_type": "execute_result"
    }
   ],
   "source": [
    "set_predict_script(Folds,path_of_script,data_fold,total_it)\n",
    "os.system(path_of_script)"
   ]
  },
  {
   "cell_type": "markdown",
   "metadata": {},
   "source": [
    "# Predict MQ2007 dataset"
   ]
  },
  {
   "cell_type": "code",
   "execution_count": 4,
   "metadata": {},
   "outputs": [],
   "source": [
    "path_of_script=\"./ranklib_predict_MQ2007.sh\"\n",
    "data_fold='MQ2007'\n",
    "\n",
    "epochs=[500,1000,1500,2000]\n",
    "learning_rates=[0.001,0.00001] #there are no other options for ranklib\n",
    "metrics = ['NDCG@5','NDCG@10','P@5','P@10','ERR@10']\n",
    "\n",
    "total_it = len(epochs)*len(learning_rates)*len(metrics)\n",
    "\n",
    "Folds = [1,2,3,4,5]"
   ]
  },
  {
   "cell_type": "code",
   "execution_count": 5,
   "metadata": {},
   "outputs": [
    {
     "data": {
      "text/plain": [
       "0"
      ]
     },
     "execution_count": 5,
     "metadata": {},
     "output_type": "execute_result"
    }
   ],
   "source": [
    "set_predict_script(Folds,path_of_script,data_fold,total_it)\n",
    "os.system(path_of_script)"
   ]
  },
  {
   "cell_type": "code",
   "execution_count": null,
   "metadata": {},
   "outputs": [],
   "source": []
  }
 ],
 "metadata": {
  "kernelspec": {
   "display_name": "Python 3",
   "language": "python",
   "name": "python3"
  },
  "language_info": {
   "codemirror_mode": {
    "name": "ipython",
    "version": 3
   },
   "file_extension": ".py",
   "mimetype": "text/x-python",
   "name": "python",
   "nbconvert_exporter": "python",
   "pygments_lexer": "ipython3",
   "version": "3.5.3"
  }
 },
 "nbformat": 4,
 "nbformat_minor": 2
}
