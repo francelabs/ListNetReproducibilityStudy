{
 "cells": [
  {
   "cell_type": "code",
   "execution_count": 1,
   "metadata": {},
   "outputs": [],
   "source": [
    "import numpy as np\n",
    "import pandas as pd\n",
    "import os\n",
    "from script_maker import *"
   ]
  },
  {
   "cell_type": "markdown",
   "metadata": {},
   "source": [
    "# RankLib\n",
    "\n",
    "This library implements the ListNet algorithm. We will apply it on the LETOR dataset in order to compare its results with ours."
   ]
  },
  {
   "cell_type": "markdown",
   "metadata": {},
   "source": [
    "In this implementation, few parameters can be changed. Among these we find:\n",
    "* The number of iterations which can be changed freely.\n",
    "* The learning rate which can only take the values 0.001 or 0.00001.\n",
    "* The metric used to optimize the training of our model.\n",
    "* The features to be considered by the learner can be freely selected.\n",
    "\n",
    "For the rest of the parameters, be aware that:\n",
    "* There are only two layers, no hidden layers can be added\n",
    "* The activation function for each layer is hardcoded to the sigmoid function"
   ]
  },
  {
   "cell_type": "markdown",
   "metadata": {},
   "source": [
    "# How to run RankLib"
   ]
  },
  {
   "cell_type": "markdown",
   "metadata": {},
   "source": [
    "- Download the RankLib jar file : https://sourceforge.net/p/lemur/wiki/RankLib%20Installation/\n",
    "- Place the jar file in this folder"
   ]
  },
  {
   "cell_type": "markdown",
   "metadata": {},
   "source": [
    "# Reproducing the same results "
   ]
  },
  {
   "cell_type": "markdown",
   "metadata": {},
   "source": [
    "The RankLib library doesn't implement any feature to set the seed used to initialize the Neural Networks. Therefore, by retraining the models the final results might be slightly different from what is written in the Desire paper.\n",
    "\n",
    "However, the models we used to get the results written in the Desire paper have been kept in this repository. To find the same results, don't run this code and directly pass to the prediction part."
   ]
  },
  {
   "cell_type": "markdown",
   "metadata": {},
   "source": [
    "### RankLib for MQ2008"
   ]
  },
  {
   "cell_type": "code",
   "execution_count": 2,
   "metadata": {},
   "outputs": [],
   "source": [
    "path_of_script=\"./ranklib_run_MQ2008.sh\"\n",
    "data_fold='MQ2008'\n",
    "\n",
    "epochs=[500,1000,1500,2000]\n",
    "learning_rates=[0.001,0.00001] #there are no other options for ranklib\n",
    "metrics = ['NDCG@5','NDCG@10','P@5','P@10','ERR@10']\n",
    "\n",
    "set_train_script(path_of_script=path_of_script, epochs=epochs, learning_rates=learning_rates, metrics=metrics)\n",
    "\n",
    "#os.system(path_of_script)\n",
    "###For unknown reasons, running the script through jupyter cannot capture the training time, it must be run \n",
    "###directly through the terminal for that."
   ]
  },
  {
   "cell_type": "markdown",
   "metadata": {},
   "source": [
    "### RankLib for MQ2007"
   ]
  },
  {
   "cell_type": "code",
   "execution_count": 3,
   "metadata": {},
   "outputs": [],
   "source": [
    "path_of_script=\"./ranklib_run_MQ2007.sh\"\n",
    "data_fold='MQ2007'\n",
    "\n",
    "epochs=[500,1000,1500,2000]\n",
    "learning_rates=[0.001,0.00001] #there are no other options for ranklib\n",
    "metrics = ['NDCG@5','NDCG@10','P@5','P@10','ERR@10']\n",
    "\n",
    "set_train_script(data_fold = data_fold, path_of_script=path_of_script, epochs=epochs, learning_rates=learning_rates, metrics=metrics)\n",
    "\n",
    "#os.system(path_of_script)\n",
    "###For unknown reasons, running the script through jupyter cannot capture the training time, it must be run \n",
    "###directly through the terminal for that."
   ]
  },
  {
   "cell_type": "code",
   "execution_count": null,
   "metadata": {},
   "outputs": [],
   "source": []
  }
 ],
 "metadata": {
  "kernelspec": {
   "display_name": "Python 3",
   "language": "python",
   "name": "python3"
  },
  "language_info": {
   "codemirror_mode": {
    "name": "ipython",
    "version": 3
   },
   "file_extension": ".py",
   "mimetype": "text/x-python",
   "name": "python",
   "nbconvert_exporter": "python",
   "pygments_lexer": "ipython3",
   "version": "3.5.3"
  }
 },
 "nbformat": 4,
 "nbformat_minor": 2
}
