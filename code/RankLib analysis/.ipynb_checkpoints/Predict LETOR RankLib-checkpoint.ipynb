{
 "cells": [
  {
   "cell_type": "code",
   "execution_count": 1,
   "metadata": {},
   "outputs": [],
   "source": [
    "import numpy as np\n",
    "import pandas as pd\n",
    "import os\n",
    "from script_maker import *"
   ]
  },
  {
   "cell_type": "markdown",
   "metadata": {},
   "source": [
    "# Predict MQ2008 dataset"
   ]
  },
  {
   "cell_type": "code",
   "execution_count": 2,
   "metadata": {},
   "outputs": [],
   "source": [
    "path_of_script=\"./ranklib_predict_MQ2008.sh\"\n",
    "data_fold='MQ2008'\n",
    "\n",
    "epochs=[500,1000,1500,2000]\n",
    "learning_rates=[0.001,0.00001] #there are no other options for ranklib\n",
    "metrics = ['NDCG@5','NDCG@10','P@5','P@10','ERR@10']\n",
    "use_enterprise_features = [True,False]\n",
    "\n",
    "total_it = len(epochs)*len(learning_rates)*len(use_enterprise_features)*len(metrics)\n",
    "\n",
    "Folds = [1,2,3,4,5]"
   ]
  },
  {
   "cell_type": "code",
   "execution_count": 3,
   "metadata": {},
   "outputs": [
    {
     "ename": "NameError",
     "evalue": "name 'path' is not defined",
     "output_type": "error",
     "traceback": [
      "\u001b[0;31m---------------------------------------------------------------------------\u001b[0m",
      "\u001b[0;31mNameError\u001b[0m                                 Traceback (most recent call last)",
      "\u001b[0;32m<ipython-input-3-99b2a9ff9ddf>\u001b[0m in \u001b[0;36m<module>\u001b[0;34m\u001b[0m\n\u001b[1;32m      1\u001b[0m \u001b[0mset_predict_script\u001b[0m\u001b[0;34m(\u001b[0m\u001b[0mFolds\u001b[0m\u001b[0;34m,\u001b[0m\u001b[0mpath_of_script\u001b[0m\u001b[0;34m,\u001b[0m\u001b[0mdata_fold\u001b[0m\u001b[0;34m,\u001b[0m\u001b[0mtotal_it\u001b[0m\u001b[0;34m)\u001b[0m\u001b[0;34m\u001b[0m\u001b[0;34m\u001b[0m\u001b[0m\n\u001b[0;32m----> 2\u001b[0;31m \u001b[0mos\u001b[0m\u001b[0;34m.\u001b[0m\u001b[0msystem\u001b[0m\u001b[0;34m(\u001b[0m\u001b[0mpath\u001b[0m\u001b[0;34m)\u001b[0m\u001b[0;34m\u001b[0m\u001b[0;34m\u001b[0m\u001b[0m\n\u001b[0m",
      "\u001b[0;31mNameError\u001b[0m: name 'path' is not defined"
     ]
    }
   ],
   "source": [
    "set_predict_script(Folds,path_of_script,data_fold,total_it)\n",
    "os.system(path_of_script)"
   ]
  },
  {
   "cell_type": "markdown",
   "metadata": {},
   "source": [
    "# Predict MQ2007 dataset"
   ]
  },
  {
   "cell_type": "code",
   "execution_count": null,
   "metadata": {},
   "outputs": [],
   "source": [
    "path_of_script=\"./ranklib_predict_MQ2007.sh\"\n",
    "data_fold='MQ2007'\n",
    "\n",
    "epochs=[500,1000,1500,2000]\n",
    "learning_rates=[0.001,0.00001] #there are no other options for ranklib\n",
    "metrics = ['NDCG@5','NDCG@10','P@5','P@10','ERR@10']\n",
    "use_enterprise_features = [True,False]\n",
    "\n",
    "total_it = len(epochs)*len(learning_rates)*len(use_enterprise_features)*len(metrics)\n",
    "\n",
    "Folds = [1,2,3,4,5]"
   ]
  },
  {
   "cell_type": "code",
   "execution_count": null,
   "metadata": {},
   "outputs": [],
   "source": [
    "set_predict_script(Folds,path_of_script,data_fold,total_it)\n",
    "os.system(path_of_script)"
   ]
  },
  {
   "cell_type": "code",
   "execution_count": null,
   "metadata": {},
   "outputs": [],
   "source": []
  }
 ],
 "metadata": {
  "kernelspec": {
   "display_name": "Python 3",
   "language": "python",
   "name": "python3"
  },
  "language_info": {
   "codemirror_mode": {
    "name": "ipython",
    "version": 3
   },
   "file_extension": ".py",
   "mimetype": "text/x-python",
   "name": "python",
   "nbconvert_exporter": "python",
   "pygments_lexer": "ipython3",
   "version": "3.7.4"
  }
 },
 "nbformat": 4,
 "nbformat_minor": 2
}
